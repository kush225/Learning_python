{
 "cells": [
  {
   "cell_type": "code",
   "execution_count": 1,
   "metadata": {},
   "outputs": [],
   "source": [
    "#Closures\n",
    "#In Simple Terms, Closure is a inner function that remembers and\n",
    "#has access to variables in the local scope in which they are created even after the outer function has finished executing."
   ]
  },
  {
   "cell_type": "code",
   "execution_count": 2,
   "metadata": {},
   "outputs": [
    {
     "name": "stdout",
     "output_type": "stream",
     "text": [
      "Hola\n"
     ]
    }
   ],
   "source": [
    "def outer_func():\n",
    "    msg='Hola'\n",
    "    \n",
    "    def inner_func():\n",
    "        print(msg)\n",
    "        \n",
    "    return inner_func()\n",
    "\n",
    "outer_func()\n",
    "#first outer_function gets executed which assigns 'Hola' to variable msg. then inner_func() is called.\n",
    "#it prints msg variable which is not in it's local scope, so it checks it in enclosing scope and prints the value"
   ]
  },
  {
   "cell_type": "code",
   "execution_count": 3,
   "metadata": {},
   "outputs": [],
   "source": [
    "#same above example with some modification\n",
    "\n",
    "def outer_func():\n",
    "    msg='Hola'\n",
    "    \n",
    "    def inner_func():\n",
    "        print(msg)\n",
    "        \n",
    "    return inner_func\n",
    "\n",
    "my_func=outer_func()  #now my_func is a function containing value of function \"inner_func\""
   ]
  },
  {
   "cell_type": "code",
   "execution_count": 4,
   "metadata": {},
   "outputs": [
    {
     "name": "stdout",
     "output_type": "stream",
     "text": [
      "<function outer_func.<locals>.inner_func at 0x7f70fc6750d0>\n",
      "inner_func\n"
     ]
    }
   ],
   "source": [
    "print(my_func)\n",
    "print(my_func.__name__)"
   ]
  },
  {
   "cell_type": "code",
   "execution_count": 5,
   "metadata": {},
   "outputs": [
    {
     "name": "stdout",
     "output_type": "stream",
     "text": [
      "Hola\n"
     ]
    }
   ],
   "source": [
    "#now if i execute my_func as function\n",
    "my_func()              \n",
    "#it will print the msg value as like above example. my_func was equal to outer_func whose execution was over but inner_func whic is return still have access to msg variable, thats what a closure is."
   ]
  },
  {
   "cell_type": "code",
   "execution_count": 8,
   "metadata": {},
   "outputs": [
    {
     "name": "stdout",
     "output_type": "stream",
     "text": [
      "hi kushagra\n",
      "hello kushagra\n"
     ]
    }
   ],
   "source": [
    "#Closure example with parameters\n",
    "def outer_func(message):\n",
    "    msg=message\n",
    "    \n",
    "    def inner_func():\n",
    "        print(msg+' kushagra')\n",
    "        \n",
    "    return inner_func\n",
    "\n",
    "hi_func=outer_func(\"hi\")\n",
    "hi_func()\n",
    "hello_func=outer_func(\"hello\")\n",
    "hello_func()"
   ]
  }
 ],
 "metadata": {
  "kernelspec": {
   "display_name": "Python 3",
   "language": "python",
   "name": "python3"
  },
  "language_info": {
   "codemirror_mode": {
    "name": "ipython",
    "version": 3
   },
   "file_extension": ".py",
   "mimetype": "text/x-python",
   "name": "python",
   "nbconvert_exporter": "python",
   "pygments_lexer": "ipython3",
   "version": "3.7.3"
  }
 },
 "nbformat": 4,
 "nbformat_minor": 2
}
