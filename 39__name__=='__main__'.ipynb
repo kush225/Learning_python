{
 "cells": [
  {
   "cell_type": "code",
   "execution_count": 9,
   "metadata": {},
   "outputs": [
    {
     "name": "stdout",
     "output_type": "stream",
     "text": [
      "Name: __main__\n"
     ]
    }
   ],
   "source": [
    "#when we run python program some variables are first set up by default.\n",
    "#__name__ is one of variable which is set to __main__ when run directly but if we import the module it will take the value of module name\n",
    "print(\"Name: {}\".format(__name__))"
   ]
  },
  {
   "cell_type": "code",
   "execution_count": 10,
   "metadata": {},
   "outputs": [
    {
     "data": {
      "text/plain": [
       "'print(\"Name: {}\".format(__name__))'"
      ]
     },
     "execution_count": 10,
     "metadata": {},
     "output_type": "execute_result"
    }
   ],
   "source": [
    "#Example\n",
    "import subprocess\n",
    "subprocess.getoutput(\"cat module.py\")\n",
    "#we can see that module.py has same code as above statement. and now if i import it "
   ]
  },
  {
   "cell_type": "code",
   "execution_count": 15,
   "metadata": {},
   "outputs": [
    {
     "name": "stdout",
     "output_type": "stream",
     "text": [
      "Name: module\n"
     ]
    }
   ],
   "source": [
    "import module\n",
    "#in place of \"__name__\" module is there as are not running it directly we are importing it."
   ]
  },
  {
   "cell_type": "code",
   "execution_count": 17,
   "metadata": {},
   "outputs": [
    {
     "name": "stdout",
     "output_type": "stream",
     "text": [
      "Name: __main__\n"
     ]
    }
   ],
   "source": [
    "#In python this is used alot\n",
    "def main():\n",
    "    print(\"Name: {}\".format(__name__))\n",
    "\n",
    "if __name__ == '__main__':  \n",
    "#we set the condition checks whether the file is directly run by python or imported.\n",
    "    main()\n",
    "\n",
    "#we can see our print statement gets executed as we are running it directly."
   ]
  },
  {
   "cell_type": "code",
   "execution_count": 18,
   "metadata": {},
   "outputs": [
    {
     "data": {
      "text/plain": [
       "'def main():\\n    print(\"Name: {}\".format(__name__))\\n\\nif __name__ == \\'__main__\\':\\n    main()'"
      ]
     },
     "execution_count": 18,
     "metadata": {},
     "output_type": "execute_result"
    }
   ],
   "source": [
    "#this file has same code as above code block.\n",
    "subprocess.getoutput(\"cat second_module.py\")\n",
    "#image \\n as next line.. "
   ]
  },
  {
   "cell_type": "code",
   "execution_count": 19,
   "metadata": {},
   "outputs": [],
   "source": [
    "#when i import this code\n",
    "import second_module\n",
    "#print doesn't as executed as if statement get failed."
   ]
  },
  {
   "cell_type": "code",
   "execution_count": null,
   "metadata": {},
   "outputs": [],
   "source": []
  }
 ],
 "metadata": {
  "kernelspec": {
   "display_name": "Python 3",
   "language": "python",
   "name": "python3"
  },
  "language_info": {
   "codemirror_mode": {
    "name": "ipython",
    "version": 3
   },
   "file_extension": ".py",
   "mimetype": "text/x-python",
   "name": "python",
   "nbconvert_exporter": "python",
   "pygments_lexer": "ipython3",
   "version": "3.7.3"
  }
 },
 "nbformat": 4,
 "nbformat_minor": 2
}
