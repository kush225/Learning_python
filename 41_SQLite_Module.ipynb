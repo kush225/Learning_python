{
 "cells": [
  {
   "cell_type": "code",
   "execution_count": null,
   "metadata": {},
   "outputs": [],
   "source": [
    "#SQLite [Case Sensitive]\n",
    "#SQLite is a C library that provides a lightweight disk-based database that doesn't require a separate server process and allows accessing the database using a nonstandard variant of the SQL query language. Usually your SQL operations will need to use values from Python variables.\n",
    "#DATATYPES\n",
    "#1.NULL - for null values\n",
    "#2.INTEGER - for integer values \n",
    "#3.REAL - for floating values\n",
    "#4.TEXT -for text strings \n",
    "#5.BLOB - stores exactly as it was input"
   ]
  },
  {
   "cell_type": "code",
   "execution_count": 5,
   "metadata": {},
   "outputs": [
    {
     "name": "stdout",
     "output_type": "stream",
     "text": [
      "#A sample class Employee\r\n",
      "class Employee:\r\n",
      "    \r\n",
      "    def __init__(self, first, last, pay):\r\n",
      "        self.first = first\r\n",
      "        self.last = last\r\n",
      "        self.pay = pay\r\n",
      "        \r\n",
      "    @property  \r\n",
      "    def fullname(self):\r\n",
      "        return '{} {}'.format(self.first, self.last)\r\n",
      "    \r\n",
      "    @property\r\n",
      "    def email(self):\r\n",
      "        return \"{}.{}@company.com\".format(self.first,self.last)\r\n",
      "    \r\n",
      "    def __repr__(self):\r\n",
      "        return \"Employee('{}', '{}', {})\".format(self.first, self.last, self.pay)\r\n"
     ]
    }
   ],
   "source": [
    "#A sample class employee\n",
    "!cat employee.py"
   ]
  },
  {
   "cell_type": "code",
   "execution_count": 31,
   "metadata": {},
   "outputs": [],
   "source": [
    "import sqlite3\n",
    "conn = sqlite3.connect('employee2.db') #connecting to db resides in file employee.db\n",
    "#or for testing we can use\n",
    "#conn = sqlite3.connect(':memory:') #connecting to db which resides in ram\n",
    "#this should create a file employee.db in current directory"
   ]
  },
  {
   "cell_type": "code",
   "execution_count": 32,
   "metadata": {},
   "outputs": [
    {
     "name": "stdout",
     "output_type": "stream",
     "text": [
      "employee2.db\r\n"
     ]
    }
   ],
   "source": [
    "#we can see file is created\n",
    "!ls employee2.db"
   ]
  },
  {
   "cell_type": "code",
   "execution_count": 33,
   "metadata": {},
   "outputs": [
    {
     "data": {
      "text/plain": [
       "<sqlite3.Cursor at 0x7f912ee55b90>"
      ]
     },
     "execution_count": 33,
     "metadata": {},
     "output_type": "execute_result"
    }
   ],
   "source": [
    "c = conn.cursor() #this will create a cursor and now we can run sql commands\n",
    "\n",
    "c.execute(\"\"\"CREATE TABLE employee (\n",
    "            first text,\n",
    "            last text,\n",
    "            pay integer\n",
    "            )\"\"\")"
   ]
  },
  {
   "cell_type": "code",
   "execution_count": 18,
   "metadata": {},
   "outputs": [],
   "source": [
    "#this commits the current transaction\n",
    "conn.commit()\n",
    "#our employee table is created, lets add data to it"
   ]
  },
  {
   "cell_type": "code",
   "execution_count": 37,
   "metadata": {},
   "outputs": [
    {
     "data": {
      "text/plain": [
       "<sqlite3.Cursor at 0x7f912ee55b90>"
      ]
     },
     "execution_count": 37,
     "metadata": {},
     "output_type": "execute_result"
    }
   ],
   "source": [
    "#Inserting data into DB\n",
    "c.execute(\"INSERT INTO employee VALUES ('Sam','Williams',40000)\")\n",
    "conn.commit()\n",
    "c.execute(\"INSERT INTO employee VALUES ('Sam','Smith',40000)\")\n",
    "c.execute(\"INSERT INTO employee VALUES ('Sam','James',40000)\")\n",
    "#c.fetchone() #will get the next row in our results and only return that row, null if no more row available.\n",
    "#c.fetchmany(5) #will return 5 number of row as a list, if no more rows returns empty list\n",
    "#c.fetchall() #will return remaining rows as a list, if no more rows returns empty list"
   ]
  },
  {
   "cell_type": "code",
   "execution_count": 39,
   "metadata": {},
   "outputs": [
    {
     "name": "stdout",
     "output_type": "stream",
     "text": [
      "('Sam', 'Williams', 40000)\n",
      "\n",
      "[('Sam', 'Smith', 40000), ('Sam', 'Williams', 40000), ('Sam', 'Smith', 40000), ('Sam', 'James', 40000)]\n"
     ]
    }
   ],
   "source": [
    "#c.fetchone() #will get the next row in our results and only return that row, null if no more row available.\n",
    "#c.fetchmany(5) #will return 5 number of row as a list, if no more rows returns empty list\n",
    "#c.fetchall() #will return remaining rows as a list, if no more rows returns empty list\n",
    "c.execute(\"SELECT * FROM employee WHERE first='Sam'\")\n",
    "\n",
    "print(c.fetchone())\n",
    "print()\n",
    "print(c.fetchall())\n",
    "#some entries are runned twice ie they are showing multiple times"
   ]
  },
  {
   "cell_type": "code",
   "execution_count": 40,
   "metadata": {},
   "outputs": [
    {
     "name": "stdout",
     "output_type": "stream",
     "text": [
      "John\n",
      "Doe\n",
      "80000\n"
     ]
    }
   ],
   "source": [
    "#importing Employee class from employee.py which was shown above\n",
    "from employee import Employee\n",
    "\n",
    "#making instance of class\n",
    "emp_1 = Employee('John', 'Doe', 80000)\n",
    "emp_2 = Employee('James', 'Damen', 80000)\n",
    "\n",
    "print(emp_1.first)\n",
    "print(emp_1.last)\n",
    "print(emp_1.pay)"
   ]
  },
  {
   "cell_type": "code",
   "execution_count": 41,
   "metadata": {},
   "outputs": [
    {
     "data": {
      "text/plain": [
       "<sqlite3.Cursor at 0x7f912ee55b90>"
      ]
     },
     "execution_count": 41,
     "metadata": {},
     "output_type": "execute_result"
    }
   ],
   "source": [
    "#Inserting Python objects to DB\n",
    "\n",
    "#you may be tempting to use this way of inserting but you shouldn't as anyone can do sqlinjection on this\n",
    "#c.execute(\"INSERT INTO employee VALUES ('{}','{}',{})\".format(emp_1.first,emp_1.last,emp_1.pay))\n",
    "\n",
    "#Correct way #1\n",
    "#in this we are passing tuple of objects\n",
    "c.execute(\"INSERT INTO employee VALUES (?,?,?)\",(emp_1.first,emp_1.last,emp_1.pay))\n",
    "\n",
    "#Correct way #2\n",
    "#in this we are passing dictionary of objects\n",
    "c.execute(\"INSERT INTO employee VALUES (:first,:last,:pay)\",{'first':emp_2.first,'last':emp_2.last,'pay':emp_2.pay})\n"
   ]
  },
  {
   "cell_type": "code",
   "execution_count": 46,
   "metadata": {},
   "outputs": [
    {
     "name": "stdout",
     "output_type": "stream",
     "text": [
      "[('Sam', 'Williams', 40000), ('Sam', 'Smith', 40000), ('Sam', 'Williams', 40000), ('Sam', 'Smith', 40000), ('Sam', 'James', 40000)]\n",
      "[('John', 'Doe', 80000)]\n"
     ]
    }
   ],
   "source": [
    "#we need to pass a tuple and for single value tuple we need to pass \",\" with it\n",
    "#1\n",
    "c.execute(\"SELECT * FROM employee WHERE first=?\",('Sam',))\n",
    "print(c.fetchall())\n",
    "#2 Better way\n",
    "c.execute(\"SELECT * FROM employee WHERE last=:last\",{'last':'Doe'})\n",
    "print(c.fetchall())"
   ]
  },
  {
   "cell_type": "code",
   "execution_count": 64,
   "metadata": {},
   "outputs": [],
   "source": [
    "#Using Function to make SQL Operation Pythonic\n",
    "\n",
    "import sqlite3\n",
    "from employee import Employee\n",
    "\n",
    "conn = sqlite3.connect(':memory:')\n",
    "c = conn.cursor()\n",
    "\n",
    "c.execute(\"\"\"CREATE TABLE employee (\n",
    "            first text,\n",
    "            last text,\n",
    "            pay integer\n",
    "            )\"\"\")\n",
    "\n",
    "def insert_emp(emp):\n",
    "    with conn:  #context manager\n",
    "        c.execute(\"INSERT INTO employee VALUES (:first,:last,:pay)\",{'first':emp.first,'last':emp.last,'pay':emp.pay})\n",
    "        #will insert for any employee that is passed\n",
    "\n",
    "def get_emps_by_name(lastname):\n",
    "    c.execute(\"SELECT * FROM employee WHERE last=:last\",{'last':lastname})\n",
    "    return c.fetchall()\n",
    "\n",
    "def update_pay(emp,pay):\n",
    "    with conn:  #context manager\n",
    "        c.execute(\"\"\"UPDATE employee SET pay = :pay\n",
    "                   WHERE first = :first and last = :last\"\"\",\n",
    "                 {'first':emp.first,'last':emp.last,'pay':pay})\n",
    "    \n",
    "def remove_emp(emp):\n",
    "    with conn:  #context manager\n",
    "        c.execute(\"DELETE from employee WHERE first =:first and last =:last\",\n",
    "                  {'first':emp.first,'last':emp.last})\n",
    "        \n",
    "#in some function we are using context manager as we are altering db so to auto commit our transaction and also for rollover in case of failure.\n",
    "\n",
    "emp_1 = Employee('John', 'Doe',80000)\n",
    "emp_2 = Employee('Jane','Doe',50000)"
   ]
  },
  {
   "cell_type": "code",
   "execution_count": 66,
   "metadata": {},
   "outputs": [],
   "source": [
    "#Inserting employee using our function\n",
    "insert_emp(emp_1)\n",
    "insert_emp(emp_2)"
   ]
  },
  {
   "cell_type": "code",
   "execution_count": 67,
   "metadata": {},
   "outputs": [
    {
     "name": "stdout",
     "output_type": "stream",
     "text": [
      "[('John', 'Doe', 80000), ('Jane', 'Doe', 50000)]\n"
     ]
    }
   ],
   "source": [
    "#printing those employees whose last is Doe\n",
    "emps = get_emps_by_name('Doe')\n",
    "print(emps)"
   ]
  },
  {
   "cell_type": "code",
   "execution_count": 68,
   "metadata": {},
   "outputs": [],
   "source": [
    "#Update pay of one of our employee\n",
    "update_pay(emp_2,100000)\n",
    "#remove employee 1\n",
    "remove_emp(emp_1)"
   ]
  },
  {
   "cell_type": "code",
   "execution_count": 70,
   "metadata": {},
   "outputs": [
    {
     "name": "stdout",
     "output_type": "stream",
     "text": [
      "[('Jane', 'Doe', 100000)]\n"
     ]
    }
   ],
   "source": [
    "#rerunning above print statement\n",
    "emps = get_emps_by_name('Doe')\n",
    "print(emps)\n",
    "#now employee2 pay has updated and employee 1 is deleted."
   ]
  },
  {
   "cell_type": "code",
   "execution_count": 71,
   "metadata": {},
   "outputs": [],
   "source": [
    "#good practice to close the connection\n",
    "conn.close()"
   ]
  }
 ],
 "metadata": {
  "kernelspec": {
   "display_name": "Python 3",
   "language": "python",
   "name": "python3"
  },
  "language_info": {
   "codemirror_mode": {
    "name": "ipython",
    "version": 3
   },
   "file_extension": ".py",
   "mimetype": "text/x-python",
   "name": "python",
   "nbconvert_exporter": "python",
   "pygments_lexer": "ipython3",
   "version": "3.7.3"
  }
 },
 "nbformat": 4,
 "nbformat_minor": 2
}
