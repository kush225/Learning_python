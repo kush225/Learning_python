{
 "cells": [
  {
   "cell_type": "code",
   "execution_count": 1,
   "metadata": {},
   "outputs": [],
   "source": [
    "#Q. Preparing for Python Interviews\n",
    "#1) know how to write python code on paper and white board\n",
    "#2) know the control flow\n",
    "#3) Be able to discuss how you've used python\n",
    "#4) Know how to solve common interview problems\n",
    "    #eg fibonacci and fizbuzz\n",
    "#5) Know Basic Python Data Types and when to use them\n",
    "    #eg Strings, tuples, list, dictionary, sets\n",
    "#6) Know how to use list comprehensions\n",
    "#7) Know how to use Generators\n",
    "#8) Know Basics of OOP\n",
    "#9) Have Python related questions ready to ask your interviewer\n",
    "    #eg do you guys use python 2 or 3. how to convert python2 code to python3\n",
    "#10) Know the basics of Other Fundamental Technologies.\n",
    "    #git, unix commands, how database works, basic sql codes\n",
    "#Read JD and know something about everything that is mention in that list."
   ]
  },
  {
   "cell_type": "code",
   "execution_count": 5,
   "metadata": {},
   "outputs": [
    {
     "name": "stdout",
     "output_type": "stream",
     "text": [
      "1\n",
      "2\n",
      "fizz\n",
      "4\n",
      "buzz\n",
      "fizz\n",
      "7\n",
      "8\n",
      "fizz\n",
      "buzz\n",
      "11\n",
      "fizz\n",
      "13\n",
      "14\n",
      "fizzbuzz\n",
      "16\n",
      "17\n",
      "fizz\n",
      "19\n",
      "buzz\n"
     ]
    }
   ],
   "source": [
    "#Fizbuzz Problem\n",
    "#from a range of number if a number is divisible by 3 print fizz and if by 5 print buzz and if by both print fizzbuz and else numberz\n",
    "\n",
    "for i in range(1,21):\n",
    "    if i%3==0 and i%5==0:\n",
    "        print(\"fizzbuzz\")\n",
    "    elif i%3==0:\n",
    "        print(\"fizz\")\n",
    "    elif i%5==0:\n",
    "        print(\"buzz\")\n",
    "    else:\n",
    "        print(i)"
   ]
  },
  {
   "cell_type": "code",
   "execution_count": 12,
   "metadata": {},
   "outputs": [
    {
     "name": "stdout",
     "output_type": "stream",
     "text": [
      "0\n",
      "1\n",
      "1\n",
      "2\n",
      "3\n",
      "5\n",
      "8\n",
      "13\n",
      "21\n",
      "34\n",
      "55\n",
      "89\n"
     ]
    }
   ],
   "source": [
    "#Fibonacci Sequence\n",
    "a,b=0,1\n",
    "loop=10\n",
    "print(a)\n",
    "print(b)\n",
    "for i in range(1,11):\n",
    "    print(a+b)\n",
    "    b=a+b\n",
    "    a=b-a"
   ]
  },
  {
   "cell_type": "code",
   "execution_count": 15,
   "metadata": {},
   "outputs": [
    {
     "name": "stdout",
     "output_type": "stream",
     "text": [
      "0\n",
      "1\n",
      "1\n",
      "2\n",
      "3\n",
      "5\n",
      "8\n",
      "13\n",
      "21\n",
      "34\n"
     ]
    }
   ],
   "source": [
    "#Another way\n",
    "a,b=0,1\n",
    "for i in range(1,11):\n",
    "    print(a)\n",
    "    a,b=b,a+b"
   ]
  },
  {
   "cell_type": "code",
   "execution_count": 23,
   "metadata": {},
   "outputs": [
    {
     "name": "stdout",
     "output_type": "stream",
     "text": [
      "1: 0\n",
      "2: 1\n",
      "3: 1\n",
      "4: 2\n",
      "5: 3\n",
      "6: 5\n",
      "7: 8\n",
      "8: 13\n",
      "9: 21\n",
      "10: 34\n"
     ]
    }
   ],
   "source": [
    "#Fibonacci using generator\n",
    "def fib(num):\n",
    "    a=0\n",
    "    b=1\n",
    "    for i in range(num):\n",
    "        yield \"{}: {}\".format(i+1,a)\n",
    "        a,b=b,a+b\n",
    "        \n",
    "for i in fib(10):\n",
    "    print(i)"
   ]
  },
  {
   "cell_type": "code",
   "execution_count": 26,
   "metadata": {},
   "outputs": [
    {
     "name": "stdout",
     "output_type": "stream",
     "text": [
      "my name is kushagra\n",
      "my age is 23\n",
      "my hobby is Video_Games\n"
     ]
    }
   ],
   "source": [
    "my_dict= {'name': 'kushagra', 'age': 23 , 'hobby': 'Video_Games'}\n",
    "\n",
    "for key,value in my_dict.items():\n",
    "    print(\"my {} is {}\".format(key,value))"
   ]
  },
  {
   "cell_type": "code",
   "execution_count": 27,
   "metadata": {},
   "outputs": [],
   "source": [
    "#I have done webscrapping,, i have made automating scripts,,,  i have made motion detection program,, automatic email sender program.. made a security tool for my laptop so if anyone uses my guest account in my laptop for more than 10mint's it clicks the photo email it to me. i have used selenium python and unittest module "
   ]
  }
 ],
 "metadata": {
  "kernelspec": {
   "display_name": "Python 3",
   "language": "python",
   "name": "python3"
  },
  "language_info": {
   "codemirror_mode": {
    "name": "ipython",
    "version": 3
   },
   "file_extension": ".py",
   "mimetype": "text/x-python",
   "name": "python",
   "nbconvert_exporter": "python",
   "pygments_lexer": "ipython3",
   "version": "3.7.3"
  }
 },
 "nbformat": 4,
 "nbformat_minor": 2
}
