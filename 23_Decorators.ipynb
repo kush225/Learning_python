{
 "cells": [
  {
   "cell_type": "code",
   "execution_count": 1,
   "metadata": {},
   "outputs": [],
   "source": [
    "#Decorators\n",
    "#must know Firstclass Function and closure. \n",
    "#A Decorator is just a function takes another function as arguments, adds some kind of functionality then returns another function,\n",
    "#all of this without altering the source code of tne original function you passed in."
   ]
  },
  {
   "cell_type": "code",
   "execution_count": 13,
   "metadata": {},
   "outputs": [],
   "source": [
    "def decorator_func(original_func):\n",
    "    def wrapper_func():\n",
    "        print('wrapper function ran before {0}'.format(original_func.__name__))\n",
    "        return original_func()\n",
    "    return wrapper_func\n",
    "\n",
    "def display_func():\n",
    "    print('Display Function Ran')"
   ]
  },
  {
   "cell_type": "code",
   "execution_count": 16,
   "metadata": {},
   "outputs": [],
   "source": [
    "decorated_display=decorator_func(display_func)   \n",
    "#first decorator_func gets executed and assigning display_func to original_func and returns wrapper_func object and \n",
    "#gets stored in decorated_display function."
   ]
  },
  {
   "cell_type": "code",
   "execution_count": 15,
   "metadata": {},
   "outputs": [
    {
     "name": "stdout",
     "output_type": "stream",
     "text": [
      "wrapper function ran before display_func\n",
      "Display Function Ran\n"
     ]
    }
   ],
   "source": [
    "decorated_display()\n",
    "#when decorated_display func which is wrapper_func gets executed printing the message inside wrapper_func and \n",
    "#executing original function which is display_func and printing the code inside it."
   ]
  },
  {
   "cell_type": "code",
   "execution_count": 20,
   "metadata": {},
   "outputs": [
    {
     "name": "stdout",
     "output_type": "stream",
     "text": [
      "wrapper function ran before display\n",
      "Display Function Ran\n"
     ]
    }
   ],
   "source": [
    "#same as above \n",
    "def decorator_function(original_function):\n",
    "    def wrapper_function():\n",
    "        print('wrapper function ran before {0}'.format(original_function.__name__))\n",
    "        return original_function()\n",
    "    return wrapper_function\n",
    "\n",
    "@decorator_function    #same as, display =decorator_function(display)\n",
    "def display():\n",
    "    print('Display Function Ran')\n",
    "\n",
    "display()"
   ]
  },
  {
   "cell_type": "code",
   "execution_count": 23,
   "metadata": {},
   "outputs": [
    {
     "ename": "TypeError",
     "evalue": "wrapper_function() takes 0 positional arguments but 2 were given",
     "output_type": "error",
     "traceback": [
      "\u001b[0;31m---------------------------------------------------------------------------\u001b[0m",
      "\u001b[0;31mTypeError\u001b[0m                                 Traceback (most recent call last)",
      "\u001b[0;32m<ipython-input-23-a89134ce5283>\u001b[0m in \u001b[0;36m<module>\u001b[0;34m\u001b[0m\n\u001b[1;32m      9\u001b[0m     \u001b[0mprint\u001b[0m\u001b[0;34m(\u001b[0m\u001b[0;34m'display_info ran with arguments ({0} {1})'\u001b[0m\u001b[0;34m.\u001b[0m\u001b[0mformat\u001b[0m\u001b[0;34m(\u001b[0m\u001b[0mname\u001b[0m\u001b[0;34m,\u001b[0m\u001b[0mage\u001b[0m\u001b[0;34m)\u001b[0m\u001b[0;34m)\u001b[0m\u001b[0;34m\u001b[0m\u001b[0;34m\u001b[0m\u001b[0m\n\u001b[1;32m     10\u001b[0m \u001b[0;34m\u001b[0m\u001b[0m\n\u001b[0;32m---> 11\u001b[0;31m \u001b[0mdisplay_info\u001b[0m\u001b[0;34m(\u001b[0m\u001b[0;34m'kushagra'\u001b[0m\u001b[0;34m,\u001b[0m\u001b[0;36m23\u001b[0m\u001b[0;34m)\u001b[0m\u001b[0;34m\u001b[0m\u001b[0;34m\u001b[0m\u001b[0m\n\u001b[0m",
      "\u001b[0;31mTypeError\u001b[0m: wrapper_function() takes 0 positional arguments but 2 were given"
     ]
    }
   ],
   "source": [
    "def decorator_function(original_function):\n",
    "    def wrapper_function():\n",
    "        print('wrapper function ran before {0}'.format(original_function.__name__))\n",
    "        return original_function()\n",
    "    return wrapper_function\n",
    "    \n",
    "@decorator_function\n",
    "def display_info(name,age):\n",
    "    print('display_info ran with arguments ({0} {1})'.format(name,age))\n",
    "    \n",
    "display_info('kushagra',23)\n",
    "#will display error \" wrapper_function() takes 0 positional arguments but 2 were given\" bcoz wrapper_function doesnt take any argument."
   ]
  },
  {
   "cell_type": "code",
   "execution_count": 26,
   "metadata": {},
   "outputs": [
    {
     "name": "stdout",
     "output_type": "stream",
     "text": [
      "wrapper function ran before display\n",
      "Display Function Ran\n",
      "wrapper function ran before display_info\n",
      "display_info ran with arguments (kushagra 23)\n"
     ]
    }
   ],
   "source": [
    "def decorator_function(original_function):\n",
    "    def wrapper_function(*args,**kwargs):\n",
    "        #by adding argument *args and **kwargs.. function will take any number of positional argument and keyord arguemnts\n",
    "        print('wrapper function ran before {0}'.format(original_function.__name__))\n",
    "        return original_function(*args,**kwargs)\n",
    "    return wrapper_function\n",
    "\n",
    "@decorator_function    #same as, display =decorator_function(display)\n",
    "def display():\n",
    "    print('Display Function Ran')\n",
    "    \n",
    "@decorator_function\n",
    "def display_info(name,age):\n",
    "    print('display_info ran with arguments ({0} {1})'.format(name,age))\n",
    "    \n",
    "display()\n",
    "\n",
    "display_info('kushagra',23)"
   ]
  },
  {
   "cell_type": "code",
   "execution_count": 30,
   "metadata": {},
   "outputs": [
    {
     "name": "stdout",
     "output_type": "stream",
     "text": [
      "class method ran before display\n",
      "Display Function Ran\n",
      "class method ran before display_info\n",
      "display_info ran with arguments (kushagra 23)\n"
     ]
    }
   ],
   "source": [
    "#Using Decorator Class instead of Decorator Function\n",
    "\n",
    "class decorator_class(object):\n",
    "    def __init__(self, original_function):\n",
    "        self.original_function= original_function\n",
    "        \n",
    "    def __call__(self, *args, **kwargs):\n",
    "        print('class method ran before {0}'.format(self.original_function.__name__))\n",
    "        return self.original_function(*args,**kwargs)\n",
    "    \n",
    "@decorator_class  \n",
    "def display():\n",
    "    print('Display Function Ran')\n",
    "    \n",
    "@decorator_class\n",
    "def display_info(name,age):\n",
    "    print('display_info ran with arguments ({0} {1})'.format(name,age))\n",
    "    \n",
    "display()\n",
    "\n",
    "display_info('kushagra',23)\n",
    "        "
   ]
  },
  {
   "cell_type": "code",
   "execution_count": 33,
   "metadata": {},
   "outputs": [
    {
     "name": "stdout",
     "output_type": "stream",
     "text": [
      "display_info ran with arguments (kushagra 23)\n",
      "display_info ran in 1.001424789428711 sec\n"
     ]
    }
   ],
   "source": [
    "#Usecase example\n",
    "def my_timer(original_func):\n",
    "    import time\n",
    "    \n",
    "    def wrapper_func(*args, **kwargs):\n",
    "        t1=time.time()\n",
    "        result=original_func(*args,**kwargs)\n",
    "        t2=time.time() - t1\n",
    "        print('{} ran in {} sec'.format(original_func.__name__,t2))\n",
    "        return result\n",
    "    return wrapper_func\n",
    "\n",
    "\n",
    "@my_timer\n",
    "def display_info(name,age):\n",
    "    import time\n",
    "    time.sleep(1)\n",
    "    print('display_info ran with arguments ({0} {1})'.format(name,age))\n",
    "\n",
    "display_info('kushagra',23)"
   ]
  },
  {
   "cell_type": "markdown",
   "metadata": {},
   "source": [
    "#Summary\n",
    "@decorator\n",
    "def function():\n",
    "    pass\n",
    "is equivalent to\n",
    "function = decorator(function)"
   ]
  },
  {
   "cell_type": "code",
   "execution_count": 46,
   "metadata": {},
   "outputs": [
    {
     "name": "stdout",
     "output_type": "stream",
     "text": [
      "LOG Executed before: display_info\n",
      "display_info ran with arguments (kushagra 30)\n",
      "LOG Executed after: display_info\n"
     ]
    }
   ],
   "source": [
    "#Decorators with Arguments\n",
    "\n",
    "def prefix_decorator(prefix):\n",
    "    def decorator_func(original_func):\n",
    "        def wrapper_func(*args,**kwargs):\n",
    "            print(prefix, 'Executed before:', original_func.__name__)\n",
    "            result=original_func(*args,**kwargs)\n",
    "            print(prefix, 'Executed after:', original_func.__name__)\n",
    "            return result\n",
    "        return wrapper_func\n",
    "    return decorator_func\n",
    "\n",
    "@prefix_decorator('LOG')\n",
    "def display_info(name,age):\n",
    "    print('display_info ran with arguments ({0} {1})'.format(name,age))\n",
    "\n",
    "display_info('kushagra', 30)\n",
    "\n"
   ]
  },
  {
   "cell_type": "code",
   "execution_count": 44,
   "metadata": {},
   "outputs": [
    {
     "name": "stdout",
     "output_type": "stream",
     "text": [
      "LOG Executed before: display_info\n",
      "display_info ran with arguments (yo 24)\n",
      "LOG Executed after: display_info\n"
     ]
    }
   ],
   "source": [
    "#for better understanding decorator\n",
    "display1=prefix_decorator('LOG') #first prefic_decorator func gets executed with LOG as an argument returning decorator_func and storing as an object in display1 variable.\n",
    "display2=display1(display_info) #display1 function which is decorator_func is executed with argument display_info function. original_func equals to  display_info func. and returns wrapper_func.\n",
    "display2('yo',24) #wrapper func takes arguments print \"executed before\" and pass it to original func which is display function prints display_function and prints \"executed after\""
   ]
  },
  {
   "cell_type": "code",
   "execution_count": 45,
   "metadata": {},
   "outputs": [
    {
     "name": "stdout",
     "output_type": "stream",
     "text": [
      "LOG Executed before: display_info\n",
      "display_info ran with arguments (yo 24)\n",
      "LOG Executed after: display_info\n"
     ]
    }
   ],
   "source": [
    "#you can but you shouldn't write this way\n",
    "prefix_decorator('LOG')(display_info)('yo',24)"
   ]
  }
 ],
 "metadata": {
  "kernelspec": {
   "display_name": "Python 3",
   "language": "python",
   "name": "python3"
  },
  "language_info": {
   "codemirror_mode": {
    "name": "ipython",
    "version": 3
   },
   "file_extension": ".py",
   "mimetype": "text/x-python",
   "name": "python",
   "nbconvert_exporter": "python",
   "pygments_lexer": "ipython3",
   "version": "3.7.3"
  }
 },
 "nbformat": 4,
 "nbformat_minor": 2
}
