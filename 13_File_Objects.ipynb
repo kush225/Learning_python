{
 "cells": [
  {
   "cell_type": "code",
   "execution_count": 22,
   "metadata": {},
   "outputs": [],
   "source": [
    "#Read Mode\n",
    "#Module to use underlying os commands\n",
    "import subprocess"
   ]
  },
  {
   "cell_type": "code",
   "execution_count": 23,
   "metadata": {},
   "outputs": [
    {
     "data": {
      "text/plain": [
       "'1) This is a test file!\\n2) With multiple of lines of data.\\n3) Third line\\n4) Forth line\\n5) Fifth line\\n6) Sixth line\\n7) Seventh line\\n8) Eighth line\\n9) Ninth line\\n10) Tenth line'"
      ]
     },
     "execution_count": 23,
     "metadata": {},
     "output_type": "execute_result"
    }
   ],
   "source": [
    "#test.txt is a file containg data, shown using cat command\n",
    "subprocess.getoutput(\"cat test.txt\")"
   ]
  },
  {
   "cell_type": "code",
   "execution_count": 24,
   "metadata": {},
   "outputs": [],
   "source": [
    "#no path is needed as file is present in same directory otherwise fullpath to file would be given, r represent file is open for reading which is default mode. so if you don't specify it will open in read mode only.\n",
    "# r = read\n",
    "# a = append\n",
    "# w = write\n",
    "# r+= read+write\n",
    "f = open('test.txt','r')"
   ]
  },
  {
   "cell_type": "code",
   "execution_count": 26,
   "metadata": {},
   "outputs": [
    {
     "name": "stdout",
     "output_type": "stream",
     "text": [
      "test.txt\n",
      "r\n"
     ]
    }
   ],
   "source": [
    "#It will print the name of file\n",
    "print(f.name)\n",
    "\n",
    "#It will print the mode used\n",
    "print(f.mode)"
   ]
  },
  {
   "cell_type": "code",
   "execution_count": 27,
   "metadata": {},
   "outputs": [],
   "source": [
    "#Closing the file\n",
    "f.close()"
   ]
  },
  {
   "cell_type": "code",
   "execution_count": 33,
   "metadata": {},
   "outputs": [
    {
     "name": "stdout",
     "output_type": "stream",
     "text": [
      "1) This is a test file!\n",
      "2) With multiple of lines of data.\n",
      "3) Third line\n",
      "4) Forth line\n",
      "5) Fifth line\n",
      "6) Sixth line\n",
      "7) Seventh line\n",
      "8) Eighth line\n",
      "9) Ninth line\n",
      "10) Tenth line\n",
      "\n"
     ]
    }
   ],
   "source": [
    "#using Context Manager [Benefit is that it will automatically close the file so it will provide memory leak]\n",
    "#read will display all the lines of file. [use in case of small files]\n",
    "with open('test.txt', 'r') as f:\n",
    "    f_contents = f.read()\n",
    "    print(f_contents)"
   ]
  },
  {
   "cell_type": "code",
   "execution_count": 34,
   "metadata": {},
   "outputs": [
    {
     "name": "stdout",
     "output_type": "stream",
     "text": [
      "['1) This is a test file!\\n', '2) With multiple of lines of data.\\n', '3) Third line\\n', '4) Forth line\\n', '5) Fifth line\\n', '6) Sixth line\\n', '7) Seventh line\\n', '8) Eighth line\\n', '9) Ninth line\\n', '10) Tenth line\\n']\n"
     ]
    }
   ],
   "source": [
    "#readlines will show lines in the form of list\n",
    "with open('test.txt', 'r') as f:\n",
    "    f_contents = f.readlines()\n",
    "    print(f_contents)"
   ]
  },
  {
   "cell_type": "code",
   "execution_count": 37,
   "metadata": {},
   "outputs": [
    {
     "name": "stdout",
     "output_type": "stream",
     "text": [
      "1) This is a test file!\n",
      "\n",
      "2) With multiple of lines of data.\n",
      "3) Third line\n",
      "\n"
     ]
    }
   ],
   "source": [
    "#readline will display, one line at a time and move cursor to next line and when readline is invoked again then it will print the other line.\n",
    "#print by default adds a newline.. that's why end='' is used.\n",
    "with open('test.txt', 'r') as f:\n",
    "    f_contents = f.readline()\n",
    "    print(f_contents)\n",
    "    \n",
    "    f_contents = f.readline()\n",
    "    print(f_contents, end='')\n",
    "    \n",
    "    f_contents = f.readline()with open('test.txt', 'r') as f:\n",
    "    \n",
    "    size_to_read=100\n",
    "    f_contents=f.read(size_to_read)\n",
    "    \n",
    "    while (len(f_contents)) > 0:\n",
    "        print(f_contents,end='')\n",
    "        f_contents=f.read(size_to_read)\n",
    "    print(f_contents)"
   ]
  },
  {
   "cell_type": "code",
   "execution_count": 40,
   "metadata": {},
   "outputs": [
    {
     "name": "stdout",
     "output_type": "stream",
     "text": [
      "1) This is a test file!\n",
      "2) With multiple of lines of data.\n",
      "3) Third line\n",
      "4) Forth line\n",
      "5) Fifth line\n",
      "6) Sixth line\n",
      "7) Seventh line\n",
      "8) Eighth line\n",
      "9) Ninth line\n",
      "10) Tenth line\n"
     ]
    }
   ],
   "source": [
    "#This is better than read as this will not read all lines at once and helps with memory consumption\n",
    "with open('test.txt', 'r') as f:\n",
    "    for line in f:\n",
    "        print(line,end='')"
   ]
  },
  {
   "cell_type": "code",
   "execution_count": 42,
   "metadata": {},
   "outputs": [
    {
     "name": "stdout",
     "output_type": "stream",
     "text": [
      "1) This is a test file!\n",
      "2) With multiple of lines of data.\n",
      "3) Third line\n",
      "4) Forth line\n",
      "5) Fifth line\n",
      "\n",
      "6) Sixth line\n",
      "7) Seventh line\n",
      "8) Eighth line\n",
      "9) Ninth line\n",
      "10) Tenth line\n",
      "\n"
     ]
    }
   ],
   "source": [
    "#you can limit the amount of data to read. by passing it in the read method. I.n this case 100 characters gets read\n",
    "with open('test.txt', 'r') as f:\n",
    "    f_contents = f.read(100)\n",
    "    print(f_contents)\n",
    "    \n",
    "    f_contents = f.read(100)\n",
    "    print(f_contents)"
   ]
  },
  {
   "cell_type": "code",
   "execution_count": 47,
   "metadata": {},
   "outputs": [
    {
     "name": "stdout",
     "output_type": "stream",
     "text": [
      "1) This is a test file!\n",
      "2) With multiple of lines of data.\n",
      "3) Third line\n",
      "4) Forth line\n",
      "5) Fifth line\n",
      "6) Sixth line\n",
      "7) Seventh line\n",
      "8) Eighth line\n",
      "9) Ninth line\n",
      "10) Tenth line\n"
     ]
    }
   ],
   "source": [
    "#A better way to use read.\n",
    "with open('test.txt', 'r') as f:\n",
    "    \n",
    "    size_to_read=100\n",
    "    f_contents=f.read(size_to_read)\n",
    "    \n",
    "    while (len(f_contents)) > 0:\n",
    "        print(f_contents,end='')\n",
    "        f_contents=f.read(size_to_read)"
   ]
  },
  {
   "cell_type": "code",
   "execution_count": 48,
   "metadata": {},
   "outputs": [
    {
     "name": "stdout",
     "output_type": "stream",
     "text": [
      "1) This is* a test fi*le!\n",
      "2) Wit*h multiple* of lines *of data.\n",
      "3*) Third li*ne\n",
      "4) Fort*h line\n",
      "5) *Fifth line*\n",
      "6) Sixth *line\n",
      "7) Se*venth line*\n",
      "8) Eighth* line\n",
      "9) N*inth line\n",
      "*10) Tenth *line\n",
      "*"
     ]
    }
   ],
   "source": [
    "#Using * at the end, we can see this is looping again and again\n",
    "\n",
    "with open('test.txt', 'r') as f:\n",
    "    \n",
    "    size_to_read=10\n",
    "    f_contents=f.read(size_to_read)\n",
    "    \n",
    "    while (len(f_contents)) > 0:\n",
    "        print(f_contents,end='*')\n",
    "        f_contents=f.read(size_to_read)"
   ]
  },
  {
   "cell_type": "code",
   "execution_count": 49,
   "metadata": {},
   "outputs": [
    {
     "name": "stdout",
     "output_type": "stream",
     "text": [
      "10\n"
     ]
    }
   ],
   "source": [
    "#tell() tells the location of pointer\n",
    "with open('test.txt', 'r') as f:\n",
    "    \n",
    "    size_to_read=10\n",
    "    f_contents=f.read(size_to_read)\n",
    "    print(f.tell())"
   ]
  },
  {
   "cell_type": "code",
   "execution_count": 58,
   "metadata": {},
   "outputs": [
    {
     "name": "stdout",
     "output_type": "stream",
     "text": [
      "1) This is\n",
      "1) This is\n"
     ]
    }
   ],
   "source": [
    "#using seek() we can set the location of pointer. In this case we first print the 10 lines. set the pointer again at begin and then print the 10 lines.\n",
    "with open('test.txt', 'r') as f:\n",
    "    \n",
    "    size_to_read=10\n",
    "    \n",
    "    f_contents=f.read(size_to_read)\n",
    "    print(f_contents)\n",
    "    \n",
    "    f.seek(0)\n",
    "    \n",
    "    f_contents=f.read(size_to_read)\n",
    "    print(f_contents)"
   ]
  },
  {
   "cell_type": "code",
   "execution_count": 60,
   "metadata": {},
   "outputs": [
    {
     "ename": "UnsupportedOperation",
     "evalue": "not writable",
     "output_type": "error",
     "traceback": [
      "\u001b[0;31m---------------------------------------------------------------------------\u001b[0m",
      "\u001b[0;31mUnsupportedOperation\u001b[0m                      Traceback (most recent call last)",
      "\u001b[0;32m<ipython-input-60-a0ff9c1110ef>\u001b[0m in \u001b[0;36m<module>\u001b[0;34m\u001b[0m\n\u001b[1;32m      2\u001b[0m \u001b[0;31m#Error because we are trying to write in file using read mode\u001b[0m\u001b[0;34m\u001b[0m\u001b[0;34m\u001b[0m\u001b[0;34m\u001b[0m\u001b[0m\n\u001b[1;32m      3\u001b[0m \u001b[0;32mwith\u001b[0m \u001b[0mopen\u001b[0m\u001b[0;34m(\u001b[0m\u001b[0;34m'test.txt'\u001b[0m\u001b[0;34m,\u001b[0m \u001b[0;34m'r'\u001b[0m\u001b[0;34m)\u001b[0m \u001b[0;32mas\u001b[0m \u001b[0mf\u001b[0m\u001b[0;34m:\u001b[0m\u001b[0;34m\u001b[0m\u001b[0;34m\u001b[0m\u001b[0m\n\u001b[0;32m----> 4\u001b[0;31m     \u001b[0mf\u001b[0m\u001b[0;34m.\u001b[0m\u001b[0mwrite\u001b[0m\u001b[0;34m(\u001b[0m\u001b[0;34m\"yo\"\u001b[0m\u001b[0;34m)\u001b[0m\u001b[0;34m\u001b[0m\u001b[0;34m\u001b[0m\u001b[0m\n\u001b[0m",
      "\u001b[0;31mUnsupportedOperation\u001b[0m: not writable"
     ]
    }
   ],
   "source": [
    "#Write Mode\n",
    "#Error because we are trying to write in file using read mode\n",
    "with open('test.txt', 'r') as f:\n",
    "    f.write(\"yo\")"
   ]
  },
  {
   "cell_type": "code",
   "execution_count": 61,
   "metadata": {},
   "outputs": [],
   "source": [
    "#if file2.txt doesnot exist then it will create it.\n",
    "#if file2.txt exist then it will overwrite it. you will lose data of that file.\n",
    "#you can open file2.txt in append mode so you don't lose data of that file.\n",
    "\n",
    "with open('file2.txt', 'w') as f:\n",
    "    pass\n",
    "#this will create the file if it didn't already exist. you don't have to write anything to create a file"
   ]
  },
  {
   "cell_type": "code",
   "execution_count": 62,
   "metadata": {},
   "outputs": [],
   "source": [
    "with open('file2.txt', 'w') as f:\n",
    "    f.write('Test')"
   ]
  },
  {
   "cell_type": "code",
   "execution_count": 63,
   "metadata": {},
   "outputs": [
    {
     "data": {
      "text/plain": [
       "'Test'"
      ]
     },
     "execution_count": 63,
     "metadata": {},
     "output_type": "execute_result"
    }
   ],
   "source": [
    "#file2.txt is a file containg data, shown using cat command\n",
    "subprocess.getoutput(\"cat file2.txt\")"
   ]
  },
  {
   "cell_type": "code",
   "execution_count": 65,
   "metadata": {},
   "outputs": [
    {
     "data": {
      "text/plain": [
       "'TestTest'"
      ]
     },
     "execution_count": 65,
     "metadata": {},
     "output_type": "execute_result"
    }
   ],
   "source": [
    "#This will also left the pointer at last position and when writing again it will begin from there only. you can use seek() here also.\n",
    "with open('file2.txt', 'w') as f:\n",
    "    f.write('Test')\n",
    "    f.write('Test')\n",
    "    \n",
    "subprocess.getoutput(\"cat file2.txt\")"
   ]
  },
  {
   "cell_type": "code",
   "execution_count": 67,
   "metadata": {},
   "outputs": [
    {
     "data": {
      "text/plain": [
       "'Rest'"
      ]
     },
     "execution_count": 67,
     "metadata": {},
     "output_type": "execute_result"
    }
   ],
   "source": [
    "#first we wrote Test, then move the pointer to begin and wrote R. \n",
    "with open('file2.txt', 'w') as f:\n",
    "    f.write('Test')\n",
    "    f.seek(0)\n",
    "    f.write('R')\n",
    "    \n",
    "subprocess.getoutput(\"cat file2.txt\")"
   ]
  },
  {
   "cell_type": "code",
   "execution_count": 68,
   "metadata": {},
   "outputs": [],
   "source": [
    "#Making a copy of file using File_Objects. you can even make copy of images. but for that you need to read and write in binary mode. just add b with r and w mode.\n",
    "# eg. with open('test.txt', 'rb') as rf:\n",
    "\n",
    "with open('test.txt', 'r') as rf:\n",
    "    with open('test_copy.txt', 'w') as wf:\n",
    "        for line in rf:\n",
    "            wf.write(line)"
   ]
  },
  {
   "cell_type": "code",
   "execution_count": 69,
   "metadata": {},
   "outputs": [
    {
     "data": {
      "text/plain": [
       "'1) This is a test file!\\n2) With multiple of lines of data.\\n3) Third line\\n4) Forth line\\n5) Fifth line\\n6) Sixth line\\n7) Seventh line\\n8) Eighth line\\n9) Ninth line\\n10) Tenth line'"
      ]
     },
     "execution_count": 69,
     "metadata": {},
     "output_type": "execute_result"
    }
   ],
   "source": [
    "#Output of test_copy.txt file\n",
    "subprocess.getoutput(\"cat test_copy.txt\")"
   ]
  },
  {
   "cell_type": "code",
   "execution_count": 70,
   "metadata": {},
   "outputs": [],
   "source": [
    "#You can also make a copy using chunks of data by combining the 2 above codes\n",
    "\n",
    "with open('test.txt', 'r') as rf:\n",
    "    with open('test_copy.txt', 'w') as wf:\n",
    "        \n",
    "        chunk_size=4096\n",
    "        rf_chunk=rf.read(chunk_size)\n",
    "        \n",
    "        while (len(rf_chunk)) > 0:\n",
    "            \n",
    "            wf.write(rf_chunk)\n",
    "            rf_chunk=rf.read(chunk_size)"
   ]
  }
 ],
 "metadata": {
  "kernelspec": {
   "display_name": "Python 3",
   "language": "python",
   "name": "python3"
  },
  "language_info": {
   "codemirror_mode": {
    "name": "ipython",
    "version": 3
   },
   "file_extension": ".py",
   "mimetype": "text/x-python",
   "name": "python",
   "nbconvert_exporter": "python",
   "pygments_lexer": "ipython3",
   "version": "3.7.3"
  }
 },
 "nbformat": 4,
 "nbformat_minor": 2
}
