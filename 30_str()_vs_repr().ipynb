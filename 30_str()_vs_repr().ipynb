{
 "cells": [
  {
   "cell_type": "raw",
   "metadata": {},
   "source": [
    "#Difference Between str() and repr()?\n",
    "#The goal of __repr__ is to be unambiguous.\n",
    "#The goal of __str__ is to be readable.\n",
    "\n",
    "#__repr__\n",
    "#1. is used for logging, debugging.\n",
    "#2. meant to be used by developers.\n",
    "\n",
    "#__str__\n",
    "#1. is meant to used as a display to the end user."
   ]
  },
  {
   "cell_type": "code",
   "execution_count": 2,
   "metadata": {},
   "outputs": [],
   "source": [
    "a= [1,2,3,4]\n",
    "b= 'sample string' "
   ]
  },
  {
   "cell_type": "code",
   "execution_count": 3,
   "metadata": {},
   "outputs": [
    {
     "name": "stdout",
     "output_type": "stream",
     "text": [
      "[1, 2, 3, 4]\n",
      "[1, 2, 3, 4]\n"
     ]
    }
   ],
   "source": [
    "#Both will give the same output\n",
    "print(str(a))\n",
    "print(repr(a))"
   ]
  },
  {
   "cell_type": "code",
   "execution_count": 5,
   "metadata": {},
   "outputs": [
    {
     "name": "stdout",
     "output_type": "stream",
     "text": [
      "sample string\n",
      "'sample string'\n"
     ]
    }
   ],
   "source": [
    "print(str(b))\n",
    "print(repr(b))"
   ]
  },
  {
   "cell_type": "code",
   "execution_count": 9,
   "metadata": {},
   "outputs": [],
   "source": [
    "import datetime\n",
    "import pytz\n",
    "a=datetime.datetime(2015, 6, 11, 4, 35, 48, 528521, tzinfo=pytz.UTC)\n",
    "b='2015-06-11 04:35:48.528521+00:00'"
   ]
  },
  {
   "cell_type": "code",
   "execution_count": 10,
   "metadata": {},
   "outputs": [
    {
     "name": "stdout",
     "output_type": "stream",
     "text": [
      "2015-06-11 04:35:48.528521+00:00\n",
      "2015-06-11 04:35:48.528521+00:00\n"
     ]
    }
   ],
   "source": [
    "#on surface both variables a and b looks same.\n",
    "print(str(a))\n",
    "print(str(b))\n",
    "#The goal of __str__ is to be readable."
   ]
  },
  {
   "cell_type": "code",
   "execution_count": 11,
   "metadata": {},
   "outputs": [
    {
     "name": "stdout",
     "output_type": "stream",
     "text": [
      "datetime.datetime(2015, 6, 11, 4, 35, 48, 528521, tzinfo=<UTC>)\n",
      "'2015-06-11 04:35:48.528521+00:00'\n"
     ]
    }
   ],
   "source": [
    "#whenever we ran repr(a) we are able to get it's a datetime.\n",
    "print(repr(a))\n",
    "print(repr(b))\n",
    "#The goal of __repr__ is to be unambiguous."
   ]
  },
  {
   "cell_type": "code",
   "execution_count": 12,
   "metadata": {},
   "outputs": [],
   "source": [
    "a= datetime.datetime.utcnow().replace(tzinfo=pytz.UTC)\n",
    "b=str(a)"
   ]
  },
  {
   "cell_type": "code",
   "execution_count": 14,
   "metadata": {},
   "outputs": [
    {
     "name": "stdout",
     "output_type": "stream",
     "text": [
      "str(a): 2019-07-15 14:35:28.366148+00:00\n",
      "str(b): 2019-07-15 14:35:28.366148+00:00\n",
      "\n",
      "repr(a): datetime.datetime(2019, 7, 15, 14, 35, 28, 366148, tzinfo=<UTC>)\n",
      "repr(b): '2019-07-15 14:35:28.366148+00:00'\n"
     ]
    }
   ],
   "source": [
    "#Another example\n",
    "print('str(a): {}'.format(str(a)))\n",
    "print('str(b): {}'.format(str(b)))\n",
    "print()\n",
    "print('repr(a): {}'.format(repr(a)))\n",
    "print('repr(b): {}'.format(repr(b)))"
   ]
  }
 ],
 "metadata": {
  "kernelspec": {
   "display_name": "Python 3",
   "language": "python",
   "name": "python3"
  },
  "language_info": {
   "codemirror_mode": {
    "name": "ipython",
    "version": 3
   },
   "file_extension": ".py",
   "mimetype": "text/x-python",
   "name": "python",
   "nbconvert_exporter": "python",
   "pygments_lexer": "ipython3",
   "version": "3.7.3"
  }
 },
 "nbformat": 4,
 "nbformat_minor": 2
}
