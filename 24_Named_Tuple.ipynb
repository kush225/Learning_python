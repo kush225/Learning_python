{
 "cells": [
  {
   "cell_type": "code",
   "execution_count": null,
   "metadata": {},
   "outputs": [],
   "source": [
    "#Named Tuple\n",
    "#A named tuple is exactly like a normal tuple, except that the fields can also be accessed by .fieldname. \n",
    "#Named tuples are still immutable, you can still index elements with integers, and you can iterate over the elements"
   ]
  },
  {
   "cell_type": "code",
   "execution_count": 1,
   "metadata": {},
   "outputs": [
    {
     "name": "stdout",
     "output_type": "stream",
     "text": [
      "55\n"
     ]
    }
   ],
   "source": [
    "##Tuple\n",
    "#color RGB\n",
    "color = (55,155,255)\n",
    "#if i want red color from tuple, i will simply print\n",
    "print(color[0])\n",
    "#but that's not understandable if someone look at this or even if i look at this later. so instead of this we can use dictionary."
   ]
  },
  {
   "cell_type": "code",
   "execution_count": 3,
   "metadata": {},
   "outputs": [
    {
     "name": "stdout",
     "output_type": "stream",
     "text": [
      "55\n"
     ]
    }
   ],
   "source": [
    "##Dictionary\n",
    "#color RGB\n",
    "color ={'red':55,'green':155,'blue':255}\n",
    "#if i want red color from tuple, i will simply print\n",
    "print(color['red'])\n",
    "#we can do this, its understandable to others but it requires more typing.. and also this are mutable. what if we want immutable, then we can use named_tuple."
   ]
  },
  {
   "cell_type": "code",
   "execution_count": 6,
   "metadata": {},
   "outputs": [
    {
     "name": "stdout",
     "output_type": "stream",
     "text": [
      "55\n",
      "55\n"
     ]
    }
   ],
   "source": [
    "##Named_Tuple\n",
    "from collections import namedtuple\n",
    "#color RGB\n",
    "Color=namedtuple('Color',['red','green','blue'])\n",
    "color=Color(55,155,255)\n",
    "print(color[0]) # i can use this as regular tuple and print like i did before\n",
    "print(color.red) # or i can call it by name.\n",
    "\n",
    "#this is more readable"
   ]
  },
  {
   "cell_type": "code",
   "execution_count": 9,
   "metadata": {},
   "outputs": [
    {
     "name": "stdout",
     "output_type": "stream",
     "text": [
      "155\n"
     ]
    }
   ],
   "source": [
    "Color=namedtuple('Color',['red','green','blue'])\n",
    "color=Color(green=55,red=155,blue=255) #you can be explicit for more clarity.\n",
    "print(color.red)"
   ]
  }
 ],
 "metadata": {
  "kernelspec": {
   "display_name": "Python 3",
   "language": "python",
   "name": "python3"
  },
  "language_info": {
   "codemirror_mode": {
    "name": "ipython",
    "version": 3
   },
   "file_extension": ".py",
   "mimetype": "text/x-python",
   "name": "python",
   "nbconvert_exporter": "python",
   "pygments_lexer": "ipython3",
   "version": "3.7.3"
  }
 },
 "nbformat": 4,
 "nbformat_minor": 2
}
