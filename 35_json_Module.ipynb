{
 "cells": [
  {
   "cell_type": "code",
   "execution_count": 1,
   "metadata": {},
   "outputs": [],
   "source": [
    "import json"
   ]
  },
  {
   "cell_type": "code",
   "execution_count": 2,
   "metadata": {},
   "outputs": [],
   "source": [
    "#string containing json data\n",
    "people_string = '''\n",
    "{\n",
    "\"people\":[\n",
    "    {\n",
    "    \"name\":\"kushagra gupta\",\n",
    "    \"phone\":\"9876543210\",\n",
    "    \"emails\":[\"kushagra224@gmail.com\",\"kushagra225@gmail.com\"],\n",
    "    \"has_license\":false\n",
    "    },\n",
    "    {\n",
    "    \"name\":\"Jane Doe\",\n",
    "    \"phone\":\"1234567890\",\n",
    "    \"emails\":null,\n",
    "    \"has_license\":true\n",
    "    }\n",
    "  ]\n",
    "}\n",
    "'''\n"
   ]
  },
  {
   "cell_type": "code",
   "execution_count": 9,
   "metadata": {},
   "outputs": [
    {
     "name": "stdout",
     "output_type": "stream",
     "text": [
      "{'people': [{'name': 'kushagra gupta', 'phone': '9876543210', 'emails': ['kushagra224@gmail.com', 'kushagra225@gmail.com'], 'has_license': False}, {'name': 'Jane Doe', 'phone': '1234567890', 'emails': None, 'has_license': True}]}\n"
     ]
    }
   ],
   "source": [
    "#loading json into python\n",
    "data =json.loads(people_string)\n",
    "#printing json data\n",
    "print(data)\n",
    "#it looks like python dictionary, let's check it's type"
   ]
  },
  {
   "cell_type": "code",
   "execution_count": 4,
   "metadata": {},
   "outputs": [
    {
     "name": "stdout",
     "output_type": "stream",
     "text": [
      "<class 'dict'>\n"
     ]
    }
   ],
   "source": [
    "print(type(data))"
   ]
  },
  {
   "cell_type": "code",
   "execution_count": 5,
   "metadata": {},
   "outputs": [],
   "source": [
    "#that's bcz python converts the follow\n",
    "#json          python\n",
    "#object        dict\n",
    "#array         list\n",
    "#string        str\n",
    "#number(int)   int\n",
    "#number(real)  float\n",
    "#true          True\n",
    "#false         False\n",
    "#null          None\n",
    "\n",
    "\n",
    "#you can check the conversion in the above output statement."
   ]
  },
  {
   "cell_type": "code",
   "execution_count": 6,
   "metadata": {},
   "outputs": [
    {
     "name": "stdout",
     "output_type": "stream",
     "text": [
      "<class 'list'>\n"
     ]
    }
   ],
   "source": [
    "print(type(data['people']))"
   ]
  },
  {
   "cell_type": "code",
   "execution_count": 7,
   "metadata": {},
   "outputs": [
    {
     "name": "stdout",
     "output_type": "stream",
     "text": [
      "{'name': 'kushagra gupta', 'phone': '9876543210', 'emails': ['kushagra224@gmail.com', 'kushagra225@gmail.com'], 'has_license': False}\n",
      "{'name': 'Jane Doe', 'phone': '1234567890', 'emails': None, 'has_license': True}\n"
     ]
    }
   ],
   "source": [
    "for person in data['people']:\n",
    "    print(person)"
   ]
  },
  {
   "cell_type": "code",
   "execution_count": 8,
   "metadata": {},
   "outputs": [
    {
     "name": "stdout",
     "output_type": "stream",
     "text": [
      "kushagra gupta\n",
      "Jane Doe\n"
     ]
    }
   ],
   "source": [
    "for person in data['people']:\n",
    "    print(person['name'])"
   ]
  },
  {
   "cell_type": "code",
   "execution_count": 10,
   "metadata": {},
   "outputs": [],
   "source": [
    "#Loading python data in json\n",
    "#first deleting phone numbers from our data\n",
    "for person in data['people']:\n",
    "    del person['phone']"
   ]
  },
  {
   "cell_type": "code",
   "execution_count": 16,
   "metadata": {},
   "outputs": [
    {
     "name": "stdout",
     "output_type": "stream",
     "text": [
      "{\n",
      "  \"people\": [\n",
      "    {\n",
      "      \"emails\": [\n",
      "        \"kushagra224@gmail.com\",\n",
      "        \"kushagra225@gmail.com\"\n",
      "      ],\n",
      "      \"has_license\": false,\n",
      "      \"name\": \"kushagra gupta\"\n",
      "    },\n",
      "    {\n",
      "      \"emails\": null,\n",
      "      \"has_license\": true,\n",
      "      \"name\": \"Jane Doe\"\n",
      "    }\n",
      "  ]\n",
      "}\n"
     ]
    }
   ],
   "source": [
    "#now dumping python data in json\n",
    "new_string = json.dumps(data, indent=2, sort_keys=True)  #indent is to indent the data and sort_keys is to sort the data\n",
    "\n",
    "#new json string without phone\n",
    "print(new_string)"
   ]
  },
  {
   "cell_type": "code",
   "execution_count": 22,
   "metadata": {},
   "outputs": [
    {
     "name": "stdout",
     "output_type": "stream",
     "text": [
      "{'name': 'Alabama', 'abbreviation': 'AL'}\n",
      "Alabama AL\n",
      "{'name': 'Arizona', 'abbreviation': 'AZ'}\n",
      "Arizona AZ\n",
      "{'name': 'California', 'abbreviation': 'CA'}\n",
      "California CA\n",
      "{'name': 'Hawaii', 'abbreviation': 'HI'}\n",
      "Hawaii HI\n",
      "{'name': 'Indiana', 'abbreviation': 'IN'}\n",
      "Indiana IN\n",
      "{'name': 'Michigan', 'abbreviation': 'MI'}\n",
      "Michigan MI\n",
      "{'name': 'Minnesota', 'abbreviation': 'MN'}\n",
      "Minnesota MN\n",
      "{'name': 'Missouri', 'abbreviation': 'MO'}\n",
      "Missouri MO\n",
      "{'name': 'Montana', 'abbreviation': 'MT'}\n",
      "Montana MT\n",
      "{'name': 'Nebraska', 'abbreviation': 'NE'}\n",
      "Nebraska NE\n",
      "{'name': 'New Hampshire', 'abbreviation': 'NH'}\n",
      "New Hampshire NH\n",
      "{'name': 'New Jersey', 'abbreviation': 'NJ'}\n",
      "New Jersey NJ\n",
      "{'name': 'New Mexico', 'abbreviation': 'NM'}\n",
      "New Mexico NM\n",
      "{'name': 'New York', 'abbreviation': 'NY'}\n",
      "New York NY\n",
      "{'name': 'North Dakota', 'abbreviation': 'ND'}\n",
      "North Dakota ND\n",
      "{'name': 'Ohio', 'abbreviation': 'OH'}\n",
      "Ohio OH\n",
      "{'name': 'Oklahoma', 'abbreviation': 'OK'}\n",
      "Oklahoma OK\n",
      "{'name': 'Rhode Island', 'abbreviation': 'RI'}\n",
      "Rhode Island RI\n",
      "{'name': 'South Carolina', 'abbreviation': 'SC'}\n",
      "South Carolina SC\n",
      "{'name': 'South Dakota', 'abbreviation': 'SD'}\n",
      "South Dakota SD\n",
      "{'name': 'Utah', 'abbreviation': 'UT'}\n",
      "Utah UT\n",
      "{'name': 'Vermont', 'abbreviation': 'VT'}\n",
      "Vermont VT\n",
      "{'name': 'Washington', 'abbreviation': 'WA'}\n",
      "Washington WA\n",
      "{'name': 'Wisconsin', 'abbreviation': 'WI'}\n",
      "Wisconsin WI\n"
     ]
    }
   ],
   "source": [
    "#Loading Json file from system\n",
    "with open('sample_states.json') as f:\n",
    "    data = json.load(f)\n",
    "for state in data['states']:\n",
    "    print(state)\n",
    "    print(state['name'],state['abbreviation'])"
   ]
  },
  {
   "cell_type": "code",
   "execution_count": 19,
   "metadata": {},
   "outputs": [],
   "source": [
    "#removing abbrevation from json data\n",
    "for state in data['states']:\n",
    "    del state['abbreviation']"
   ]
  },
  {
   "cell_type": "code",
   "execution_count": 21,
   "metadata": {},
   "outputs": [],
   "source": [
    "#saving new json object in file\n",
    "with open('new_states.json','w') as f:\n",
    "    json.dump(data, f,indent=2)\n",
    "    \n",
    "# If you want to dump the JSON into a file/socket or whatever, then you should go for dump(). If you only need it as a string (for printing, parsing or whatever) then use dumps() (dump string)\n"
   ]
  },
  {
   "cell_type": "code",
   "execution_count": null,
   "metadata": {},
   "outputs": [],
   "source": [
    "#working with real json data\n",
    "import json\n",
    "from urllib.request import urlopen\n",
    "\n",
    "#API to get finance data from yahoo\n",
    "with urlopen(\"https://finance.yahoo.com/webservice/v1/symbols/allcurrencies/quote?format=json\") as response:\n",
    "    source = response.read()\n",
    "\n",
    "#print the data we get\n",
    "#print(source)"
   ]
  },
  {
   "cell_type": "code",
   "execution_count": null,
   "metadata": {},
   "outputs": [],
   "source": [
    "data = json.loads(source)\n",
    "usd_rates=dict()\n",
    "for item in data['list']['resoureces']:\n",
    "    name = item['resource']['fields']['name']\n",
    "    price = item['resource']['fields']['price']\n",
    "    usd_rates[name]=price\n",
    "print(usd_rates['USR/EUR'])"
   ]
  }
 ],
 "metadata": {
  "kernelspec": {
   "display_name": "Python 3",
   "language": "python",
   "name": "python3"
  },
  "language_info": {
   "codemirror_mode": {
    "name": "ipython",
    "version": 3
   },
   "file_extension": ".py",
   "mimetype": "text/x-python",
   "name": "python",
   "nbconvert_exporter": "python",
   "pygments_lexer": "ipython3",
   "version": "3.7.3"
  }
 },
 "nbformat": 4,
 "nbformat_minor": 2
}
