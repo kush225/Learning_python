{
 "cells": [
  {
   "cell_type": "code",
   "execution_count": 2,
   "metadata": {},
   "outputs": [],
   "source": [
    "#os Module\n",
    "#The OS module in python provides functions for interacting with the operating system.\n",
    "#This module provides a portable way of using operating system dependent functionality."
   ]
  },
  {
   "cell_type": "code",
   "execution_count": 3,
   "metadata": {},
   "outputs": [],
   "source": [
    "import os"
   ]
  },
  {
   "cell_type": "code",
   "execution_count": 4,
   "metadata": {},
   "outputs": [],
   "source": [
    "#You can check All the options in os module using dir()\n",
    "#print(dir(os))"
   ]
  },
  {
   "cell_type": "code",
   "execution_count": 3,
   "metadata": {},
   "outputs": [
    {
     "name": "stdout",
     "output_type": "stream",
     "text": [
      "/home/kushagra/Desktop/GIT-Python\n"
     ]
    }
   ],
   "source": [
    "#Current working Directory\n",
    "print(os.getcwd())"
   ]
  },
  {
   "cell_type": "code",
   "execution_count": 7,
   "metadata": {},
   "outputs": [],
   "source": [
    "#Changing Current Working Directory\n",
    "os.chdir('/home/kushagra/Documents')"
   ]
  },
  {
   "cell_type": "code",
   "execution_count": 8,
   "metadata": {},
   "outputs": [
    {
     "name": "stdout",
     "output_type": "stream",
     "text": [
      "/home/kushagra/Documents\n"
     ]
    }
   ],
   "source": [
    "print(os.getcwd())"
   ]
  },
  {
   "cell_type": "code",
   "execution_count": 9,
   "metadata": {},
   "outputs": [
    {
     "name": "stdout",
     "output_type": "stream",
     "text": [
      "['Software_Testing.docx', 'sushil_kumar_sharma.pdf', 'mysecond.js', 'demofile1.html', 'bzLifecycle.png', 'Assignment', 'Goibibo.pdf', 'Git.txt', 'k8s-mastery', '101_Ratings', 'docker-curriculum', 'Software_Testing.odt', 'SoftwareTesting2.txt', 'SoftwareTesting.txt', 'buildtesting-sanity.txt', 'download.jpeg', 'personal', 'Kubernetes']\n"
     ]
    }
   ],
   "source": [
    "#Listing the files and directories in current Directories\n",
    "print(os.listdir())"
   ]
  },
  {
   "cell_type": "code",
   "execution_count": 10,
   "metadata": {},
   "outputs": [],
   "source": [
    "#making Directory, makedirs works similar to mkdir -p option\n",
    "os.mkdir('OS-Demo-1')\n",
    "os.makedirs('OS-Demo-2/a/b/c')"
   ]
  },
  {
   "cell_type": "code",
   "execution_count": 11,
   "metadata": {},
   "outputs": [
    {
     "name": "stdout",
     "output_type": "stream",
     "text": [
      "['Software_Testing.docx', 'sushil_kumar_sharma.pdf', 'mysecond.js', 'demofile1.html', 'bzLifecycle.png', 'Assignment', 'Goibibo.pdf', 'Git.txt', 'k8s-mastery', 'OS-Demo-2', '101_Ratings', 'OS-Demo-1', 'docker-curriculum', 'Software_Testing.odt', 'SoftwareTesting2.txt', 'SoftwareTesting.txt', 'buildtesting-sanity.txt', 'download.jpeg', 'personal', 'Kubernetes']\n"
     ]
    }
   ],
   "source": [
    "print(os.listdir())"
   ]
  },
  {
   "cell_type": "code",
   "execution_count": 12,
   "metadata": {},
   "outputs": [],
   "source": [
    "#Deleting Directories, removedirs will remove sub directories also\n",
    "os.rmdir('OS-Demo-1')\n",
    "os.removedirs('OS-Demo-2/a/b/c')"
   ]
  },
  {
   "cell_type": "code",
   "execution_count": 13,
   "metadata": {},
   "outputs": [],
   "source": [
    "#Rename file or folder\n",
    "os.rename('bzLifecycle.png','bugzlifecycle.png')"
   ]
  },
  {
   "cell_type": "code",
   "execution_count": 14,
   "metadata": {},
   "outputs": [
    {
     "name": "stdout",
     "output_type": "stream",
     "text": [
      "['Software_Testing.docx', 'sushil_kumar_sharma.pdf', 'mysecond.js', 'demofile1.html', 'Assignment', 'Goibibo.pdf', 'Git.txt', 'k8s-mastery', '101_Ratings', 'docker-curriculum', 'Software_Testing.odt', 'SoftwareTesting2.txt', 'SoftwareTesting.txt', 'buildtesting-sanity.txt', 'download.jpeg', 'bugzlifecycle.png', 'personal', 'Kubernetes']\n"
     ]
    }
   ],
   "source": [
    "print(os.listdir())"
   ]
  },
  {
   "cell_type": "code",
   "execution_count": 16,
   "metadata": {},
   "outputs": [
    {
     "name": "stdout",
     "output_type": "stream",
     "text": [
      "os.stat_result(st_mode=33204, st_ino=8951510, st_dev=2050, st_nlink=1, st_uid=30000, st_gid=30000, st_size=74246, st_atime=1559019783, st_mtime=1551016824, st_ctime=1561888070)\n"
     ]
    }
   ],
   "source": [
    "#information about file\n",
    "print(os.stat(\"bugzlifecycle.png\"))"
   ]
  },
  {
   "cell_type": "code",
   "execution_count": 17,
   "metadata": {},
   "outputs": [
    {
     "name": "stdout",
     "output_type": "stream",
     "text": [
      "1551016824.4557145\n"
     ]
    }
   ],
   "source": [
    "#Modified time\n",
    "print(os.stat(\"bugzlifecycle.png\").st_mtime)"
   ]
  },
  {
   "cell_type": "code",
   "execution_count": 18,
   "metadata": {},
   "outputs": [
    {
     "name": "stdout",
     "output_type": "stream",
     "text": [
      "2019-02-24 19:30:24.455714\n"
     ]
    }
   ],
   "source": [
    "#Modified time in Human Readable Format\n",
    "from datetime import datetime\n",
    "mod_time=os.stat(\"bugzlifecycle.png\").st_mtime\n",
    "print(datetime.fromtimestamp(mod_time))"
   ]
  },
  {
   "cell_type": "code",
   "execution_count": 35,
   "metadata": {},
   "outputs": [
    {
     "name": "stdout",
     "output_type": "stream",
     "text": [
      "Current dir: /home/kushagra/Desktop/percentile\n",
      "Directories: ['nodeJS']\n",
      "Files: ['percent_line.py', 'percent_try.py', 'percentile_BT.py', '123', 'new.py', 'yo', 'percent_file.py', 'percentile_interval.py', 'percent_line', 'percentile_aggre.backup.py', 'exp.py', 'percentile_IP.py', '.try.py.swp', '3', 'shell.sh', 'kushagra.tar.gz', 'any_percentile.py~', '2', '1', 'any_percentile.py', 'backup.py', 'percentile_interval.py.backup']\n",
      "\n",
      "Current dir: /home/kushagra/Desktop/percentile/nodeJS\n",
      "Directories: []\n",
      "Files: ['2.py', 'nodeJS_Percentile.py', '1']\n",
      "\n"
     ]
    }
   ],
   "source": [
    "for dirpath, dirnames, dirfiles in os.walk('/home/kushagra/Desktop/percentile'):\n",
    "    print(\"Current dir:\", dirpath)\n",
    "    print(\"Directories:\", dirnames)\n",
    "    print(\"Files:\", dirfiles)\n",
    "    print()"
   ]
  },
  {
   "cell_type": "code",
   "execution_count": 37,
   "metadata": {},
   "outputs": [
    {
     "name": "stdout",
     "output_type": "stream",
     "text": [
      "/home/kushagra\n"
     ]
    }
   ],
   "source": [
    "#Printing Environment Variable\n",
    "print(os.environ.get('HOME'))"
   ]
  },
  {
   "cell_type": "code",
   "execution_count": 38,
   "metadata": {},
   "outputs": [
    {
     "name": "stdout",
     "output_type": "stream",
     "text": [
      "/home/kushagra/test.txt\n"
     ]
    }
   ],
   "source": [
    "#Joining path and file\n",
    "file_path=os.path.join(os.environ.get('HOME'),'test.txt')\n",
    "print(file_path)"
   ]
  },
  {
   "cell_type": "code",
   "execution_count": 39,
   "metadata": {},
   "outputs": [
    {
     "name": "stdout",
     "output_type": "stream",
     "text": [
      "test.txt\n"
     ]
    }
   ],
   "source": [
    "#To get filename\n",
    "print(os.path.basename('/home/cavisson/test.txt'))"
   ]
  },
  {
   "cell_type": "code",
   "execution_count": 40,
   "metadata": {},
   "outputs": [
    {
     "name": "stdout",
     "output_type": "stream",
     "text": [
      "/home/cavisson\n"
     ]
    }
   ],
   "source": [
    "#To get path\n",
    "print(os.path.dirname('/home/cavisson/test.txt'))"
   ]
  },
  {
   "cell_type": "code",
   "execution_count": 41,
   "metadata": {},
   "outputs": [
    {
     "name": "stdout",
     "output_type": "stream",
     "text": [
      "('/home/cavisson', 'test.txt')\n"
     ]
    }
   ],
   "source": [
    "#To split path and filename\n",
    "print(os.path.split('/home/cavisson/test.txt'))"
   ]
  },
  {
   "cell_type": "code",
   "execution_count": 48,
   "metadata": {},
   "outputs": [
    {
     "name": "stdout",
     "output_type": "stream",
     "text": [
      "True\n"
     ]
    }
   ],
   "source": [
    "#To check whether file exists or not\n",
    "print(os.path.exists(\"/home/kushagra/test.txt\"))"
   ]
  },
  {
   "cell_type": "code",
   "execution_count": 49,
   "metadata": {},
   "outputs": [
    {
     "name": "stdout",
     "output_type": "stream",
     "text": [
      "False\n"
     ]
    }
   ],
   "source": [
    "print(os.path.exists(\"/home/cavisson/test.txt\"))"
   ]
  },
  {
   "cell_type": "code",
   "execution_count": 45,
   "metadata": {},
   "outputs": [
    {
     "name": "stdout",
     "output_type": "stream",
     "text": [
      "True\n"
     ]
    }
   ],
   "source": [
    "#Check whether file or not\n",
    "print(os.path.isfile(\"/home/kushagra/test.txt\"))"
   ]
  },
  {
   "cell_type": "code",
   "execution_count": 46,
   "metadata": {},
   "outputs": [
    {
     "name": "stdout",
     "output_type": "stream",
     "text": [
      "True\n"
     ]
    }
   ],
   "source": [
    "#Check whether Dir or not\n",
    "print(os.path.isdir(\"/home/kushagra\"))"
   ]
  },
  {
   "cell_type": "code",
   "execution_count": 52,
   "metadata": {},
   "outputs": [
    {
     "name": "stdout",
     "output_type": "stream",
     "text": [
      "('/tmp/test', '.txt')\n"
     ]
    }
   ],
   "source": [
    "#Spliting extension\n",
    "print(os.path.splitext('/tmp/test.txt'))"
   ]
  },
  {
   "cell_type": "code",
   "execution_count": 53,
   "metadata": {},
   "outputs": [
    {
     "name": "stdout",
     "output_type": "stream",
     "text": [
      "['__all__', '__builtins__', '__cached__', '__doc__', '__file__', '__loader__', '__name__', '__package__', '__spec__', '_get_sep', '_joinrealpath', '_varprog', '_varprogb', 'abspath', 'altsep', 'basename', 'commonpath', 'commonprefix', 'curdir', 'defpath', 'devnull', 'dirname', 'exists', 'expanduser', 'expandvars', 'extsep', 'genericpath', 'getatime', 'getctime', 'getmtime', 'getsize', 'isabs', 'isdir', 'isfile', 'islink', 'ismount', 'join', 'lexists', 'normcase', 'normpath', 'os', 'pardir', 'pathsep', 'realpath', 'relpath', 'samefile', 'sameopenfile', 'samestat', 'sep', 'split', 'splitdrive', 'splitext', 'stat', 'supports_unicode_filenames', 'sys']\n"
     ]
    }
   ],
   "source": [
    "#options with os.path module\n",
    "print(dir(os.path))"
   ]
  }
 ],
 "metadata": {
  "kernelspec": {
   "display_name": "Python 3",
   "language": "python",
   "name": "python3"
  },
  "language_info": {
   "codemirror_mode": {
    "name": "ipython",
    "version": 3
   },
   "file_extension": ".py",
   "mimetype": "text/x-python",
   "name": "python",
   "nbconvert_exporter": "python",
   "pygments_lexer": "ipython3",
   "version": "3.7.3"
  }
 },
 "nbformat": 4,
 "nbformat_minor": 2
}
