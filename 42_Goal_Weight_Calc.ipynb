{
 "cells": [
  {
   "cell_type": "code",
   "execution_count": null,
   "metadata": {},
   "outputs": [],
   "source": [
    "#A calculator which will calculate weeks to reach our goal weight."
   ]
  },
  {
   "cell_type": "code",
   "execution_count": 1,
   "metadata": {},
   "outputs": [],
   "source": [
    "import datetime"
   ]
  },
  {
   "cell_type": "code",
   "execution_count": 2,
   "metadata": {},
   "outputs": [],
   "source": [
    "current_weight = 75 #kg\n",
    "goal_weight = 65    #kg\n",
    "avg_kg_week = 0.6   #losing weight at rate of 0.6kg per week"
   ]
  },
  {
   "cell_type": "code",
   "execution_count": 9,
   "metadata": {},
   "outputs": [
    {
     "name": "stdout",
     "output_type": "stream",
     "text": [
      "2019-07-27\n"
     ]
    }
   ],
   "source": [
    "#Start_date having weight of 75kg\n",
    "start_date = datetime.date.today()\n",
    "end_date = start_date "
   ]
  },
  {
   "cell_type": "code",
   "execution_count": 17,
   "metadata": {},
   "outputs": [
    {
     "name": "stdout",
     "output_type": "stream",
     "text": [
      "Reached Goal Weight in 18 weeks on 2019-11-23.\n"
     ]
    }
   ],
   "source": [
    "while current_weight > goal_weight:\n",
    "    #At every loop end_date is incremented by 7\n",
    "    end_date += datetime.timedelta(days=7)\n",
    "    #At every loop current_weight is decremented by avg weight lose per week\n",
    "    current_weight -=avg_kg_week\n",
    "    \n",
    "print(f'Reached Goal Weight in {(end_date - start_date).days // 7} weeks on {end_date}.')"
   ]
  }
 ],
 "metadata": {
  "kernelspec": {
   "display_name": "Python 3",
   "language": "python",
   "name": "python3"
  },
  "language_info": {
   "codemirror_mode": {
    "name": "ipython",
    "version": 3
   },
   "file_extension": ".py",
   "mimetype": "text/x-python",
   "name": "python",
   "nbconvert_exporter": "python",
   "pygments_lexer": "ipython3",
   "version": "3.7.3"
  }
 },
 "nbformat": 4,
 "nbformat_minor": 2
}
