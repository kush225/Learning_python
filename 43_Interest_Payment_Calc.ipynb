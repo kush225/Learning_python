{
 "cells": [
  {
   "cell_type": "code",
   "execution_count": null,
   "metadata": {},
   "outputs": [],
   "source": [
    "#A Calculator which will calculate amount left to pay of an EMI and Total Cost of Product with interest.."
   ]
  },
  {
   "cell_type": "code",
   "execution_count": 1,
   "metadata": {},
   "outputs": [],
   "source": [
    "import datetime\n",
    "import calendar"
   ]
  },
  {
   "cell_type": "code",
   "execution_count": 60,
   "metadata": {},
   "outputs": [],
   "source": [
    "#Amount to be paid\n",
    "balance = 26999\n",
    "cost_of_product = balance\n",
    "#Interest rate on that amount\n",
    "interest_rate = 13 * .01\n",
    "#(EMI) Equal Monthly Installment\n",
    "monthly_payment = 3165"
   ]
  },
  {
   "cell_type": "code",
   "execution_count": 61,
   "metadata": {},
   "outputs": [
    {
     "name": "stdout",
     "output_type": "stream",
     "text": [
      "31\n",
      "11\n"
     ]
    }
   ],
   "source": [
    "#Purchase date of product, assuming we purchased it today\n",
    "today = datetime.date.today() #today is 20july\n",
    "#calendar.monthrange will return tuple of day of 1st of the month and number of days in month when year and month is passed in it.[works on leap year too]\n",
    "days_in_current_month = calendar.monthrange(today.year, today.month)[1]\n",
    "print(days_in_current_month) #this will be 31 as it is july\n",
    "days_till_end_month = days_in_current_month - today.day\n",
    "print(days_till_end_month)   #days left till next month"
   ]
  },
  {
   "cell_type": "code",
   "execution_count": 62,
   "metadata": {},
   "outputs": [
    {
     "name": "stdout",
     "output_type": "stream",
     "text": [
      "2019-08-01\n"
     ]
    }
   ],
   "source": [
    "#Assuming money is debited at every 1st of month\n",
    "start_date = today + datetime.timedelta(days=days_till_end_month + 1) #1st of the next month, in my case 1st august\n",
    "print(start_date) \n",
    "end_date = start_date"
   ]
  },
  {
   "cell_type": "code",
   "execution_count": 63,
   "metadata": {},
   "outputs": [
    {
     "name": "stdout",
     "output_type": "stream",
     "text": [
      "Date\t\t Amount-Left\n",
      "2019-08-01 \t 24126.49\n",
      "2019-09-01 \t 21222.86\n",
      "2019-10-01 \t 18287.77\n",
      "2019-11-01 \t 15320.89\n",
      "2019-12-01 \t 12321.87\n",
      "2020-01-01 \t 9290.36\n",
      "2020-02-01 \t 6226.01\n",
      "2020-03-01 \t 3128.46\n",
      "2020-04-01 \t 0\n",
      "Total Interest:  1483.3401916666664\n",
      "Total Cost:  28482.340191666666\n"
     ]
    }
   ],
   "source": [
    "print(\"Date\\t\\t Amount-Left\")\n",
    "interest_sum=0\n",
    "while balance > 0:\n",
    "    #on first iteration it will calculate the amount for the current month of purchase\n",
    "    #to make interest rate monthly we have divided it by 12\n",
    "    interest_charge = (interest_rate / 12) * balance\n",
    "    interest_sum +=interest_charge\n",
    "    balance += interest_charge  #same as balance = balance + interest_charge\n",
    "    balance -= monthly_payment\n",
    "    balance = round(balance, 2)\n",
    "    if balance < 0:\n",
    "        balance = 0\n",
    "    \n",
    "    #above 3 lines using ternary operator\n",
    "    # balance = 0 if balance < 0 else round(balance, 2)   \n",
    "    #print the date with amount left \n",
    "    print(end_date,\"\\t\", balance)\n",
    "    \n",
    "    #number of dates in next iterated month\n",
    "    days_in_current_month = calendar.monthrange(end_date.year, end_date.month)[1]\n",
    "    #next date of payment\n",
    "    end_date = end_date + datetime.timedelta(days=days_in_current_month)\n",
    "\n",
    "print(\"Total Interest: \",interest_sum)\n",
    "print(\"Total Cost of Product: \",cost_of_product+interest_sum)"
   ]
  }
 ],
 "metadata": {
  "kernelspec": {
   "display_name": "Python 3",
   "language": "python",
   "name": "python3"
  },
  "language_info": {
   "codemirror_mode": {
    "name": "ipython",
    "version": 3
   },
   "file_extension": ".py",
   "mimetype": "text/x-python",
   "name": "python",
   "nbconvert_exporter": "python",
   "pygments_lexer": "ipython3",
   "version": "3.7.3"
  }
 },
 "nbformat": 4,
 "nbformat_minor": 2
}
