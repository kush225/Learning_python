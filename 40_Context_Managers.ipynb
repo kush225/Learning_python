{
 "cells": [
  {
   "cell_type": "code",
   "execution_count": null,
   "metadata": {},
   "outputs": [],
   "source": [
    "#Context Manager\n",
    "#Managing Resources : In any programming language, the usage of resources like file operations or database connections is very common. But these resources are limited in supply. Therefore, the main problem lies in making sure to release these resources after usage. If they are not released then it will lead to resource leakage and may cause the system to either slow down or crash. It would be very helpful if user have a mechanism for the automatic setup and teardown of resources.In Python, it can be achieved by the usage of context managers which facilitate the proper handling of resources."
   ]
  },
  {
   "cell_type": "code",
   "execution_count": 3,
   "metadata": {},
   "outputs": [],
   "source": [
    "#without context manager\n",
    "f = open('sample.txt','w')\n",
    "f.write('hello my name is kushagra')\n",
    "f.close()\n",
    "#we have remember to close the file "
   ]
  },
  {
   "cell_type": "code",
   "execution_count": 5,
   "metadata": {},
   "outputs": [],
   "source": [
    "#With Context Manager\n",
    "with open('sample2.txt', 'w') as f:\n",
    "    f.write('hello my name is kushagra')\n",
    "#Benefits of using Context Manager\n",
    "#Handles Tear down of resources so we don't have to do manually.\n",
    "#We no longer have to close the file after we are done working with it.\n",
    "#And also recommended bcoz if we throw an error while working with it, it will properly close the file automatically"
   ]
  },
  {
   "cell_type": "code",
   "execution_count": 6,
   "metadata": {},
   "outputs": [
    {
     "name": "stdout",
     "output_type": "stream",
     "text": [
      "True\n"
     ]
    }
   ],
   "source": [
    "#Making our own Context Manager using class\n",
    "class Open_file():\n",
    "    def __init__(self,filename, mode):\n",
    "        self.filename=filename\n",
    "        self.mode=mode\n",
    "    \n",
    "    def __enter__(self):\n",
    "        self.file = open(self.filename,self.mode)\n",
    "        return self.file\n",
    "    \n",
    "    def __exit__(self,exc_type,exc_val,tracebook):\n",
    "        self.file.close()\n",
    "\n",
    "#on running this it will run __init__ method and __enter__ method\n",
    "with Open_file('sample.txt','w') as f: \n",
    "    #since file is opened we can perform operation.\n",
    "    f.write('Testing')\n",
    "#on exiting the indent block __exit__ method runs and close the file\n",
    "    \n",
    "#True value means file got closed after coming out of indent block.\n",
    "print(f.closed)"
   ]
  },
  {
   "cell_type": "code",
   "execution_count": 7,
   "metadata": {},
   "outputs": [
    {
     "name": "stdout",
     "output_type": "stream",
     "text": [
      "True\n"
     ]
    }
   ],
   "source": [
    "#Making our own Context Manager using function\n",
    "#we need to import decorator for creating context manager using function.\n",
    "from contextlib import contextmanager\n",
    "\n",
    "@contextmanager\n",
    "def open_file(file,mode):\n",
    "    try:\n",
    "        f = open(file,mode)\n",
    "        yield f\n",
    "        #this two line will work same as __enter__\n",
    "    finally:\n",
    "        f.close()\n",
    "        #this will run when we exit the indent block\n",
    "    \n",
    "with open_file('sample.txt','w') as f:\n",
    "    f.write(\"hello\")\n",
    "\n",
    "print(f.closed)"
   ]
  },
  {
   "cell_type": "code",
   "execution_count": 10,
   "metadata": {},
   "outputs": [
    {
     "name": "stdout",
     "output_type": "stream",
     "text": [
      "['sample1.txt', 'sample3.txt', 'sample2.txt']\n",
      "['grenade.mp3', 'beautiful.mp3', 'one_love.mp3']\n"
     ]
    }
   ],
   "source": [
    "#The above context manager that we made are already in builtin so we don't really need those.\n",
    "#so let's make a useful context manager\n",
    "#so suppose we are at home directory and we have to go to some directory and do some work and come back to home again\n",
    "#In this case we have to manually come to home path again and again\n",
    "import os\n",
    "\n",
    "cwd = os.getcwd()   #getting current working dir\n",
    "os.chdir('dir1')    #changing cwd to dir1\n",
    "print(os.listdir()) #listing files in dir1\n",
    "os.chdir(cwd)       #switching back to the directory where we started\n",
    "\n",
    "cwd = os.getcwd()   #getting current working dir\n",
    "os.chdir('dir2')    #changing cwd to dir2\n",
    "print(os.listdir()) #listing files in dir2\n",
    "os.chdir(cwd)       #switching back to the directory where we started\n",
    "\n",
    "#So let's use a context manager so when we exit the indent we come to home location automatically"
   ]
  },
  {
   "cell_type": "code",
   "execution_count": 21,
   "metadata": {},
   "outputs": [
    {
     "name": "stdout",
     "output_type": "stream",
     "text": [
      "/home/kushagra/Desktop/GIT-Python\n",
      "['grenade.mp3', 'beautiful.mp3', 'one_love.mp3']\n",
      "/home/kushagra/Desktop/GIT-Python\n",
      "['sample1.txt', 'sample3.txt', 'sample2.txt']\n",
      "/home/kushagra/Desktop/GIT-Python\n"
     ]
    }
   ],
   "source": [
    "#above example using context manager\n",
    "#path at which we are initally present\n",
    "print(os.getcwd())\n",
    "\n",
    "@contextmanager\n",
    "def change_loc(destination):\n",
    "    try:\n",
    "        cwd=os.getcwd()\n",
    "        os.chdir(destination)\n",
    "        yield\n",
    "    finally:\n",
    "        os.chdir(cwd)\n",
    "\n",
    "#changing path location\n",
    "with change_loc('dir2'):\n",
    "    #doing operation at changed location\n",
    "    print(os.listdir())\n",
    "\n",
    "#automatically at initial location\n",
    "print(os.getcwd())\n",
    "\n",
    "#changing path location\n",
    "with change_loc('dir1'):\n",
    "    #doing operation at changed location\n",
    "    print(os.listdir())\n",
    "    \n",
    "#automatically at initial location    \n",
    "print(os.getcwd())\n",
    "\n",
    "#Earlier we have to remember to change back and now we can re use this context manager over and over. and we know resources will be managed automatically.\n",
    "#Other Uses of Context Manager\n",
    "#Database Connection, Acquiring Lock,etc"
   ]
  }
 ],
 "metadata": {
  "kernelspec": {
   "display_name": "Python 3",
   "language": "python",
   "name": "python3"
  },
  "language_info": {
   "codemirror_mode": {
    "name": "ipython",
    "version": 3
   },
   "file_extension": ".py",
   "mimetype": "text/x-python",
   "name": "python",
   "nbconvert_exporter": "python",
   "pygments_lexer": "ipython3",
   "version": "3.7.3"
  }
 },
 "nbformat": 4,
 "nbformat_minor": 2
}
