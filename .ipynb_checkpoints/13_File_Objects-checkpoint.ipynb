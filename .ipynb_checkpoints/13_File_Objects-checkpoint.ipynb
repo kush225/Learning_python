{
 "cells": [
  {
   "cell_type": "code",
   "execution_count": 22,
   "metadata": {},
   "outputs": [],
   "source": [
    "#Module to use underlying os commands\n",
    "import subprocess"
   ]
  },
  {
   "cell_type": "code",
   "execution_count": 23,
   "metadata": {},
   "outputs": [
    {
     "data": {
      "text/plain": [
       "'1) This is a test file!\\n2) With multiple of lines of data.\\n3) Third line\\n4) Forth line\\n5) Fifth line\\n6) Sixth line\\n7) Seventh line\\n8) Eighth line\\n9) Ninth line\\n10) Tenth line'"
      ]
     },
     "execution_count": 23,
     "metadata": {},
     "output_type": "execute_result"
    }
   ],
   "source": [
    "#test.txt is a file containg data, shown using cat command\n",
    "subprocess.getoutput(\"cat test.txt\")"
   ]
  },
  {
   "cell_type": "code",
   "execution_count": 24,
   "metadata": {},
   "outputs": [],
   "source": [
    "#no path is needed as file is present in same directory otherwise fullpath to file would be given, r represent file is open for reading which is default mode. so if you don't specify it will open in read mode only.\n",
    "# r = read\n",
    "# a = append\n",
    "# w = write\n",
    "# r+= read+write\n",
    "f = open('test.txt','r')"
   ]
  },
  {
   "cell_type": "code",
   "execution_count": 26,
   "metadata": {},
   "outputs": [
    {
     "name": "stdout",
     "output_type": "stream",
     "text": [
      "test.txt\n",
      "r\n"
     ]
    }
   ],
   "source": [
    "#It will print the name of file\n",
    "print(f.name)\n",
    "\n",
    "#It will print the mode used\n",
    "print(f.mode)"
   ]
  },
  {
   "cell_type": "code",
   "execution_count": 27,
   "metadata": {},
   "outputs": [],
   "source": [
    "#Closing the file\n",
    "f.close()"
   ]
  },
  {
   "cell_type": "code",
   "execution_count": 33,
   "metadata": {},
   "outputs": [
    {
     "name": "stdout",
     "output_type": "stream",
     "text": [
      "1) This is a test file!\n",
      "2) With multiple of lines of data.\n",
      "3) Third line\n",
      "4) Forth line\n",
      "5) Fifth line\n",
      "6) Sixth line\n",
      "7) Seventh line\n",
      "8) Eighth line\n",
      "9) Ninth line\n",
      "10) Tenth line\n",
      "\n"
     ]
    }
   ],
   "source": [
    "#using Context Manager [Benefit is that it will automatically close the file so it will provide memory leak]\n",
    "#read will display all the lines of file. [use in case of small files]\n",
    "with open('test.txt', 'r') as f:\n",
    "    f_contents = f.read()\n",
    "    print(f_contents)"
   ]
  },
  {
   "cell_type": "code",
   "execution_count": 34,
   "metadata": {},
   "outputs": [
    {
     "name": "stdout",
     "output_type": "stream",
     "text": [
      "['1) This is a test file!\\n', '2) With multiple of lines of data.\\n', '3) Third line\\n', '4) Forth line\\n', '5) Fifth line\\n', '6) Sixth line\\n', '7) Seventh line\\n', '8) Eighth line\\n', '9) Ninth line\\n', '10) Tenth line\\n']\n"
     ]
    }
   ],
   "source": [
    "#readlines will show lines in the form of list\n",
    "with open('test.txt', 'r') as f:\n",
    "    f_contents = f.readlines()\n",
    "    print(f_contents)"
   ]
  },
  {
   "cell_type": "code",
   "execution_count": 37,
   "metadata": {},
   "outputs": [
    {
     "name": "stdout",
     "output_type": "stream",
     "text": [
      "1) This is a test file!\n",
      "\n",
      "2) With multiple of lines of data.\n",
      "3) Third line\n",
      "\n"
     ]
    }
   ],
   "source": [
    "#readline will display, one line at a time and move cursor to next line and when readline is invoked again then it will print the other line.\n",
    "#print by default adds a newline.. that's why end='' is used.\n",
    "with open('test.txt', 'r') as f:\n",
    "    f_contents = f.readline()\n",
    "    print(f_contents)\n",
    "    \n",
    "    f_contents = f.readline()\n",
    "    print(f_contents, end='')\n",
    "    \n",
    "    f_contents = f.readline()\n",
    "    print(f_contents)"
   ]
  },
  {
   "cell_type": "code",
   "execution_count": 40,
   "metadata": {},
   "outputs": [
    {
     "name": "stdout",
     "output_type": "stream",
     "text": [
      "1) This is a test file!\n",
      "2) With multiple of lines of data.\n",
      "3) Third line\n",
      "4) Forth line\n",
      "5) Fifth line\n",
      "6) Sixth line\n",
      "7) Seventh line\n",
      "8) Eighth line\n",
      "9) Ninth line\n",
      "10) Tenth line\n"
     ]
    }
   ],
   "source": [
    "#This is better than read as this will not read all lines at once and helps with memory consumption\n",
    "with open('test.txt', 'r') as f:\n",
    "    for line in f:\n",
    "        print(line,end='')"
   ]
  },
  {
   "cell_type": "code",
   "execution_count": 42,
   "metadata": {},
   "outputs": [
    {
     "name": "stdout",
     "output_type": "stream",
     "text": [
      "1) This is a test file!\n",
      "2) With multiple of lines of data.\n",
      "3) Third line\n",
      "4) Forth line\n",
      "5) Fifth line\n",
      "\n",
      "6) Sixth line\n",
      "7) Seventh line\n",
      "8) Eighth line\n",
      "9) Ninth line\n",
      "10) Tenth line\n",
      "\n"
     ]
    }
   ],
   "source": [
    "#you can limit the amount of data to read. by passing it in the read method. I.n this case 100 characters gets read\n",
    "with open('test.txt', 'r') as f:\n",
    "    f_contents = f.read(100)\n",
    "    print(f_contents)\n",
    "    \n",
    "    f_contents = f.read(100)\n",
    "    print(f_contents)"
   ]
  },
  {
   "cell_type": "code",
   "execution_count": null,
   "metadata": {},
   "outputs": [],
   "source": [
    "with open('test.txt', 'r') as f:\n",
    "    "
   ]
  }
 ],
 "metadata": {
  "kernelspec": {
   "display_name": "Python 3",
   "language": "python",
   "name": "python3"
  },
  "language_info": {
   "codemirror_mode": {
    "name": "ipython",
    "version": 3
   },
   "file_extension": ".py",
   "mimetype": "text/x-python",
   "name": "python",
   "nbconvert_exporter": "python",
   "pygments_lexer": "ipython3",
   "version": "3.7.3"
  }
 },
 "nbformat": 4,
 "nbformat_minor": 2
}
