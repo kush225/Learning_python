{
 "cells": [
  {
   "cell_type": "code",
   "execution_count": 1,
   "metadata": {},
   "outputs": [],
   "source": [
    "#Python Object-Oriented Programming\n",
    "#classmethods and staticmethods"
   ]
  },
  {
   "cell_type": "code",
   "execution_count": 2,
   "metadata": {},
   "outputs": [
    {
     "name": "stdout",
     "output_type": "stream",
     "text": [
      "1.04\n",
      "1.04\n",
      "1.04\n"
     ]
    }
   ],
   "source": [
    "#regular methods take instance as a 1st argument and by convention we were calling it as self,\n",
    "class Employee:\n",
    "    num_of_emps=0\n",
    "    raise_amount=1.04\n",
    "    \n",
    "    def __init__(self, first, last, pay):\n",
    "        self.first = first\n",
    "        self.last = last\n",
    "        self.pay = pay\n",
    "        self.email = first + '.' + last + '@company.com'\n",
    "    \n",
    "        Employee.num_of_emps +=1\n",
    "        \n",
    "    def fullname(self):\n",
    "        return '{} {}'.format(self.first, self.last)\n",
    "    \n",
    "    def apply_raise(self):\n",
    "        self.pay=int(self.pay * self.raise_amount)  \n",
    "\n",
    "emp_1 = Employee('Kushagra','Gupta',50000)\n",
    "emp_2 = Employee('Sam','White',30000)\n",
    "\n",
    "print(Employee.raise_amount)\n",
    "print(emp_1.raise_amount)\n",
    "print(emp_2.raise_amount)\n",
    "\n",
    "\n",
    "#so how to change that it will take class as 1st argument to do that we will use classmethods\n"
   ]
  },
  {
   "cell_type": "code",
   "execution_count": 5,
   "metadata": {},
   "outputs": [
    {
     "name": "stdout",
     "output_type": "stream",
     "text": [
      "1.04\n",
      "1.04\n",
      "1.04\n",
      "1.05\n",
      "1.05\n",
      "1.05\n"
     ]
    }
   ],
   "source": [
    "#classmethod\n",
    "\n",
    "class Employee:\n",
    "    num_of_emps=0\n",
    "    raise_amount=1.04\n",
    "    \n",
    "    def __init__(self, first, last, pay):\n",
    "        self.first = first\n",
    "        self.last = last\n",
    "        self.pay = pay\n",
    "        self.email = first + '.' + last + '@company.com'\n",
    "    \n",
    "        Employee.num_of_emps +=1\n",
    "        \n",
    "    def fullname(self):\n",
    "        return '{} {}'.format(self.first, self.last)\n",
    "    \n",
    "    def apply_raise(self):\n",
    "        self.pay=int(self.pay * self.raise_amount)  \n",
    "    \n",
    "    @classmethod #Decorator\n",
    "    def set_raise_amt(cls,amount): #by convention we use cls in class method like we use self.\n",
    "        cls.raise_amount=amount\n",
    "        \n",
    "emp_1 = Employee('Kushagra','Gupta',50000)\n",
    "emp_2 = Employee('Sam','White',30000)\n",
    "\n",
    "print(Employee.raise_amount)\n",
    "print(emp_1.raise_amount)\n",
    "print(emp_2.raise_amount)\n",
    "\n",
    "Employee.set_raise_amt(1.05) #this will set the raise amount to 1.05\n",
    "#same as saying Employee.raise_amount=1.05\n",
    "\n",
    "#emp_1.set_raise_amt(1.05) #will work same as above changes class variable for all instances,\n",
    "#but that doesnot make any sense.\n",
    "\n",
    "print(Employee.raise_amount)\n",
    "print(emp_1.raise_amount)\n",
    "print(emp_2.raise_amount)"
   ]
  },
  {
   "cell_type": "code",
   "execution_count": 6,
   "metadata": {},
   "outputs": [
    {
     "name": "stdout",
     "output_type": "stream",
     "text": [
      "John.wick@company.com\n",
      "70000\n"
     ]
    }
   ],
   "source": [
    "#suppose we have employee details spliting by '-' and we want to add in employee class\n",
    "\n",
    "emp_str_1 ='John-wick-70000'\n",
    "emp_str_2 ='bruce-wayne-100000'\n",
    "\n",
    "first, last, pay = emp_str_1.split('-')\n",
    "\n",
    "new_emp_1 = Employee(first, last, pay)\n",
    "\n",
    "print(new_emp_1.email)\n",
    "print(new_emp_1.pay)"
   ]
  },
  {
   "cell_type": "code",
   "execution_count": 10,
   "metadata": {},
   "outputs": [
    {
     "name": "stdout",
     "output_type": "stream",
     "text": [
      "John.wick@company.com\n",
      "bruce.wayne@company.com\n"
     ]
    }
   ],
   "source": [
    "#classmethod as alternative constructor\n",
    "#we can create an alternative constructor so we don't have to do above steps manually\n",
    "\n",
    "class Employee:\n",
    "    num_of_emps=0\n",
    "    raise_amount=1.04\n",
    "    \n",
    "    def __init__(self, first, last, pay):\n",
    "        self.first = first\n",
    "        self.last = last\n",
    "        self.pay = pay\n",
    "        self.email = first + '.' + last + '@company.com'\n",
    "    \n",
    "        Employee.num_of_emps +=1\n",
    "        \n",
    "    def fullname(self):\n",
    "        return '{} {}'.format(self.first, self.last)\n",
    "    \n",
    "    def apply_raise(self):\n",
    "        self.pay=int(self.pay * self.raise_amount)  \n",
    "    \n",
    "    @classmethod #Decorator\n",
    "    def set_raise_amt(cls,amount): #by convention we use cls in class method like we use self.\n",
    "        cls.raise_amount=amount\n",
    "        \n",
    "    @classmethod\n",
    "    def from_string(cls, emp_str):\n",
    "        first, last, pay = emp_str.split('-')\n",
    "        return cls(first, last, pay)\n",
    "    \n",
    "emp_1 = Employee('Kushagra','Gupta',50000)\n",
    "emp_2 = Employee('Sam','White',30000)\n",
    "    \n",
    "emp_str_1 ='John-wick-70000'\n",
    "emp_str_2 ='bruce-wayne-100000'\n",
    "\n",
    "new_emp_1 =Employee.from_string(emp_str_1)\n",
    "new_emp_2 =Employee.from_string(emp_str_2)\n",
    "\n",
    "print(new_emp_1.email)\n",
    "print(new_emp_2.email)"
   ]
  },
  {
   "cell_type": "code",
   "execution_count": 9,
   "metadata": {},
   "outputs": [],
   "source": [
    "#staticmethod\n",
    "#these method don't pass anything automatically like regular methods automatically pass instance\n",
    "#we call that self.. class methods automatically pass class we call that cls.\n",
    "#staticmethod works like regular function"
   ]
  },
  {
   "cell_type": "code",
   "execution_count": 12,
   "metadata": {},
   "outputs": [
    {
     "name": "stdout",
     "output_type": "stream",
     "text": [
      "False\n",
      "True\n"
     ]
    }
   ],
   "source": [
    "#we want a simple function that would take a date and return whether it's a workday or not.\n",
    "#this has a logical connection to our employee class but it doesn't depend on any instance\n",
    "#or class variable\n",
    "\n",
    "class Employee:\n",
    "    num_of_emps=0\n",
    "    raise_amount=1.04\n",
    "    \n",
    "    def __init__(self, first, last, pay):\n",
    "        self.first = first\n",
    "        self.last = last\n",
    "        self.pay = pay\n",
    "        self.email = first + '.' + last + '@company.com'\n",
    "    \n",
    "        Employee.num_of_emps +=1\n",
    "        \n",
    "    def fullname(self):\n",
    "        return '{} {}'.format(self.first, self.last)\n",
    "    \n",
    "    def apply_raise(self):\n",
    "        self.pay=int(self.pay * self.raise_amount)  \n",
    "    \n",
    "    @classmethod #Decorator\n",
    "    def set_raise_amt(cls,amount): #by convention we use cls in class method like we use self.\n",
    "        cls.raise_amount=amount\n",
    "        \n",
    "    @classmethod\n",
    "    def from_string(cls, emp_str):\n",
    "        first, last, pay = emp_str.split('-')\n",
    "        return cls(first, last, pay)\n",
    "    \n",
    "    @staticmethod\n",
    "    def is_workday(day):\n",
    "        if day.weekday() ==5 or day.weekday() ==6: #5 means saturday and 6 means sunday\n",
    "            return False\n",
    "        return True\n",
    "\n",
    "emp_1 = Employee('Kushagra','Gupta',50000)\n",
    "emp_2 = Employee('Sam','White',30000)\n",
    "\n",
    "import datetime #module to create date\n",
    "my_date= datetime.date(2016,7,10)\n",
    "\n",
    "print(Employee.is_workday(my_date)) #False as sunday\n",
    "\n",
    "my_date= datetime.date(2016,7,11)\n",
    "\n",
    "print(Employee.is_workday(my_date)) #True as monday"
   ]
  }
 ],
 "metadata": {
  "kernelspec": {
   "display_name": "Python 3",
   "language": "python",
   "name": "python3"
  },
  "language_info": {
   "codemirror_mode": {
    "name": "ipython",
    "version": 3
   },
   "file_extension": ".py",
   "mimetype": "text/x-python",
   "name": "python",
   "nbconvert_exporter": "python",
   "pygments_lexer": "ipython3",
   "version": "3.7.3"
  }
 },
 "nbformat": 4,
 "nbformat_minor": 2
}
