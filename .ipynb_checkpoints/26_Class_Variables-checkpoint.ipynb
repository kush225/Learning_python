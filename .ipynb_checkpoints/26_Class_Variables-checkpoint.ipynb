{
 "cells": [
  {
   "cell_type": "code",
   "execution_count": null,
   "metadata": {},
   "outputs": [],
   "source": [
    "#Python Object-Oriented Programming\n",
    "#Class Variables\n",
    "#class variables are variables which are shared among all instances of class. whereas\n",
    "#instance variables are variables which are unique to instances like name, email, pay."
   ]
  },
  {
   "cell_type": "code",
   "execution_count": 1,
   "metadata": {},
   "outputs": [
    {
     "name": "stdout",
     "output_type": "stream",
     "text": [
      "50000\n",
      "52000\n"
     ]
    }
   ],
   "source": [
    "#Suppose in a class employee we want a raise, as raise will be same for all employees.\n",
    "#But we are hard coding raise_amount to 1.04%\n",
    "class Employee:\n",
    "    def __init__(self, first, last, pay):\n",
    "        self.first = first   # same as saying emp_1.first = 'Kushagra'\n",
    "        self.last = last\n",
    "        self.pay = pay\n",
    "        self.email = first + '.' + last + '@company.com'\n",
    "        \n",
    "    def fullname(self):\n",
    "        return '{} {}'.format(self.first, self.last)\n",
    "    \n",
    "    def apply_raise(self):\n",
    "        self.pay=int(self.pay * 1.04)\n",
    "    \n",
    "emp_1 = Employee('Kushagra','Gupta',50000)\n",
    "emp_2 = Employee('Sam','White',30000)\n",
    "\n",
    "print(emp_1.pay)\n",
    "emp_1.apply_raise()\n",
    "print(emp_1.pay)"
   ]
  },
  {
   "cell_type": "code",
   "execution_count": 3,
   "metadata": {},
   "outputs": [
    {
     "name": "stdout",
     "output_type": "stream",
     "text": [
      "50000\n",
      "52000\n"
     ]
    }
   ],
   "source": [
    "#Using Class Variable\n",
    "class Employee:\n",
    "    raise_amount=1.04\n",
    "    \n",
    "    def __init__(self, first, last, pay):\n",
    "        self.first = first   # same as saying emp_1.first = 'Kushagra'\n",
    "        self.last = last\n",
    "        self.pay = pay\n",
    "        self.email = first + '.' + last + '@company.com'\n",
    "        \n",
    "    def fullname(self):\n",
    "        return '{} {}'.format(self.first, self.last)\n",
    "    \n",
    "    def apply_raise(self):\n",
    "        #self.pay=int(self.pay * raise_amount) #will give error \"name 'raise_amount' is not defined\"\n",
    "        self.pay=int(self.pay * Employee.raise_amount) \n",
    "        #self.pay=int(self.pay * self.raise_amount) #will work same as above\n",
    "        \n",
    "emp_1 = Employee('Kushagra','Gupta',50000)\n",
    "emp_2 = Employee('Sam','White',30000)\n",
    "        \n",
    "print(emp_1.pay)\n",
    "emp_1.apply_raise()\n",
    "print(emp_1.pay)"
   ]
  },
  {
   "cell_type": "code",
   "execution_count": 5,
   "metadata": {},
   "outputs": [
    {
     "name": "stdout",
     "output_type": "stream",
     "text": [
      "1.04\n",
      "1.04\n",
      "1.04\n"
     ]
    }
   ],
   "source": [
    "class Employee:\n",
    "    raise_amount=1.04\n",
    "    \n",
    "    def __init__(self, first, last, pay):\n",
    "        self.first = first   # same as saying emp_1.first = 'Kushagra'\n",
    "        self.last = last\n",
    "        self.pay = pay\n",
    "        self.email = first + '.' + last + '@company.com'\n",
    "        \n",
    "    def fullname(self):\n",
    "        return '{} {}'.format(self.first, self.last)\n",
    "    \n",
    "    def apply_raise(self):\n",
    "        self.pay=int(self.pay * self.raise_amount) \n",
    "        \n",
    "emp_1 = Employee('Kushagra','Gupta',50000)\n",
    "emp_2 = Employee('Sam','White',30000)\n",
    "\n",
    "print(Employee.raise_amount)\n",
    "print(emp_1.raise_amount)\n",
    "print(emp_2.raise_amount)\n",
    "#We can access Class Variables both from class and it's instances\n",
    "#When we try to access an attribute on an instance, it first checks if that instance contain that\n",
    "#attribute and if it doesn't then it checks whether the class or any class that it inherit from \n",
    "#contains that attribute. so when we access raise_amount from instances like emp_1.raise_amount\n",
    "#or emp_2.raise_amount. they don't have attribute to themselves they are accessing classes\n",
    "#raise_amount attribute."
   ]
  },
  {
   "cell_type": "code",
   "execution_count": 6,
   "metadata": {},
   "outputs": [
    {
     "name": "stdout",
     "output_type": "stream",
     "text": [
      "{'first': 'Kushagra', 'last': 'Gupta', 'pay': 50000, 'email': 'Kushagra.Gupta@company.com'}\n"
     ]
    }
   ],
   "source": [
    "print(emp_1.__dict__) #you can see there is no raise_amount in here"
   ]
  },
  {
   "cell_type": "code",
   "execution_count": 7,
   "metadata": {},
   "outputs": [
    {
     "name": "stdout",
     "output_type": "stream",
     "text": [
      "{'__module__': '__main__', 'raise_amount': 1.04, '__init__': <function Employee.__init__ at 0x7f50804aee18>, 'fullname': <function Employee.fullname at 0x7f50804aed90>, 'apply_raise': <function Employee.apply_raise at 0x7f50804aed08>, '__dict__': <attribute '__dict__' of 'Employee' objects>, '__weakref__': <attribute '__weakref__' of 'Employee' objects>, '__doc__': None}\n"
     ]
    }
   ],
   "source": [
    "print(Employee.__dict__) #we can see raise_amount attribute is there in class"
   ]
  },
  {
   "cell_type": "code",
   "execution_count": 8,
   "metadata": {},
   "outputs": [
    {
     "name": "stdout",
     "output_type": "stream",
     "text": [
      "1.05\n",
      "1.05\n",
      "1.05\n"
     ]
    }
   ],
   "source": [
    "Employee.raise_amount=1.05 #this will change raise amount for the class and all the instances.\n",
    "\n",
    "print(Employee.raise_amount)\n",
    "print(emp_1.raise_amount)\n",
    "print(emp_2.raise_amount)"
   ]
  },
  {
   "cell_type": "code",
   "execution_count": 11,
   "metadata": {},
   "outputs": [
    {
     "name": "stdout",
     "output_type": "stream",
     "text": [
      "{'first': 'Kushagra', 'last': 'Gupta', 'pay': 50000, 'email': 'Kushagra.Gupta@company.com', 'raise_amount': 1.1}\n",
      "{'first': 'Sam', 'last': 'White', 'pay': 30000, 'email': 'Sam.White@company.com'}\n",
      "1.05\n",
      "1.1\n",
      "1.05\n"
     ]
    }
   ],
   "source": [
    "emp_1.raise_amount=1.1 #this will create namespace of raise_amount in emp_1\n",
    "\n",
    "print(emp_1.__dict__) #raise_amount will be in the namespace of emp1\n",
    "print(emp_2.__dict__) #but not in emp_2 as it still using Employee's.\n",
    "print(Employee.raise_amount)\n",
    "print(emp_1.raise_amount)\n",
    "print(emp_2.raise_amount)"
   ]
  },
  {
   "cell_type": "code",
   "execution_count": 13,
   "metadata": {},
   "outputs": [
    {
     "name": "stdout",
     "output_type": "stream",
     "text": [
      "0\n",
      "2\n"
     ]
    }
   ],
   "source": [
    "class Employee:\n",
    "    num_of_emps=0\n",
    "    raise_amount=1.04\n",
    "    \n",
    "    def __init__(self, first, last, pay):\n",
    "        self.first = first   # same as saying emp_1.first = 'Kushagra'\n",
    "        self.last = last\n",
    "        self.pay = pay\n",
    "        self.email = first + '.' + last + '@company.com'\n",
    "        \n",
    "        Employee.num_of_emps +=1\n",
    "    #here we use Employee not self because there is not use case where we want total no. of employee\n",
    "    #different for different instances\n",
    "        \n",
    "    def fullname(self):\n",
    "        return '{} {}'.format(self.first, self.last)\n",
    "    \n",
    "    def apply_raise(self):\n",
    "        self.pay=int(self.pay * self.raise_amount)  \n",
    "#here using self.raise_amount instead of Employee.raise_amount will give us ability to change \n",
    "#raise amount for different instances. Otherwise it will be same for all instances\n",
    "\n",
    "print(Employee.num_of_emps) #this will result zero as we have not initiated Employee.\n",
    "\n",
    "emp_1 = Employee('Kushagra','Gupta',50000)\n",
    "emp_2 = Employee('Sam','White',30000)\n",
    "\n",
    "print(Employee.num_of_emps)  #this will result two as we have nitiated Employee twice."
   ]
  }
 ],
 "metadata": {
  "kernelspec": {
   "display_name": "Python 3",
   "language": "python",
   "name": "python3"
  },
  "language_info": {
   "codemirror_mode": {
    "name": "ipython",
    "version": 3
   },
   "file_extension": ".py",
   "mimetype": "text/x-python",
   "name": "python",
   "nbconvert_exporter": "python",
   "pygments_lexer": "ipython3",
   "version": "3.7.3"
  }
 },
 "nbformat": 4,
 "nbformat_minor": 2
}
