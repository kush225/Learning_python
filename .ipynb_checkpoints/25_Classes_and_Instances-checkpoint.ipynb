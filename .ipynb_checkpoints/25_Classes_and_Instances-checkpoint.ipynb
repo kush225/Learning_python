{
 "cells": [
  {
   "cell_type": "code",
   "execution_count": 1,
   "metadata": {},
   "outputs": [],
   "source": [
    "#Python Object-Oriented Programming\n",
    "#Classes and Instances"
   ]
  },
  {
   "cell_type": "code",
   "execution_count": 2,
   "metadata": {},
   "outputs": [],
   "source": [
    "#Why to Use Class?\n",
    "#1) they allow us to logically group our data(attributes) and function(methods) in a way to easy to reuse and easy to build upon if need.\n",
    "#methods- function associated with class\n",
    "#attributes- data associated with class"
   ]
  },
  {
   "cell_type": "code",
   "execution_count": 3,
   "metadata": {},
   "outputs": [
    {
     "name": "stdout",
     "output_type": "stream",
     "text": [
      "<__main__.Employee object at 0x7f857cf4d438>\n",
      "<__main__.Employee object at 0x7f857cf4d400>\n"
     ]
    }
   ],
   "source": [
    "class Employee: #A class is a blueprint for creating instances.\n",
    "    pass\n",
    "\n",
    "#Instance Variable\n",
    "#Each of this are own unique instances of class Employee\n",
    "emp_1 = Employee()\n",
    "emp_2 = Employee()\n",
    "\n",
    "#Both are unique as both have different location\n",
    "print(emp_1)\n",
    "print(emp_2)\n",
    "\n",
    "#Instance Variable are those who contain data unique to each Instance."
   ]
  },
  {
   "cell_type": "code",
   "execution_count": 4,
   "metadata": {},
   "outputs": [
    {
     "name": "stdout",
     "output_type": "stream",
     "text": [
      "Kushagra.Gupta@company.com\n",
      "Sam.White@company.com\n"
     ]
    }
   ],
   "source": [
    "#we don't get any benefit of classes, if we do it this way. and the better way is to use init method(constructor)\n",
    "emp_1.first = 'Kushagra'\n",
    "emp_1.last = 'Gupta'\n",
    "emp_1.email = 'Kushagra.Gupta@company.com'\n",
    "emp_1.pay = 50000\n",
    "\n",
    "emp_2.first = 'Sam'\n",
    "emp_2.last = 'White'\n",
    "emp_2.email = 'Sam.White@company.com'\n",
    "emp_2.pay = 30000\n",
    "\n",
    "print(emp_1.email)\n",
    "\n",
    "print(emp_2.email)"
   ]
  },
  {
   "cell_type": "code",
   "execution_count": 7,
   "metadata": {},
   "outputs": [
    {
     "name": "stdout",
     "output_type": "stream",
     "text": [
      "Kushagra.Gupta@company.com\n",
      "Sam.White@company.com\n",
      "Kushagra Gupta\n"
     ]
    }
   ],
   "source": [
    "#init method(constructor)\n",
    "#when we create method within a class they received the instance as the first argument automatically.\n",
    "#you can call the instance anything but by convention we call it as self.\n",
    "class Employee:\n",
    "    def __init__(self, first, last, pay):\n",
    "        self.first = first   # same as saying emp_1.first = 'Kushagra'\n",
    "        self.last = last\n",
    "        self.pay = pay\n",
    "        self.email = first + '.' + last + '@company.com'\n",
    "        \n",
    "emp_1 = Employee('Kushagra','Gupta',50000)\n",
    "#init method will be run automatically and emp_1 will be passed as self and set all the attributes\n",
    "#like emp_1.last ='Gupta'\n",
    "emp_2 = Employee('Sam','White',30000)\n",
    "\n",
    "print(emp_1.email)\n",
    "\n",
    "print(emp_2.email)\n",
    "#we can get full name \n",
    "print('{} {}'.format(emp_1.first, emp_1.last))"
   ]
  },
  {
   "cell_type": "code",
   "execution_count": 30,
   "metadata": {},
   "outputs": [
    {
     "name": "stdout",
     "output_type": "stream",
     "text": [
      "<bound method Employee.fullname of <__main__.Employee object at 0x7f857cee3748>>\n",
      "Sam White\n"
     ]
    }
   ],
   "source": [
    "#Better way to get fullname by creating a method for that\n",
    "class Employee:\n",
    "    def __init__(self, first, last, pay):\n",
    "        self.first = first   # same as saying emp_1.first = 'Kushagra'\n",
    "        self.last = last\n",
    "        self.pay = pay\n",
    "        self.email = first + '.' + last + '@company.com'\n",
    "        \n",
    "    def fullname(self):\n",
    "        return '{} {}'.format(self.first, self.last)\n",
    "    \n",
    "emp_1 = Employee('Kushagra','Gupta',50000)\n",
    "emp_2 = Employee('Sam','White',30000)\n",
    "    \n",
    "print(emp_2.fullname) #prints method not it's return value\n",
    "print(emp_2.fullname()) #we need parenthesis as it's method not attribute"
   ]
  },
  {
   "cell_type": "code",
   "execution_count": 27,
   "metadata": {},
   "outputs": [
    {
     "ename": "TypeError",
     "evalue": "fullname() takes 0 positional arguments but 1 was given",
     "output_type": "error",
     "traceback": [
      "\u001b[0;31m---------------------------------------------------------------------------\u001b[0m",
      "\u001b[0;31mTypeError\u001b[0m                                 Traceback (most recent call last)",
      "\u001b[0;32m<ipython-input-27-72ad866bf518>\u001b[0m in \u001b[0;36m<module>\u001b[0;34m\u001b[0m\n\u001b[1;32m     12\u001b[0m \u001b[0memp_2\u001b[0m \u001b[0;34m=\u001b[0m \u001b[0mEmployee\u001b[0m\u001b[0;34m(\u001b[0m\u001b[0;34m'Sam'\u001b[0m\u001b[0;34m,\u001b[0m\u001b[0;34m'White'\u001b[0m\u001b[0;34m,\u001b[0m\u001b[0;36m30000\u001b[0m\u001b[0;34m)\u001b[0m\u001b[0;34m\u001b[0m\u001b[0;34m\u001b[0m\u001b[0m\n\u001b[1;32m     13\u001b[0m \u001b[0;34m\u001b[0m\u001b[0m\n\u001b[0;32m---> 14\u001b[0;31m \u001b[0mprint\u001b[0m\u001b[0;34m(\u001b[0m\u001b[0memp_1\u001b[0m\u001b[0;34m.\u001b[0m\u001b[0mfullname\u001b[0m\u001b[0;34m(\u001b[0m\u001b[0;34m)\u001b[0m\u001b[0;34m)\u001b[0m\u001b[0;34m\u001b[0m\u001b[0;34m\u001b[0m\u001b[0m\n\u001b[0m",
      "\u001b[0;31mTypeError\u001b[0m: fullname() takes 0 positional arguments but 1 was given"
     ]
    }
   ],
   "source": [
    "class Employee:\n",
    "    def __init__(self, first, last, pay):\n",
    "        self.first = first   # same as saying emp_1.first = 'Kushagra'\n",
    "        self.last = last\n",
    "        self.pay = pay\n",
    "        self.email = first + '.' + last + '@company.com'\n",
    "        \n",
    "    def fullname():\n",
    "        return '{} {}'.format(self.first, self.last)\n",
    "    \n",
    "emp_1 = Employee('Kushagra','Gupta',50000)\n",
    "emp_2 = Employee('Sam','White',30000)\n",
    "    \n",
    "print(emp_1.fullname())\n",
    "#fullname() takes 0 positional arguments but 1 was given. when we emp_1.fullname()\n",
    "#it means emp_1 is automatically passed like fullname(emp_1) as an argument but\n",
    "#fullname method doesnot have place for any argument so we have to add self\n",
    "#as an argument in fullname method"
   ]
  },
  {
   "cell_type": "code",
   "execution_count": 33,
   "metadata": {},
   "outputs": [
    {
     "name": "stdout",
     "output_type": "stream",
     "text": [
      "Kushagra Gupta\n",
      "Kushagra Gupta\n"
     ]
    }
   ],
   "source": [
    "class Employee:\n",
    "    def __init__(self, first, last, pay):\n",
    "        self.first = first   # same as saying emp_1.first = 'Kushagra'\n",
    "        self.last = last\n",
    "        self.pay = pay\n",
    "        self.email = first + '.' + last + '@company.com'\n",
    "        \n",
    "    def fullname(self):\n",
    "        return '{} {}'.format(self.first, self.last)\n",
    "    \n",
    "emp_1 = Employee('Kushagra','Gupta',50000)\n",
    "emp_2 = Employee('Sam','White',30000)\n",
    "\n",
    "print(Employee.fullname(emp_1))\n",
    "print(emp_1.fullname())  #In background this transform as this print(Employee.fullname(emp_1))\n",
    "#Both works the same but on first case it i have to pass instance manually as it doesn't know \n",
    "#which instance to use.. In second case self is passed automatically"
   ]
  }
 ],
 "metadata": {
  "kernelspec": {
   "display_name": "Python 3",
   "language": "python",
   "name": "python3"
  },
  "language_info": {
   "codemirror_mode": {
    "name": "ipython",
    "version": 3
   },
   "file_extension": ".py",
   "mimetype": "text/x-python",
   "name": "python",
   "nbconvert_exporter": "python",
   "pygments_lexer": "ipython3",
   "version": "3.7.3"
  }
 },
 "nbformat": 4,
 "nbformat_minor": 2
}
