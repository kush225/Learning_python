{
 "cells": [
  {
   "cell_type": "code",
   "execution_count": 1,
   "metadata": {},
   "outputs": [],
   "source": [
    "#Else_Clauses_on_Loops"
   ]
  },
  {
   "cell_type": "code",
   "execution_count": 2,
   "metadata": {},
   "outputs": [
    {
     "name": "stdout",
     "output_type": "stream",
     "text": [
      "num is not less than 2\n"
     ]
    }
   ],
   "source": [
    "#Else With If is common and straight-forward[Either-or case]\n",
    "num=2\n",
    "if num < 2:\n",
    "    print('num is less than 2')\n",
    "else:\n",
    "    print('num is not less than 2')"
   ]
  },
  {
   "cell_type": "code",
   "execution_count": 4,
   "metadata": {},
   "outputs": [
    {
     "name": "stdout",
     "output_type": "stream",
     "text": [
      "1\n",
      "3\n",
      "4\n",
      "5\n",
      "Hit the For/Else Statement\n"
     ]
    }
   ],
   "source": [
    "#Else with for loop\n",
    "my_list=[1,2,3,4,5]\n",
    "for i in my_list:\n",
    "    print(i)\n",
    "else:\n",
    "    print('Hit the For/Else Statement')\n",
    "#else statement will get print if for loop doesnot terminate by a break statement   \n",
    "#just think else as no break."
   ]
  },
  {
   "cell_type": "code",
   "execution_count": 5,
   "metadata": {},
   "outputs": [
    {
     "name": "stdout",
     "output_type": "stream",
     "text": [
      "1\n",
      "2\n",
      "3\n"
     ]
    }
   ],
   "source": [
    "#In this case else statement won't get print\n",
    "my_list=[1,2,3,4,5]\n",
    "for i in my_list:\n",
    "    if i==4:\n",
    "        break\n",
    "    print(i)\n",
    "else:\n",
    "    print('Hit the For/Else Statement')"
   ]
  },
  {
   "cell_type": "code",
   "execution_count": 6,
   "metadata": {},
   "outputs": [
    {
     "name": "stdout",
     "output_type": "stream",
     "text": [
      "1\n",
      "2\n",
      "3\n",
      "4\n",
      "5\n",
      "Hit the For/Else Statement\n"
     ]
    }
   ],
   "source": [
    "#In this case else statement will print as break statement doesn't get executed.\n",
    "my_list=[1,2,3,4,5]\n",
    "for i in my_list:\n",
    "    if i==6:\n",
    "        break\n",
    "    print(i)\n",
    "else:\n",
    "    print('Hit the For/Else Statement')"
   ]
  },
  {
   "cell_type": "code",
   "execution_count": 8,
   "metadata": {},
   "outputs": [
    {
     "name": "stdout",
     "output_type": "stream",
     "text": [
      "1\n",
      "2\n",
      "3\n",
      "4\n",
      "5\n",
      "Hit the While/Else Statement\n"
     ]
    }
   ],
   "source": [
    "#same wtih while loop\n",
    "i=1\n",
    "while i <=5:\n",
    "    print(i)\n",
    "    i+=1\n",
    "else:\n",
    "    print(\"Hit the While/Else Statement\")"
   ]
  },
  {
   "cell_type": "code",
   "execution_count": 9,
   "metadata": {},
   "outputs": [
    {
     "name": "stdout",
     "output_type": "stream",
     "text": [
      "1\n",
      "2\n"
     ]
    }
   ],
   "source": [
    "#In this case else statement won't get print\n",
    "i=1\n",
    "while i <=5:\n",
    "    print(i)\n",
    "    i+=1\n",
    "    if i==3:\n",
    "        break\n",
    "else:\n",
    "    print(\"Hit the While/Else Statement\")"
   ]
  },
  {
   "cell_type": "code",
   "execution_count": 11,
   "metadata": {},
   "outputs": [
    {
     "name": "stdout",
     "output_type": "stream",
     "text": [
      "1\n",
      "2\n",
      "3\n",
      "4\n",
      "5\n",
      "Hit the While/Else Statement\n"
     ]
    }
   ],
   "source": [
    "#In this case else statement will print as break statement doesn't get executed.\n",
    "i=1\n",
    "while i <=5:\n",
    "    print(i)\n",
    "    i+=1\n",
    "    if i==7:\n",
    "        break\n",
    "else:\n",
    "    print(\"Hit the While/Else Statement\")"
   ]
  },
  {
   "cell_type": "code",
   "execution_count": 14,
   "metadata": {},
   "outputs": [
    {
     "name": "stdout",
     "output_type": "stream",
     "text": [
      "Location of the Target is at index: 2\n",
      "Location of the Target is at index: -1\n"
     ]
    }
   ],
   "source": [
    "#Example of Else statement with other loops\n",
    "\n",
    "def find_index(to_search,target):\n",
    "    for i,value in enumerate(to_search):\n",
    "        if value == target:\n",
    "            break\n",
    "    else:\n",
    "        return -1\n",
    "    return i\n",
    "\n",
    "my_list=['Bruce','Steve','Tony','Clarke']\n",
    "index_location = find_index(my_list,'Tony')\n",
    "print(\"Location of the Target is at index: {}\".format(index_location))\n",
    "#if value is not equal to target then break statement won't get execute and for loop else will return -1.\n",
    "index_location2 = find_index(my_list,'oliver')\n",
    "print(\"Location of the Target is at index: {}\".format(index_location2))"
   ]
  },
  {
   "cell_type": "code",
   "execution_count": null,
   "metadata": {},
   "outputs": [],
   "source": []
  }
 ],
 "metadata": {
  "kernelspec": {
   "display_name": "Python 3",
   "language": "python",
   "name": "python3"
  },
  "language_info": {
   "codemirror_mode": {
    "name": "ipython",
    "version": 3
   },
   "file_extension": ".py",
   "mimetype": "text/x-python",
   "name": "python",
   "nbconvert_exporter": "python",
   "pygments_lexer": "ipython3",
   "version": "3.7.3"
  }
 },
 "nbformat": 4,
 "nbformat_minor": 2
}
