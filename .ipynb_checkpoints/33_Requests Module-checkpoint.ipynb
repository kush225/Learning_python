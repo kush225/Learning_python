{
 "cells": [
  {
   "cell_type": "code",
   "execution_count": null,
   "metadata": {},
   "outputs": [],
   "source": [
    "#Requests Module\n",
    "#The requests library is the de facto standard for making HTTP requests in Python. It abstracts the complexities of making requests behind a beautiful, simple API so that you can focus on interacting with services and consuming data in your application."
   ]
  },
  {
   "cell_type": "code",
   "execution_count": 2,
   "metadata": {},
   "outputs": [],
   "source": [
    "import requests"
   ]
  },
  {
   "cell_type": "code",
   "execution_count": 3,
   "metadata": {},
   "outputs": [
    {
     "name": "stdout",
     "output_type": "stream",
     "text": [
      "<Response [200]>\n"
     ]
    }
   ],
   "source": [
    "r = requests.get('https://xkcd.com/353/')\n",
    "print(r) #will give the status code of response"
   ]
  },
  {
   "cell_type": "code",
   "execution_count": 4,
   "metadata": {},
   "outputs": [
    {
     "name": "stdout",
     "output_type": "stream",
     "text": [
      "['__attrs__', '__bool__', '__class__', '__delattr__', '__dict__', '__dir__', '__doc__', '__enter__', '__eq__', '__exit__', '__format__', '__ge__', '__getattribute__', '__getstate__', '__gt__', '__hash__', '__init__', '__init_subclass__', '__iter__', '__le__', '__lt__', '__module__', '__ne__', '__new__', '__nonzero__', '__reduce__', '__reduce_ex__', '__repr__', '__setattr__', '__setstate__', '__sizeof__', '__str__', '__subclasshook__', '__weakref__', '_content', '_content_consumed', '_next', 'apparent_encoding', 'close', 'connection', 'content', 'cookies', 'elapsed', 'encoding', 'headers', 'history', 'is_permanent_redirect', 'is_redirect', 'iter_content', 'iter_lines', 'json', 'links', 'next', 'ok', 'raise_for_status', 'raw', 'reason', 'request', 'status_code', 'text', 'url']\n"
     ]
    }
   ],
   "source": [
    "#to know about attributes and method that we can access within response object\n",
    "print(dir(r))"
   ]
  },
  {
   "cell_type": "code",
   "execution_count": 5,
   "metadata": {},
   "outputs": [],
   "source": [
    "#to get information about each attribute and method we can use help\n",
    "#print(help(r))"
   ]
  },
  {
   "cell_type": "code",
   "execution_count": 6,
   "metadata": {},
   "outputs": [
    {
     "name": "stdout",
     "output_type": "stream",
     "text": [
      "<!DOCTYPE html>\n",
      "<html>\n",
      "<head>\n",
      "<link rel=\"stylesheet\" type=\"text/css\" href=\"/s/b0dcca.css\" title=\"Default\"/>\n",
      "<title>xkcd: Python</title>\n",
      "<meta http-equiv=\"X-UA-Compatible\" content=\"IE=edge\"/>\n",
      "<link rel=\"shortcut icon\" href=\"/s/919f27.ico\" type=\"image/x-icon\"/>\n",
      "<link rel=\"icon\" href=\"/s/919f27.ico\" type=\"image/x-icon\"/>\n",
      "<link rel=\"alternate\" type=\"application/atom+xml\" title=\"Atom 1.0\" href=\"/atom.xml\"/>\n",
      "<link rel=\"alternate\" type=\"application/rss+xml\" title=\"RSS 2.0\" href=\"/rss.xml\"/>\n",
      "<script type=\"text/javascript\" src=\"/s/b66ed7.js\" async></script>\n",
      "<script type=\"text/javascript\" src=\"/s/1b9456.js\" async></script>\n",
      "\n",
      "<meta property=\"og:site_name\" content=\"xkcd\">\n",
      "\n",
      "<meta property=\"og:title\" content=\"Python\">\n",
      "<meta property=\"og:url\" content=\"https://xkcd.com/353/\">\n",
      "<meta property=\"og:image\" content=\"https://imgs.xkcd.com/comics/\">\n",
      "<meta name=\"twitter:card\" content=\"summary_large_image\">\n",
      "\n",
      "</head>\n",
      "<body>\n",
      "<div id=\"topContainer\">\n",
      "<div id=\"topLeft\">\n",
      "<ul>\n",
      "<li><a href=\"/archive\">Archive</a></li>\n",
      "<li><a href=\"http://what-if.xkcd.com\">What If?</a></li>\n",
      "<li><a href=\"http://blag.xkcd.com\">Blag</a></li>\n",
      "<li><a href=\"/how-to/\">How To</a></li>\n",
      "<li><a href=\"http://store.xkcd.com/\">Store</a></li>\n",
      "<li><a rel=\"author\" href=\"/about\">About</a></li>\n",
      "<li><a href=\"/atom.xml\">Feed</a> &bull; <a href=\"/newsletter/\">Email</a></li>\n",
      "</ul>\n",
      "</div>\n",
      "<div id=\"topRight\">\n",
      "<div id=\"masthead\">\n",
      "<span><a href=\"/\"><img src=\"/s/0b7742.png\" alt=\"xkcd.com logo\" height=\"83\" width=\"185\"/></a></span>\n",
      "<span id=\"slogan\">A webcomic of romance,<br/> sarcasm, math, and language.</span>\n",
      "</div>\n",
      "<div id=\"news\">\n",
      "<div id=\"htNews\">\n",
      "Going to San Diego Comic Con this week? I'll <a href=\"http://blog.xkcd.com/?p=894\">see you there</a>!\n",
      "</div>\n",
      "<script>\n",
      "var client = new XMLHttpRequest();\n",
      "client.open(\"GET\", \"//c.xkcd.com/how-to/news\", true);\n",
      "client.send();\n",
      "client.onreadystatechange = function() {\n",
      "  if(client.readyState == 4 && client.status == 200) {\n",
      "    document.getElementById(\"htNews\").innerHTML = client.responseText;\n",
      "  }\n",
      "}\n",
      "</script>\n",
      "\n",
      "</div>\n",
      "</div>\n",
      "<div id=\"bgLeft\" class=\"bg box\"></div>\n",
      "<div id=\"bgRight\" class=\"bg box\"></div>\n",
      "</div>\n",
      "<div id=\"middleContainer\" class=\"box\">\n",
      "\n",
      "<div id=\"ctitle\">Python</div>\n",
      "<ul class=\"comicNav\">\n",
      "<li><a href=\"/1/\">|&lt;</a></li>\n",
      "<li><a rel=\"prev\" href=\"/352/\" accesskey=\"p\">&lt; Prev</a></li>\n",
      "<li><a href=\"//c.xkcd.com/random/comic/\">Random</a></li>\n",
      "<li><a rel=\"next\" href=\"/354/\" accesskey=\"n\">Next &gt;</a></li>\n",
      "<li><a href=\"/\">&gt;|</a></li>\n",
      "</ul>\n",
      "<div id=\"comic\">\n",
      "<img src=\"//imgs.xkcd.com/comics/python.png\" title=\"I wrote 20 short programs in Python yesterday.  It was wonderful.  Perl, I&#39;m leaving you.\" alt=\"Python\" />\n",
      "</div>\n",
      "<ul class=\"comicNav\">\n",
      "<li><a href=\"/1/\">|&lt;</a></li>\n",
      "<li><a rel=\"prev\" href=\"/352/\" accesskey=\"p\">&lt; Prev</a></li>\n",
      "<li><a href=\"//c.xkcd.com/random/comic/\">Random</a></li>\n",
      "<li><a rel=\"next\" href=\"/354/\" accesskey=\"n\">Next &gt;</a></li>\n",
      "<li><a href=\"/\">&gt;|</a></li>\n",
      "</ul>\n",
      "<br />\n",
      "Permanent link to this comic: https://xkcd.com/353/<br />\n",
      "Image URL (for hotlinking/embedding): https://imgs.xkcd.com/comics/python.png\n",
      "<div id=\"transcript\" style=\"display: none\">[[ Guy 1 is talking to Guy 2, who is floating in the sky ]]\n",
      "Guy 1: You&#39;re flying! How?\n",
      "Guy 2: Python!\n",
      "Guy 2: I learned it last night! Everything is so simple!\n",
      "Guy 2: Hello world is just &#39;print &quot;Hello, World!&quot; &#39;\n",
      "Guy 1: I dunno... Dynamic typing? Whitespace?\n",
      "Guy 2: Come join us! Programming is fun again! It&#39;s a whole new world up here!\n",
      "Guy 1: But how are you flying?\n",
      "Guy 2: I just typed &#39;import antigravity&#39;\n",
      "Guy 1: That&#39;s it?\n",
      "Guy 2: ...I also sampled everything in the medicine cabinet for comparison.\n",
      "Guy 2: But i think this is the python.\n",
      "{{ I wrote 20 short programs in Python yesterday.  It was wonderful.  Perl, I&#39;m leaving you. }}</div>\n",
      "</div>\n",
      "<div id=\"bottom\" class=\"box\">\n",
      "<img src=\"//imgs.xkcd.com/s/a899e84.jpg\" width=\"520\" height=\"100\" alt=\"Selected Comics\" usemap=\"#comicmap\"/>\n",
      "<map id=\"comicmap\" name=\"comicmap\">\n",
      "<area shape=\"rect\" coords=\"0,0,100,100\" href=\"/150/\" alt=\"Grownups\"/>\n",
      "<area shape=\"rect\" coords=\"104,0,204,100\" href=\"/730/\" alt=\"Circuit Diagram\"/>\n",
      "<area shape=\"rect\" coords=\"208,0,308,100\" href=\"/162/\" alt=\"Angular Momentum\"/>\n",
      "<area shape=\"rect\" coords=\"312,0,412,100\" href=\"/688/\" alt=\"Self-Description\"/>\n",
      "<area shape=\"rect\" coords=\"416,0,520,100\" href=\"/556/\" alt=\"Alternative Energy Revolution\"/>\n",
      "</map>\n",
      "<br />\n",
      "<a href=\"//xkcd.com/1732/\"><img border=0 src=\"//imgs.xkcd.com/s/temperature.png\" width=\"520\" height=\"100\" alt=\"Earth temperature timeline\"></a>\n",
      "<br />\n",
      "<div>\n",
      "<!--\n",
      "Search comic titles and transcripts:\n",
      "<script type=\"text/javascript\" src=\"//www.google.com/jsapi\"></script>\n",
      "<script type=\"text/javascript\">google.load('search', '1');google.setOnLoadCallback(function() {google.search.CustomSearchControl.attachAutoCompletion('012652707207066138651:zudjtuwe28q',document.getElementById('q'),'cse-search-box');});</script>\n",
      "<form action=\"//www.google.com/cse\" id=\"cse-search-box\">\n",
      "<div>\n",
      "<input type=\"hidden\" name=\"cx\" value=\"012652707207066138651:zudjtuwe28q\"/>\n",
      "<input type=\"hidden\" name=\"ie\" value=\"UTF-8\"/>\n",
      "<input type=\"text\" name=\"q\" id=\"q\" size=\"31\"/>\n",
      "<input type=\"submit\" name=\"sa\" value=\"Search\"/>\n",
      "</div>\n",
      "</form>\n",
      "<script type=\"text/javascript\" src=\"//www.google.com/cse/brand?form=cse-search-box&amp;lang=en\"></script>\n",
      "-->\n",
      "<a href=\"/rss.xml\">RSS Feed</a> - <a href=\"/atom.xml\">Atom Feed</a> - <a href=\"/newsletter/\">Email</a>\n",
      "</div>\n",
      "<br />\n",
      "<div id=\"comicLinks\">\n",
      "Comics I enjoy:<br/>\n",
      "        <a href=\"http://threewordphrase.com/\">Three Word Phrase</a>,\n",
      "        <a href=\"http://www.smbc-comics.com/\">SMBC</a>,\n",
      "        <a href=\"http://www.qwantz.com\">Dinosaur Comics</a>,\n",
      "        <a href=\"http://oglaf.com/\">Oglaf</a> (nsfw),\n",
      "        <a href=\"http://www.asofterworld.com\">A Softer World</a>,\n",
      "        <a href=\"http://buttersafe.com/\">Buttersafe</a>,\n",
      "        <a href=\"http://pbfcomics.com/\">Perry Bible Fellowship</a>,\n",
      "        <a href=\"http://questionablecontent.net/\">Questionable Content</a>,\n",
      "        <a href=\"http://www.buttercupfestival.com/\">Buttercup Festival</a>,\n",
      "        <a href=\"http://www.mspaintadventures.com/?s=6&p=001901\">Homestuck</a>,\n",
      "\t<a href=\"http://www.jspowerhour.com/\">Junior Scientist Power Hour</a>\n",
      "</div>\n",
      "<br />\n",
      "<div id=\"comicLinks\">\n",
      "Other things:<br/>\n",
      "        <a href=\"https://medium.com/civic-tech-thoughts-from-joshdata/so-you-want-to-reform-democracy-7f3b1ef10597\">Tips on technology and government</a>,<br /> \n",
      "        <a href=\"https://www.nytimes.com/interactive/2017/climate/what-is-climate-change.html\">Climate FAQ</a>,\n",
      "\t<a href=\"https://twitter.com/KHayhoe\">Katharine Hayhoe</a>\n",
      "</div>\n",
      "<br />\n",
      "<center>\n",
      "<div id=\"footnote\" style=\"width:70%\">xkcd.com is best viewed with Netscape Navigator 4.0 or below on a Pentium 3&plusmn;1 emulated in Javascript on an Apple IIGS<br />at a screen resolution of 1024x1. Please enable your ad blockers, disable high-heat drying, and remove your device<br />from Airplane Mode and set it to Boat Mode. For security reasons, please leave caps lock on while browsing.</div>\n",
      "</center>\n",
      "<div id=\"licenseText\">\n",
      "<p>\n",
      "This work is licensed under a\n",
      "<a href=\"http://creativecommons.org/licenses/by-nc/2.5/\">Creative Commons Attribution-NonCommercial 2.5 License</a>.\n",
      "</p><p>\n",
      "This means you're free to copy and share these comics (but not to sell them). <a rel=\"license\" href=\"/license.html\">More details</a>.</p>\n",
      "</div>\n",
      "</div>\n",
      "</body>\n",
      "<!-- Layout by Ian Clasbey, davean, and chromakode -->\n",
      "</html>\n",
      "\n",
      "\n"
     ]
    }
   ],
   "source": [
    "#It will give content of the response in unicode\n",
    "print(r.text)"
   ]
  },
  {
   "cell_type": "code",
   "execution_count": 8,
   "metadata": {},
   "outputs": [],
   "source": [
    "#URL of an image\n",
    "r= requests.get('https://imgs.xkcd.com/comics/python.png')\n",
    "#To download the image\n",
    "with open('comic.png','wb') as f: #wb is used for image which means writebyte\n",
    "    f.write(r.content)"
   ]
  },
  {
   "cell_type": "code",
   "execution_count": 9,
   "metadata": {},
   "outputs": [
    {
     "name": "stdout",
     "output_type": "stream",
     "text": [
      "200\n"
     ]
    }
   ],
   "source": [
    "#To check status code\n",
    "print(r.status_code) #200 is for success, 300 is for redirects, 400 is for client error, 500 are for server error"
   ]
  },
  {
   "cell_type": "code",
   "execution_count": 11,
   "metadata": {},
   "outputs": [
    {
     "name": "stdout",
     "output_type": "stream",
     "text": [
      "True\n"
     ]
    }
   ],
   "source": [
    "#for anything less than 400 status code it will print True or only for client and server error it will print False\n",
    "print(r.ok)"
   ]
  },
  {
   "cell_type": "code",
   "execution_count": 12,
   "metadata": {},
   "outputs": [
    {
     "name": "stdout",
     "output_type": "stream",
     "text": [
      "{'Server': 'nginx', 'Content-Type': 'image/png', 'Last-Modified': 'Mon, 01 Feb 2010 13:07:49 GMT', 'ETag': '\"4b66d225-162d3\"', 'Expires': 'Tue, 16 Jul 2019 16:25:42 GMT', 'Cache-Control': 'max-age=300', 'Content-Length': '90835', 'Accept-Ranges': 'bytes', 'Date': 'Tue, 16 Jul 2019 18:22:17 GMT', 'Via': '1.1 varnish', 'Age': '193', 'Connection': 'keep-alive', 'X-Served-By': 'cache-bom18224-BOM', 'X-Cache': 'HIT', 'X-Cache-Hits': '1', 'X-Timer': 'S1563301337.142568,VS0,VE3'}\n"
     ]
    }
   ],
   "source": [
    "#will print the response headers\n",
    "print(r.headers)"
   ]
  },
  {
   "cell_type": "code",
   "execution_count": 13,
   "metadata": {},
   "outputs": [
    {
     "name": "stdout",
     "output_type": "stream",
     "text": [
      "{\n",
      "  \"args\": {\n",
      "    \"count\": \"25\", \n",
      "    \"page\": \"2\"\n",
      "  }, \n",
      "  \"headers\": {\n",
      "    \"Accept\": \"*/*\", \n",
      "    \"Accept-Encoding\": \"gzip, deflate\", \n",
      "    \"Host\": \"httpbin.org\", \n",
      "    \"User-Agent\": \"python-requests/2.21.0\"\n",
      "  }, \n",
      "  \"origin\": \"103.85.125.190, 103.85.125.190\", \n",
      "  \"url\": \"https://httpbin.org/get?page=2&count=25\"\n",
      "}\n",
      "\n"
     ]
    }
   ],
   "source": [
    "#dictionary of parameters to pass in url\n",
    "payload={ 'page':2, 'count':25}\n",
    "#httpbin is a testing website develop by developer of request module\n",
    "r= requests.get('https://httpbin.org/get', params=payload)  \n",
    "print(r.text)"
   ]
  },
  {
   "cell_type": "code",
   "execution_count": 14,
   "metadata": {},
   "outputs": [
    {
     "name": "stdout",
     "output_type": "stream",
     "text": [
      "https://httpbin.org/get?page=2&count=25\n"
     ]
    }
   ],
   "source": [
    "print(r.url) #request module set the url correctly so it's always better to add parameter this way than manually."
   ]
  },
  {
   "cell_type": "code",
   "execution_count": 15,
   "metadata": {},
   "outputs": [
    {
     "name": "stdout",
     "output_type": "stream",
     "text": [
      "{\n",
      "  \"args\": {}, \n",
      "  \"data\": \"\", \n",
      "  \"files\": {}, \n",
      "  \"form\": {\n",
      "    \"password\": \"text\", \n",
      "    \"username\": \"corey\"\n",
      "  }, \n",
      "  \"headers\": {\n",
      "    \"Accept\": \"*/*\", \n",
      "    \"Accept-Encoding\": \"gzip, deflate\", \n",
      "    \"Content-Length\": \"28\", \n",
      "    \"Content-Type\": \"application/x-www-form-urlencoded\", \n",
      "    \"Host\": \"httpbin.org\", \n",
      "    \"User-Agent\": \"python-requests/2.21.0\"\n",
      "  }, \n",
      "  \"json\": null, \n",
      "  \"origin\": \"103.85.125.190, 103.85.125.190\", \n",
      "  \"url\": \"https://httpbin.org/post\"\n",
      "}\n",
      "\n"
     ]
    }
   ],
   "source": [
    "#To make post request\n",
    "payload={ 'username':'corey', 'password':'text'}\n",
    "r= requests.post('https://httpbin.org/post', data=payload)  \n",
    "print(r.text)\n",
    "#we are getting json as reponse so it's better to use json method for that"
   ]
  },
  {
   "cell_type": "code",
   "execution_count": 18,
   "metadata": {},
   "outputs": [
    {
     "name": "stdout",
     "output_type": "stream",
     "text": [
      "{'args': {}, 'data': '', 'files': {}, 'form': {'password': 'text', 'username': 'corey'}, 'headers': {'Accept': '*/*', 'Accept-Encoding': 'gzip, deflate', 'Content-Length': '28', 'Content-Type': 'application/x-www-form-urlencoded', 'Host': 'httpbin.org', 'User-Agent': 'python-requests/2.21.0'}, 'json': None, 'origin': '103.85.125.190, 103.85.125.190', 'url': 'https://httpbin.org/post'}\n"
     ]
    }
   ],
   "source": [
    "#It will give the json response in form of dictionary\n",
    "r_dict=r.json()\n",
    "print(r_dict)"
   ]
  },
  {
   "cell_type": "code",
   "execution_count": 19,
   "metadata": {},
   "outputs": [
    {
     "name": "stdout",
     "output_type": "stream",
     "text": [
      "{'password': 'text', 'username': 'corey'}\n"
     ]
    }
   ],
   "source": [
    "#To print only the form\n",
    "print(r_dict['form'])"
   ]
  },
  {
   "cell_type": "code",
   "execution_count": 20,
   "metadata": {},
   "outputs": [
    {
     "name": "stdout",
     "output_type": "stream",
     "text": [
      "{\n",
      "  \"authenticated\": true, \n",
      "  \"user\": \"kushagra\"\n",
      "}\n",
      "\n"
     ]
    }
   ],
   "source": [
    "#Basic Authentication\n",
    "\n",
    "r =requests.get('https://httpbin.org/basic-auth/kushagra/12345678',auth=('kushagra',12345678))\n",
    "#auth is tuple of id,password\n",
    "print(r.text)"
   ]
  },
  {
   "cell_type": "code",
   "execution_count": 21,
   "metadata": {},
   "outputs": [
    {
     "name": "stdout",
     "output_type": "stream",
     "text": [
      "<Response [200]>\n"
     ]
    }
   ],
   "source": [
    "print(r)  #status code 200 means success"
   ]
  },
  {
   "cell_type": "code",
   "execution_count": 22,
   "metadata": {},
   "outputs": [
    {
     "name": "stdout",
     "output_type": "stream",
     "text": [
      "<Response [401]>\n"
     ]
    }
   ],
   "source": [
    "#with wrong password\n",
    "r =requests.get('https://httpbin.org/basic-auth/kushagra/12345678',auth=('kushagra',123456))\n",
    "print(r) #401 means authentication error"
   ]
  },
  {
   "cell_type": "code",
   "execution_count": 32,
   "metadata": {},
   "outputs": [
    {
     "name": "stdout",
     "output_type": "stream",
     "text": [
      "<Response [200]>\n"
     ]
    }
   ],
   "source": [
    "#URl that will give response after 1sec\n",
    "r =requests.get('https://httpbin.org/delay/1',timeout=3) #timeout means it will wait for max 3 sec to get reponse\n",
    "print(r)  #as response came in lesser time than timeout hence success "
   ]
  },
  {
   "cell_type": "code",
   "execution_count": 38,
   "metadata": {},
   "outputs": [
    {
     "name": "stdout",
     "output_type": "stream",
     "text": [
      "HTTPSConnectionPool(host='httpbin.org', port=443): Read timed out. (read timeout=3)\n"
     ]
    }
   ],
   "source": [
    "#URl that will give response after 5secs\n",
    "try:\n",
    "    r =requests.get('https://httpbin.org/delay/5',timeout=3)\n",
    "except Exception as e:\n",
    "    print(e)\n",
    "else:\n",
    "    print(r)\n",
    "#Exception is raised as timeout is lesser than response time."
   ]
  }
 ],
 "metadata": {
  "kernelspec": {
   "display_name": "Python 3",
   "language": "python",
   "name": "python3"
  },
  "language_info": {
   "codemirror_mode": {
    "name": "ipython",
    "version": 3
   },
   "file_extension": ".py",
   "mimetype": "text/x-python",
   "name": "python",
   "nbconvert_exporter": "python",
   "pygments_lexer": "ipython3",
   "version": "3.7.3"
  }
 },
 "nbformat": 4,
 "nbformat_minor": 2
}
