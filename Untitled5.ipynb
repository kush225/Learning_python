{
 "cells": [
  {
   "cell_type": "code",
   "execution_count": 5,
   "metadata": {},
   "outputs": [],
   "source": [
    "import csv"
   ]
  },
  {
   "cell_type": "code",
   "execution_count": 13,
   "metadata": {},
   "outputs": [
    {
     "name": "stdout",
     "output_type": "stream",
     "text": [
      "first_name,last_name,email\n",
      "\n",
      "kushagra,gupta,kushagra225@gmail.com\n",
      "\n",
      "sarthak,joshi,sarthak-joshi7@gmail.com\n",
      "\n",
      "jatin,gupta,jatininxs11@gmail.com\n",
      "\n",
      "jatin,sidana,jatincooldude@gmail.com\n",
      "\n",
      "akshay,kumar,akshay-kumar20@gmail.com\n",
      "\n",
      "aman,bansal,aman210697@gmail.com\n",
      "\n"
     ]
    }
   ],
   "source": [
    "#Sample CSV[comma seperated values]file\n",
    "with open('sample.csv','r') as csv_file:\n",
    "    for line in csv_file:\n",
    "        print(line)"
   ]
  },
  {
   "cell_type": "code",
   "execution_count": 14,
   "metadata": {},
   "outputs": [
    {
     "name": "stdout",
     "output_type": "stream",
     "text": [
      "['first_name', 'last_name', 'email']\n",
      "['kushagra', 'gupta', 'kushagra225@gmail.com']\n",
      "['sarthak', 'joshi', 'sarthak-joshi7@gmail.com']\n",
      "['jatin', 'gupta', 'jatininxs11@gmail.com']\n",
      "['jatin', 'sidana', 'jatincooldude@gmail.com']\n",
      "['akshay', 'kumar', 'akshay-kumar20@gmail.com']\n",
      "['aman', 'bansal', 'aman210697@gmail.com']\n"
     ]
    }
   ],
   "source": [
    "#this will read the line and store it in a list\n",
    "with open('sample.csv','r') as csv_file:\n",
    "    csv_reader=csv.reader(csv_file)\n",
    "    for line in csv_reader:\n",
    "        print(line)"
   ]
  },
  {
   "cell_type": "code",
   "execution_count": 15,
   "metadata": {},
   "outputs": [
    {
     "name": "stdout",
     "output_type": "stream",
     "text": [
      "['kushagra', 'gupta', 'kushagra225@gmail.com']\n",
      "['sarthak', 'joshi', 'sarthak-joshi7@gmail.com']\n",
      "['jatin', 'gupta', 'jatininxs11@gmail.com']\n",
      "['jatin', 'sidana', 'jatincooldude@gmail.com']\n",
      "['akshay', 'kumar', 'akshay-kumar20@gmail.com']\n",
      "['aman', 'bansal', 'aman210697@gmail.com']\n"
     ]
    }
   ],
   "source": [
    "#you can remove the header using generator\n",
    "with open('sample.csv','r') as csv_file:\n",
    "    csv_reader=csv.reader(csv_file)\n",
    "    next(csv_file)\n",
    "    for line in csv_reader:\n",
    "        print(line)"
   ]
  },
  {
   "cell_type": "code",
   "execution_count": 16,
   "metadata": {},
   "outputs": [
    {
     "name": "stdout",
     "output_type": "stream",
     "text": [
      "kushagra225@gmail.com\n",
      "sarthak-joshi7@gmail.com\n",
      "jatininxs11@gmail.com\n",
      "jatincooldude@gmail.com\n",
      "akshay-kumar20@gmail.com\n",
      "aman210697@gmail.com\n"
     ]
    }
   ],
   "source": [
    "#To only print the email-address\n",
    "with open('sample.csv','r') as csv_file:\n",
    "    csv_reader=csv.reader(csv_file)\n",
    "    next(csv_file)\n",
    "    for line in csv_reader:\n",
    "        print(line[2])"
   ]
  },
  {
   "cell_type": "code",
   "execution_count": 17,
   "metadata": {},
   "outputs": [],
   "source": [
    "#Making a copy of csv with different delimiter\n",
    "with open('sample.csv','r') as csv_file:\n",
    "    csv_reader=csv.reader(csv_file)\n",
    "    with open('sample2.csv','w') as csv_copy:\n",
    "        csv_writer=csv.writer(csv_copy,delimiter='-')\n",
    "        \n",
    "        for line in csv_reader:\n",
    "            csv_writer.writerow(line)"
   ]
  },
  {
   "cell_type": "code",
   "execution_count": 18,
   "metadata": {},
   "outputs": [
    {
     "name": "stdout",
     "output_type": "stream",
     "text": [
      "first_name-last_name-email\n",
      "\n",
      "kushagra-gupta-kushagra225@gmail.com\n",
      "\n",
      "sarthak-joshi-\"sarthak-joshi7@gmail.com\"\n",
      "\n",
      "jatin-gupta-jatininxs11@gmail.com\n",
      "\n",
      "jatin-sidana-jatincooldude@gmail.com\n",
      "\n",
      "akshay-kumar-\"akshay-kumar20@gmail.com\"\n",
      "\n",
      "aman-bansal-aman210697@gmail.com\n",
      "\n"
     ]
    }
   ],
   "source": [
    "#Content of the file with '-' as a delimiter\n",
    "with open('sample2.csv','r') as csv_file:\n",
    "    for line in csv_file:\n",
    "        print(line)"
   ]
  },
  {
   "cell_type": "code",
   "execution_count": 25,
   "metadata": {},
   "outputs": [
    {
     "name": "stdout",
     "output_type": "stream",
     "text": [
      "first_name\tlast_name\temail\n",
      "\n",
      "kushagra\tgupta\tkushagra225@gmail.com\n",
      "\n",
      "sarthak\tjoshi\tsarthak-joshi7@gmail.com\n",
      "\n",
      "jatin\tgupta\tjatininxs11@gmail.com\n",
      "\n",
      "jatin\tsidana\tjatincooldude@gmail.com\n",
      "\n",
      "akshay\tkumar\takshay-kumar20@gmail.com\n",
      "\n",
      "aman\tbansal\taman210697@gmail.com\n",
      "\n"
     ]
    }
   ],
   "source": [
    "#we can see in above output csv writer put \"\" around the text which already contain \"-\" so when we read back, it won't consider those '-' as delimiter.\n",
    "#we have to specify the delimiter while reading the file if delimiter is not ','. Otherwise it will treat it as a single line\n",
    "with open('sample2.csv','r') as csv_file:\n",
    "    csv_reader=csv.reader(csv_file, delimiter='-')\n",
    "    with open('sample3.csv','w') as csv_copy:\n",
    "        csv_writer=csv.writer(csv_copy,delimiter='\\t')\n",
    "        \n",
    "        for line in csv_reader:\n",
    "            csv_writer.writerow(line)\n",
    "\n",
    "with open('sample3.csv','r') as csv_file:\n",
    "    for line in csv_file:\n",
    "        print(line)"
   ]
  },
  {
   "cell_type": "code",
   "execution_count": 26,
   "metadata": {},
   "outputs": [
    {
     "name": "stdout",
     "output_type": "stream",
     "text": [
      "OrderedDict([('first_name', 'kushagra'), ('last_name', 'gupta'), ('email', 'kushagra225@gmail.com')])\n",
      "OrderedDict([('first_name', 'sarthak'), ('last_name', 'joshi'), ('email', 'sarthak-joshi7@gmail.com')])\n",
      "OrderedDict([('first_name', 'jatin'), ('last_name', 'gupta'), ('email', 'jatininxs11@gmail.com')])\n",
      "OrderedDict([('first_name', 'jatin'), ('last_name', 'sidana'), ('email', 'jatincooldude@gmail.com')])\n",
      "OrderedDict([('first_name', 'akshay'), ('last_name', 'kumar'), ('email', 'akshay-kumar20@gmail.com')])\n",
      "OrderedDict([('first_name', 'aman'), ('last_name', 'bansal'), ('email', 'aman210697@gmail.com')])\n"
     ]
    }
   ],
   "source": [
    "#Reading csv using DictReader \n",
    "with open('sample.csv','r') as csv_file:\n",
    "    csv_Dict_reader=csv.DictReader(csv_file)\n",
    "    for line in csv_Dict_reader:\n",
    "        print(line)"
   ]
  },
  {
   "cell_type": "code",
   "execution_count": 27,
   "metadata": {},
   "outputs": [
    {
     "name": "stdout",
     "output_type": "stream",
     "text": [
      "kushagra225@gmail.com\n",
      "sarthak-joshi7@gmail.com\n",
      "jatininxs11@gmail.com\n",
      "jatincooldude@gmail.com\n",
      "akshay-kumar20@gmail.com\n",
      "aman210697@gmail.com\n"
     ]
    }
   ],
   "source": [
    "#so now if someone wants email, he can simply pass email without knowing the index of that element.#\n",
    "with open('sample.csv','r') as csv_file:\n",
    "    csv_Dict_reader=csv.DictReader(csv_file)\n",
    "    for line in csv_Dict_reader:\n",
    "        print(line['email'])"
   ]
  },
  {
   "cell_type": "code",
   "execution_count": 34,
   "metadata": {},
   "outputs": [],
   "source": [
    "#Writing using DictWriter\n",
    "with open('sample.csv','r') as csv_file:\n",
    "    csv_reader=csv.DictReader(csv_file)\n",
    "    with open('sample4.csv','w') as csv_copy:\n",
    "        field_names=['first_name', 'last_name','email']\n",
    "        csv_Dict_Writer=csv.DictWriter(csv_copy,fieldnames=field_names,delimiter=';')\n",
    "        \n",
    "        #function used to write header\n",
    "        csv_Dict_Writer.writeheader()\n",
    "        \n",
    "        for line in csv_reader:\n",
    "            csv_Dict_Writer.writerow(line)"
   ]
  },
  {
   "cell_type": "code",
   "execution_count": 35,
   "metadata": {},
   "outputs": [
    {
     "name": "stdout",
     "output_type": "stream",
     "text": [
      "first_name;last_name;email\n",
      "\n",
      "kushagra;gupta;kushagra225@gmail.com\n",
      "\n",
      "sarthak;joshi;sarthak-joshi7@gmail.com\n",
      "\n",
      "jatin;gupta;jatininxs11@gmail.com\n",
      "\n",
      "jatin;sidana;jatincooldude@gmail.com\n",
      "\n",
      "akshay;kumar;akshay-kumar20@gmail.com\n",
      "\n",
      "aman;bansal;aman210697@gmail.com\n",
      "\n"
     ]
    }
   ],
   "source": [
    "#Contents of new csv\n",
    "with open('sample4.csv','r') as file:\n",
    "    for line in file:\n",
    "        print(line)"
   ]
  },
  {
   "cell_type": "code",
   "execution_count": 36,
   "metadata": {},
   "outputs": [
    {
     "name": "stdout",
     "output_type": "stream",
     "text": [
      "first_name;last_name\n",
      "\n",
      "kushagra;gupta\n",
      "\n",
      "sarthak;joshi\n",
      "\n",
      "jatin;gupta\n",
      "\n",
      "jatin;sidana\n",
      "\n",
      "akshay;kumar\n",
      "\n",
      "aman;bansal\n",
      "\n"
     ]
    }
   ],
   "source": [
    "#writing only first_name and last_name\n",
    "with open('sample.csv','r') as csv_file:\n",
    "    csv_reader=csv.DictReader(csv_file)\n",
    "    with open('sample5.csv','w') as csv_copy:\n",
    "        field_names=['first_name', 'last_name']\n",
    "        csv_Dict_Writer=csv.DictWriter(csv_copy,fieldnames=field_names,delimiter=';')\n",
    "        \n",
    "        #function used to write header\n",
    "        csv_Dict_Writer.writeheader()\n",
    "        \n",
    "        for line in csv_reader:\n",
    "            del line['email']\n",
    "            csv_Dict_Writer.writerow(line)\n",
    "            \n",
    "with open('sample5.csv','r') as file:\n",
    "    for line in file:\n",
    "        print(line)"
   ]
  }
 ],
 "metadata": {
  "kernelspec": {
   "display_name": "Python 3",
   "language": "python",
   "name": "python3"
  },
  "language_info": {
   "codemirror_mode": {
    "name": "ipython",
    "version": 3
   },
   "file_extension": ".py",
   "mimetype": "text/x-python",
   "name": "python",
   "nbconvert_exporter": "python",
   "pygments_lexer": "ipython3",
   "version": "3.7.3"
  }
 },
 "nbformat": 4,
 "nbformat_minor": 2
}
