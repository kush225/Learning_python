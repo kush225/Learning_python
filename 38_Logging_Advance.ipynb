{
 "cells": [
  {
   "cell_type": "code",
   "execution_count": 1,
   "metadata": {},
   "outputs": [],
   "source": [
    "#Logging_Advance\n",
    "#Loggers, Handlers, Formatters"
   ]
  },
  {
   "cell_type": "code",
   "execution_count": 23,
   "metadata": {},
   "outputs": [],
   "source": [
    "import logging\n",
    "import subprocess"
   ]
  },
  {
   "cell_type": "code",
   "execution_count": 3,
   "metadata": {},
   "outputs": [],
   "source": [
    "logger = logging.getLogger(__name__)\n",
    "#you can specify any name you want but benefit of using __name__ is that it will use the module name if the code is executed from an import else it will use __main__ when run directly.\n",
    "#if the logger doesn't exist it will get created.\n",
    "\n",
    "logging.basicConfig(filename='test.log',level=logging.DEBUG)\n",
    "#this configures root\n",
    "#logging works in hierarchy so if something is not configure in our logger than it will access from root\n",
    "#In this case filename and level is used from root and logger name from our logger"
   ]
  },
  {
   "cell_type": "code",
   "execution_count": 29,
   "metadata": {},
   "outputs": [],
   "source": [
    "#lets setup our logger so we don't need root configuration\n",
    "logger = logging.getLogger(__name__)\n",
    "\n",
    "#setting up log level\n",
    "logger.setLevel(logging.INFO)\n",
    "\n",
    "#setting up our log file name\n",
    "file_handler = logging.FileHandler('calculation.log')\n",
    "\n",
    "#setting up our log file format\n",
    "formatter= logging.Formatter('%(asctime)s:%(levelname)s:%(name)s:%(message)s')\n",
    "\n",
    "#setting up a stream handler, so that we can see debug statements at terminal and only error in error logs\n",
    "stream_handler = logging.StreamHandler()\n",
    "\n",
    "#adding formatter to handler, formatter is added to handler not logger\n",
    "file_handler.setFormatter(formatter)\n",
    "\n",
    "#note if you want formatting of stream handler same as file handler you can set like this\n",
    "stream_handler.setFormatter(formatter)\n",
    "\n",
    "#adding stream handler to our logger\n",
    "logger.addHandler(stream_handler)\n",
    "\n",
    "#suppose i want to keep my logger level to debug but only want to capture error statement and above specific filehandler, then we can do\n",
    "file_handler.setLevel(logging.ERROR)\n",
    "\n",
    "#adding our filename to logger\n",
    "logger.addHandler(file_handler)"
   ]
  },
  {
   "cell_type": "code",
   "execution_count": 25,
   "metadata": {},
   "outputs": [],
   "source": [
    "def add(x,y):\n",
    "    \"\"\"Add Function\"\"\"\n",
    "    return x + y\n",
    "def subtract(x,y):\n",
    "    \"\"\"Subtract Function\"\"\"\n",
    "    return x - y\n",
    "def multiply(x,y):\n",
    "    \"\"\"Multiply Function\"\"\"\n",
    "    return x * y\n",
    "def divison(x,y):\n",
    "    \"\"\"Divide Function\"\"\"\n",
    "    try:\n",
    "        result = x / y\n",
    "    except Exception:\n",
    "        #logger.error('Tried to Divide by Zero') #this will just print the error when it occurs\n",
    "        logger.exception('Tried to Divide by Zero') #this will print the traceback so we can know where it occured.\n",
    "    else:\n",
    "        return result"
   ]
  },
  {
   "cell_type": "code",
   "execution_count": 26,
   "metadata": {},
   "outputs": [],
   "source": [
    "num_1=10\n",
    "num_2=0"
   ]
  },
  {
   "cell_type": "code",
   "execution_count": 30,
   "metadata": {},
   "outputs": [
    {
     "name": "stderr",
     "output_type": "stream",
     "text": [
      "2019-07-19 01:24:44,714:ERROR:__main__:Tried to Divide by Zero\n",
      "Traceback (most recent call last):\n",
      "  File \"<ipython-input-25-7ea158d91863>\", line 13, in divison\n",
      "    result = x / y\n",
      "ZeroDivisionError: division by zero\n"
     ]
    }
   ],
   "source": [
    "#since we are using custom logger we need to call logger.debug instead of logging.debug \n",
    "add_result= add(num_1,num_2)\n",
    "logger.debug('Add: {} + {} = {}'.format(num_1,num_2,add_result))\n",
    "sub_result= subtract(num_1,num_2)\n",
    "logger.debug('Subtract: {} + {} = {}'.format(num_1,num_2,sub_result))\n",
    "multiply_result= multiply(num_1,num_2)\n",
    "logger.debug('Multiply: {} + {} = {}'.format(num_1,num_2,multiply_result))\n",
    "divide_result= divison(num_1,num_2)\n",
    "logger.debug('Divison: {} + {} = {}'.format(num_1,num_2,divide_result))"
   ]
  },
  {
   "cell_type": "code",
   "execution_count": 28,
   "metadata": {},
   "outputs": [
    {
     "data": {
      "text/plain": [
       "'2019-07-19 01:17:40,756:ERROR:__main__:Tried to Divide by Zero\\nTraceback (most recent call last):\\n  File \"<ipython-input-25-7ea158d91863>\", line 13, in divison\\n    result = x / y\\nZeroDivisionError: division by zero'"
      ]
     },
     "execution_count": 28,
     "metadata": {},
     "output_type": "execute_result"
    }
   ],
   "source": [
    "#subprocess module is used to show data in file\n",
    "subprocess.getoutput('cat calculation.log')\n",
    "#imagine \\n as new line.\n",
    "#we can see logger name coming __main__ bcoz we ran code directly not by importing."
   ]
  },
  {
   "cell_type": "code",
   "execution_count": null,
   "metadata": {},
   "outputs": [],
   "source": []
  }
 ],
 "metadata": {
  "kernelspec": {
   "display_name": "Python 3",
   "language": "python",
   "name": "python3"
  },
  "language_info": {
   "codemirror_mode": {
    "name": "ipython",
    "version": 3
   },
   "file_extension": ".py",
   "mimetype": "text/x-python",
   "name": "python",
   "nbconvert_exporter": "python",
   "pygments_lexer": "ipython3",
   "version": "3.7.3"
  }
 },
 "nbformat": 4,
 "nbformat_minor": 2
}
