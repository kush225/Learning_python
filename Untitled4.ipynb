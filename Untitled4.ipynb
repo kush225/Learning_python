{
 "cells": [
  {
   "cell_type": "code",
   "execution_count": 5,
   "metadata": {},
   "outputs": [
    {
     "ename": "FileNotFoundError",
     "evalue": "[Errno 2] No such file or directory: 'yo.txt'",
     "output_type": "error",
     "traceback": [
      "\u001b[0;31m---------------------------------------------------------------------------\u001b[0m",
      "\u001b[0;31mFileNotFoundError\u001b[0m                         Traceback (most recent call last)",
      "\u001b[0;32m<ipython-input-5-7f472f9bb708>\u001b[0m in \u001b[0;36m<module>\u001b[0;34m\u001b[0m\n\u001b[1;32m      1\u001b[0m \u001b[0;31m#As file is not present. It will raise the exception\u001b[0m\u001b[0;34m\u001b[0m\u001b[0;34m\u001b[0m\u001b[0;34m\u001b[0m\u001b[0m\n\u001b[0;32m----> 2\u001b[0;31m \u001b[0mf\u001b[0m\u001b[0;34m=\u001b[0m\u001b[0mopen\u001b[0m\u001b[0;34m(\u001b[0m\u001b[0;34m'yo.txt'\u001b[0m\u001b[0;34m)\u001b[0m\u001b[0;34m\u001b[0m\u001b[0;34m\u001b[0m\u001b[0m\n\u001b[0m",
      "\u001b[0;31mFileNotFoundError\u001b[0m: [Errno 2] No such file or directory: 'yo.txt'"
     ]
    }
   ],
   "source": [
    "#As file is not present. It will raise the exception\n",
    "f=open('yo.txt')"
   ]
  },
  {
   "cell_type": "code",
   "execution_count": 4,
   "metadata": {},
   "outputs": [
    {
     "name": "stdout",
     "output_type": "stream",
     "text": [
      "Sorry the file doesn't exist\n"
     ]
    }
   ],
   "source": [
    "#Exception Handled using try and except block, in this code we gave Exception in except block. which will handled any type of exception and print file doesn't exist. \n",
    "#But it's always better to give the exception name and print message accordingly.\n",
    "try:\n",
    "    f=open(\"yo.txt\")\n",
    "except Exception:\n",
    "    print(\"Sorry the file doesn't exist\")"
   ]
  },
  {
   "cell_type": "code",
   "execution_count": 7,
   "metadata": {},
   "outputs": [
    {
     "ename": "PermissionError",
     "evalue": "[Errno 13] Permission denied: 'yo.txt'",
     "output_type": "error",
     "traceback": [
      "\u001b[0;31m---------------------------------------------------------------------------\u001b[0m",
      "\u001b[0;31mPermissionError\u001b[0m                           Traceback (most recent call last)",
      "\u001b[0;32m<ipython-input-7-360478936479>\u001b[0m in \u001b[0;36m<module>\u001b[0;34m\u001b[0m\n\u001b[1;32m      1\u001b[0m \u001b[0;31m#To show you why not except every exception, i will create a file yo.txt and not set 000 permission of file.\u001b[0m\u001b[0;34m\u001b[0m\u001b[0;34m\u001b[0m\u001b[0;34m\u001b[0m\u001b[0m\n\u001b[0;32m----> 2\u001b[0;31m \u001b[0mf\u001b[0m\u001b[0;34m=\u001b[0m\u001b[0mopen\u001b[0m\u001b[0;34m(\u001b[0m\u001b[0;34m'yo.txt'\u001b[0m\u001b[0;34m)\u001b[0m\u001b[0;34m\u001b[0m\u001b[0;34m\u001b[0m\u001b[0m\n\u001b[0m\u001b[1;32m      3\u001b[0m \u001b[0;31m#this time it gave as PermissionError\u001b[0m\u001b[0;34m\u001b[0m\u001b[0;34m\u001b[0m\u001b[0;34m\u001b[0m\u001b[0m\n",
      "\u001b[0;31mPermissionError\u001b[0m: [Errno 13] Permission denied: 'yo.txt'"
     ]
    }
   ],
   "source": [
    "#To show you why not except every exception, i will create a file yo.txt and not set 000 permission of file.\n",
    "f=open('yo.txt')\n",
    "#this time it gave as PermissionError"
   ]
  },
  {
   "cell_type": "code",
   "execution_count": 10,
   "metadata": {},
   "outputs": [
    {
     "name": "stdout",
     "output_type": "stream",
     "text": [
      "Sorry the file doesn't exist\n"
     ]
    }
   ],
   "source": [
    "#Now when we run above try and except block\n",
    "try:\n",
    "    f=open(\"yo.txt\")\n",
    "except Exception:\n",
    "    print(\"Sorry the file doesn't exist\")\n",
    "#It will print exact same error for every exception\n",
    "#Goal of try and except is not to work around all the exception which we may run to, its to handle the exception and print accordingly."
   ]
  },
  {
   "cell_type": "code",
   "execution_count": 11,
   "metadata": {},
   "outputs": [
    {
     "name": "stdout",
     "output_type": "stream",
     "text": [
      "Sorry the file doesn't exist\n"
     ]
    }
   ],
   "source": [
    "#when file is not present, exception FileNotFoundError exception handled\n",
    "try:\n",
    "    f=open(\"yo.txt\")\n",
    "except FileNotFoundError:\n",
    "    print(\"Sorry the file doesn't exist\")"
   ]
  },
  {
   "cell_type": "code",
   "execution_count": 12,
   "metadata": {},
   "outputs": [
    {
     "ename": "PermissionError",
     "evalue": "[Errno 13] Permission denied: 'yo.txt'",
     "output_type": "error",
     "traceback": [
      "\u001b[0;31m---------------------------------------------------------------------------\u001b[0m",
      "\u001b[0;31mPermissionError\u001b[0m                           Traceback (most recent call last)",
      "\u001b[0;32m<ipython-input-12-00ca3cb9878c>\u001b[0m in \u001b[0;36m<module>\u001b[0;34m\u001b[0m\n\u001b[1;32m      1\u001b[0m \u001b[0;31m#when permission exception is raise in above code\u001b[0m\u001b[0;34m\u001b[0m\u001b[0;34m\u001b[0m\u001b[0;34m\u001b[0m\u001b[0m\n\u001b[1;32m      2\u001b[0m \u001b[0;32mtry\u001b[0m\u001b[0;34m:\u001b[0m\u001b[0;34m\u001b[0m\u001b[0;34m\u001b[0m\u001b[0m\n\u001b[0;32m----> 3\u001b[0;31m     \u001b[0mf\u001b[0m\u001b[0;34m=\u001b[0m\u001b[0mopen\u001b[0m\u001b[0;34m(\u001b[0m\u001b[0;34m\"yo.txt\"\u001b[0m\u001b[0;34m)\u001b[0m\u001b[0;34m\u001b[0m\u001b[0;34m\u001b[0m\u001b[0m\n\u001b[0m\u001b[1;32m      4\u001b[0m \u001b[0;32mexcept\u001b[0m \u001b[0mFileNotFoundError\u001b[0m\u001b[0;34m:\u001b[0m\u001b[0;34m\u001b[0m\u001b[0;34m\u001b[0m\u001b[0m\n\u001b[1;32m      5\u001b[0m     \u001b[0mprint\u001b[0m\u001b[0;34m(\u001b[0m\u001b[0;34m\"Sorry the file doesn't exist\"\u001b[0m\u001b[0;34m)\u001b[0m\u001b[0;34m\u001b[0m\u001b[0;34m\u001b[0m\u001b[0m\n",
      "\u001b[0;31mPermissionError\u001b[0m: [Errno 13] Permission denied: 'yo.txt'"
     ]
    }
   ],
   "source": [
    "#when permission exception is raise in above code, which is a good thing\n",
    "try:\n",
    "    f=open(\"yo.txt\")\n",
    "except FileNotFoundError:\n",
    "    print(\"Sorry the file doesn't exist\")"
   ]
  },
  {
   "cell_type": "code",
   "execution_count": 14,
   "metadata": {},
   "outputs": [
    {
     "name": "stdout",
     "output_type": "stream",
     "text": [
      "[Errno 13] Permission denied: 'yo.txt'\n"
     ]
    }
   ],
   "source": [
    "#you can handle as many exception as you want and print message accordingly. but always except general exception at last.\n",
    "#you can also print exact exception instead of custom messages\n",
    "try:\n",
    "    f=open(\"yo.txt\")\n",
    "except FileNotFoundError:\n",
    "    print(\"Sorry the file doesn't exist\")\n",
    "except PermissionError as e:\n",
    "    print(e)\n",
    "except Exception:\n",
    "    print(\"Sorry something went wrong\")\n"
   ]
  },
  {
   "cell_type": "code",
   "execution_count": 16,
   "metadata": {},
   "outputs": [
    {
     "name": "stdout",
     "output_type": "stream",
     "text": [
      "[Errno 2] No such file or directory: 'yo.txt'\n"
     ]
    }
   ],
   "source": [
    "#if you dont want custom message for any exception. you can always do this.\n",
    "try:\n",
    "    f=open(\"yo.txt\")\n",
    "except Exception as e:\n",
    "    print(e)"
   ]
  },
  {
   "cell_type": "code",
   "execution_count": 17,
   "metadata": {},
   "outputs": [
    {
     "name": "stdout",
     "output_type": "stream",
     "text": [
      "test file Contents!\n",
      "\n"
     ]
    }
   ],
   "source": [
    "#else will execute the code if try block doesnt raise the exception\n",
    "try:\n",
    "    f=open(\"yo.txt\")\n",
    "except Exception as e:\n",
    "    print(e)\n",
    "else:\n",
    "    print(f.read())\n",
    "    f.close()"
   ]
  },
  {
   "cell_type": "code",
   "execution_count": 18,
   "metadata": {},
   "outputs": [
    {
     "name": "stdout",
     "output_type": "stream",
     "text": [
      "test file Contents!\n",
      "\n",
      "This blocks contain something thats need to be done, no matter what, like closing the DB\n"
     ]
    }
   ],
   "source": [
    "#Regardless of what happen in try and catch block, finally block always get executed.\n",
    "try:\n",
    "    f=open(\"yo.txt\")\n",
    "except Exception as e:\n",
    "    print(e)\n",
    "else:\n",
    "    print(f.read())\n",
    "    f.close()\n",
    "finally:\n",
    "    print(\"This blocks contain something thats need to be done, no matter what, like closing the DB\")"
   ]
  },
  {
   "cell_type": "code",
   "execution_count": 19,
   "metadata": {},
   "outputs": [
    {
     "name": "stdout",
     "output_type": "stream",
     "text": [
      "[Errno 2] No such file or directory: 'yo.txt'\n",
      "This blocks contain something thats need to be done, no matter what, like closing the DB\n"
     ]
    }
   ],
   "source": [
    "#Above code with exception\n",
    "try:\n",
    "    f=open(\"yo.txt\")\n",
    "except Exception as e:\n",
    "    print(e)\n",
    "else:\n",
    "    print(f.read())\n",
    "    f.close()\n",
    "finally:\n",
    "    print(\"This blocks contain something thats need to be done, no matter what, like closing the DB\")"
   ]
  },
  {
   "cell_type": "code",
   "execution_count": 23,
   "metadata": {},
   "outputs": [
    {
     "name": "stdout",
     "output_type": "stream",
     "text": [
      "File Corrupted!!!!!\n"
     ]
    }
   ],
   "source": [
    "#TO manually raise exception\n",
    "try:\n",
    "    f=open(\"corrupte_file.txt\")\n",
    "    if f.name=='corrupte_file.txt':\n",
    "        raise Exception\n",
    "except FileNotFoundError:\n",
    "    print(\"Sorry the file doesn't exist\")\n",
    "except PermissionError as e:\n",
    "    print(e)\n",
    "except Exception as e:\n",
    "    print(\"File Corrupted!!!!!\")"
   ]
  }
 ],
 "metadata": {
  "kernelspec": {
   "display_name": "Python 3",
   "language": "python",
   "name": "python3"
  },
  "language_info": {
   "codemirror_mode": {
    "name": "ipython",
    "version": 3
   },
   "file_extension": ".py",
   "mimetype": "text/x-python",
   "name": "python",
   "nbconvert_exporter": "python",
   "pygments_lexer": "ipython3",
   "version": "3.7.3"
  }
 },
 "nbformat": 4,
 "nbformat_minor": 2
}
