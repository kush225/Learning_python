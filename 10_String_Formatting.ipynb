{
 "cells": [
  {
   "cell_type": "code",
   "execution_count": 1,
   "metadata": {},
   "outputs": [],
   "source": [
    "person={'name':'John','age':30}"
   ]
  },
  {
   "cell_type": "code",
   "execution_count": 8,
   "metadata": {},
   "outputs": [
    {
     "name": "stdout",
     "output_type": "stream",
     "text": [
      "My name is John and i am 30 yrs old.\n"
     ]
    }
   ],
   "source": [
    "sentence='My name is ' + person['name'] + ' and i am ' + str(person['age']) + ' yrs old.'\n",
    "print(sentence)"
   ]
  },
  {
   "cell_type": "code",
   "execution_count": 12,
   "metadata": {},
   "outputs": [
    {
     "name": "stdout",
     "output_type": "stream",
     "text": [
      "My name is John and i am 30 yrs old.\n"
     ]
    }
   ],
   "source": [
    "#Above code using String Formatting\n",
    "sentence='My name is {} and i am {} yrs old.'.format(person['name'],person['age'])\n",
    "print(sentence)"
   ]
  },
  {
   "cell_type": "code",
   "execution_count": 16,
   "metadata": {},
   "outputs": [],
   "source": [
    "tag='h1'\n",
    "text=\"This is a Heading\""
   ]
  },
  {
   "cell_type": "code",
   "execution_count": 17,
   "metadata": {},
   "outputs": [
    {
     "name": "stdout",
     "output_type": "stream",
     "text": [
      "<h1>This is a Heading<\\h1>\n"
     ]
    }
   ],
   "source": [
    "sentence='<{0}>{1}<\\{0}>'.format(tag,text)\n",
    "print(sentence)"
   ]
  },
  {
   "cell_type": "code",
   "execution_count": 20,
   "metadata": {},
   "outputs": [
    {
     "name": "stdout",
     "output_type": "stream",
     "text": [
      "My name is John and i am 30 yrs old.\n"
     ]
    }
   ],
   "source": [
    "sentence='My name is {0[name]} and i am {0[age]} yrs old.'.format(person)\n",
    "print(sentence)"
   ]
  },
  {
   "cell_type": "code",
   "execution_count": 22,
   "metadata": {},
   "outputs": [
    {
     "name": "stdout",
     "output_type": "stream",
     "text": [
      "My name is Aron and i am 25 yrs old.\n"
     ]
    }
   ],
   "source": [
    "class Person():\n",
    "    \n",
    "    def __init__(self,name,age):\n",
    "        self.name=name\n",
    "        self.age=age\n",
    "        \n",
    "p1 = Person(\"Aron\",25)\n",
    "\n",
    "sentence='My name is {0.name} and i am {0.age} yrs old.'.format(p1)\n",
    "print(sentence)"
   ]
  },
  {
   "cell_type": "code",
   "execution_count": 23,
   "metadata": {},
   "outputs": [
    {
     "name": "stdout",
     "output_type": "stream",
     "text": [
      "My name is ken and i am 24 yrs old.\n"
     ]
    }
   ],
   "source": [
    "sentence='My name is {name} and i am {age} yrs old.'.format(name='ken',age=24)\n",
    "print(sentence)"
   ]
  },
  {
   "cell_type": "code",
   "execution_count": 24,
   "metadata": {},
   "outputs": [],
   "source": [
    "person={'name':'John','age':30}"
   ]
  },
  {
   "cell_type": "code",
   "execution_count": 25,
   "metadata": {},
   "outputs": [
    {
     "name": "stdout",
     "output_type": "stream",
     "text": [
      "My name is John and i am 30 yrs old.\n"
     ]
    }
   ],
   "source": [
    "#Best way to unpack a dictionary\n",
    "sentence='My name is {name} and i am {age} yrs old.'.format(**person)\n",
    "print(sentence)"
   ]
  },
  {
   "cell_type": "code",
   "execution_count": 26,
   "metadata": {},
   "outputs": [
    {
     "name": "stdout",
     "output_type": "stream",
     "text": [
      "The Value is 1\n",
      "The Value is 2\n",
      "The Value is 3\n",
      "The Value is 4\n",
      "The Value is 5\n",
      "The Value is 6\n",
      "The Value is 7\n",
      "The Value is 8\n",
      "The Value is 9\n",
      "The Value is 10\n"
     ]
    }
   ],
   "source": [
    "for i in range(1,11):\n",
    "    sentence=\"The Value is {}\".format(i)\n",
    "    print(sentence)"
   ]
  },
  {
   "cell_type": "code",
   "execution_count": 27,
   "metadata": {},
   "outputs": [
    {
     "name": "stdout",
     "output_type": "stream",
     "text": [
      "The Value is 01\n",
      "The Value is 02\n",
      "The Value is 03\n",
      "The Value is 04\n",
      "The Value is 05\n",
      "The Value is 06\n",
      "The Value is 07\n",
      "The Value is 08\n",
      "The Value is 09\n",
      "The Value is 10\n"
     ]
    }
   ],
   "source": [
    "#To Print numbers in 2 digit only\n",
    "for i in range(1,11):\n",
    "    sentence=\"The Value is {:02}\".format(i)\n",
    "    print(sentence)"
   ]
  },
  {
   "cell_type": "code",
   "execution_count": 29,
   "metadata": {},
   "outputs": [
    {
     "name": "stdout",
     "output_type": "stream",
     "text": [
      "Value of pi is 3.14\n"
     ]
    }
   ],
   "source": [
    "pi =3.14159265\n",
    "sentence=\"Value of pi is {:.2f}\".format(pi)\n",
    "print(sentence)"
   ]
  },
  {
   "cell_type": "code",
   "execution_count": 32,
   "metadata": {},
   "outputs": [
    {
     "name": "stdout",
     "output_type": "stream",
     "text": [
      "1MB is equal to 1000000 bytes\n"
     ]
    }
   ],
   "source": [
    "sentence=\"1MB is equal to {} bytes\".format(1000**2)\n",
    "print(sentence)"
   ]
  },
  {
   "cell_type": "code",
   "execution_count": 33,
   "metadata": {},
   "outputs": [
    {
     "name": "stdout",
     "output_type": "stream",
     "text": [
      "1MB is equal to 1,000,000 bytes\n"
     ]
    }
   ],
   "source": [
    "sentence=\"1MB is equal to {:,} bytes\".format(1000**2)\n",
    "print(sentence)"
   ]
  },
  {
   "cell_type": "code",
   "execution_count": 34,
   "metadata": {},
   "outputs": [
    {
     "name": "stdout",
     "output_type": "stream",
     "text": [
      "1MB is equal to 1,000,000.00 bytes\n"
     ]
    }
   ],
   "source": [
    "sentence=\"1MB is equal to {:,.2f} bytes\".format(1000**2)\n",
    "print(sentence)"
   ]
  },
  {
   "cell_type": "code",
   "execution_count": 35,
   "metadata": {},
   "outputs": [
    {
     "name": "stdout",
     "output_type": "stream",
     "text": [
      "2016-09-24 12:30:45\n"
     ]
    }
   ],
   "source": [
    "import datetime\n",
    "my_date = datetime.datetime(2016,9,24,12,30,45)\n",
    "print(my_date)"
   ]
  },
  {
   "cell_type": "code",
   "execution_count": 36,
   "metadata": {},
   "outputs": [
    {
     "name": "stdout",
     "output_type": "stream",
     "text": [
      "September 24, 2016\n"
     ]
    }
   ],
   "source": [
    "sentence='{:%B %d, %Y}'.format(my_date)\n",
    "print(sentence)"
   ]
  },
  {
   "cell_type": "code",
   "execution_count": 40,
   "metadata": {},
   "outputs": [
    {
     "name": "stdout",
     "output_type": "stream",
     "text": [
      "September 24, 2016 fell on a Saturday and was the 268 day of the year.\n"
     ]
    }
   ],
   "source": [
    "#September 24, 2016 fell on a Saturday and was the 268 day of the year.\n",
    "sentence=\"{0:%B %d, %Y} fell on a {0:%A} and was the {0:%j} day of the year.\".format(my_date)\n",
    "print(sentence)"
   ]
  }
 ],
 "metadata": {
  "kernelspec": {
   "display_name": "Python 3",
   "language": "python",
   "name": "python3"
  },
  "language_info": {
   "codemirror_mode": {
    "name": "ipython",
    "version": 3
   },
   "file_extension": ".py",
   "mimetype": "text/x-python",
   "name": "python",
   "nbconvert_exporter": "python",
   "pygments_lexer": "ipython3",
   "version": "3.7.3"
  }
 },
 "nbformat": 4,
 "nbformat_minor": 2
}
