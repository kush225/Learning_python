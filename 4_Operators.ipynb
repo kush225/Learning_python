{
 "cells": [
  {
   "cell_type": "code",
   "execution_count": 1,
   "metadata": {},
   "outputs": [],
   "source": [
    "#OPERATORS\n",
    "#Operators are used to perform operations on variables and values.\n",
    "#Python divides the operators in the following groups:\n",
    "# Arithmetic operators\n",
    "# Assignment operators\n",
    "# Comparison operators\n",
    "# Logical operators\n",
    "# Identity operators\n",
    "# Membership operators\n",
    "# Bitwise operators"
   ]
  },
  {
   "cell_type": "code",
   "execution_count": 2,
   "metadata": {},
   "outputs": [],
   "source": [
    "a= [1, 2, 3]\n",
    "b= [1, 2, 3]\n",
    "c=a"
   ]
  },
  {
   "cell_type": "code",
   "execution_count": 3,
   "metadata": {},
   "outputs": [
    {
     "name": "stdout",
     "output_type": "stream",
     "text": [
      "True\n"
     ]
    }
   ],
   "source": [
    "#Comparison operators (==)\n",
    "#checks whether the value of a and b are equal\n",
    "print(a==b)"
   ]
  },
  {
   "cell_type": "code",
   "execution_count": 4,
   "metadata": {},
   "outputs": [
    {
     "name": "stdout",
     "output_type": "stream",
     "text": [
      "139632304839176\n",
      "139632278608840\n",
      "139632304839176\n"
     ]
    }
   ],
   "source": [
    "#id prints memory address\n",
    "print(id(a))\n",
    "print(id(b))\n",
    "print(id(c))"
   ]
  },
  {
   "cell_type": "code",
   "execution_count": 5,
   "metadata": {},
   "outputs": [
    {
     "name": "stdout",
     "output_type": "stream",
     "text": [
      "False\n"
     ]
    }
   ],
   "source": [
    "#identity operator (is)\n",
    "#is checks whether the same object in memory\n",
    "print(a is b)"
   ]
  },
  {
   "cell_type": "code",
   "execution_count": 6,
   "metadata": {},
   "outputs": [
    {
     "name": "stdout",
     "output_type": "stream",
     "text": [
      "True\n"
     ]
    }
   ],
   "source": [
    "print(a is c)"
   ]
  },
  {
   "cell_type": "code",
   "execution_count": 7,
   "metadata": {},
   "outputs": [],
   "source": [
    "#False values\n",
    "# Flase\n",
    "# None\n",
    "# zero of any numeric type\n",
    "# any empty sequence. For example: '', (), [], {}"
   ]
  }
 ],
 "metadata": {
  "kernelspec": {
   "display_name": "Python 3",
   "language": "python",
   "name": "python3"
  },
  "language_info": {
   "codemirror_mode": {
    "name": "ipython",
    "version": 3
   },
   "file_extension": ".py",
   "mimetype": "text/x-python",
   "name": "python",
   "nbconvert_exporter": "python",
   "pygments_lexer": "ipython3",
   "version": "3.7.3"
  }
 },
 "nbformat": 4,
 "nbformat_minor": 2
}
