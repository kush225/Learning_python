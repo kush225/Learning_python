{
 "cells": [
  {
   "cell_type": "code",
   "execution_count": 18,
   "metadata": {},
   "outputs": [],
   "source": [
    "#Logging_Basics\n",
    "#Logging to files, Setting Levels and Formatting\n",
    "#Logging Levels: 5 types (by default only warning, error, critical is enabled by python)\n",
    "# Debug: Detailed information, typically of interest only when diagnosing problems.\n",
    "# Info: Confirmation that things are working as expected.\n",
    "# Warning: An indication that something unexpected happened, or indicative of some problem in the nead future(e.g. 'disk space low'). The Software is still working as expected.\n",
    "# Error: Due to a more serious problem, the software has not been able to perform some function.\n",
    "# Critical: A serious error, indicating that the program itslef may be unable to continue running."
   ]
  },
  {
   "cell_type": "code",
   "execution_count": 19,
   "metadata": {},
   "outputs": [],
   "source": [
    "def add(x,y):\n",
    "    \"\"\"Add Function\"\"\"\n",
    "    return x + y\n",
    "def subtract(x,y):\n",
    "    \"\"\"Subtract Function\"\"\"\n",
    "    return x - y\n",
    "def multiply(x,y):\n",
    "    \"\"\"Multiply Function\"\"\"\n",
    "    return x * y\n",
    "def divison(x,y):\n",
    "    \"\"\"Divide Function\"\"\"\n",
    "    return x / y"
   ]
  },
  {
   "cell_type": "code",
   "execution_count": 20,
   "metadata": {},
   "outputs": [],
   "source": [
    "num_1=10\n",
    "num_2=5"
   ]
  },
  {
   "cell_type": "code",
   "execution_count": 21,
   "metadata": {},
   "outputs": [
    {
     "name": "stdout",
     "output_type": "stream",
     "text": [
      "Add: 10 + 5 = 15\n",
      "Subtract: 10 + 5 = 5\n",
      "Multiply: 10 + 5 = 50\n",
      "Divison: 10 + 5 = 2.0\n"
     ]
    }
   ],
   "source": [
    "#To check whether your code run correctly you need to print the output but instead of printing you can use logging\n",
    "add_result= add(num_1,num_2)\n",
    "print('Add: {} + {} = {}'.format(num_1,num_2,add_result))\n",
    "sub_result= subtract(num_1,num_2)\n",
    "print('Subtract: {} + {} = {}'.format(num_1,num_2,sub_result))\n",
    "multiply_result= multiply(num_1,num_2)\n",
    "print('Multiply: {} + {} = {}'.format(num_1,num_2,multiply_result))\n",
    "divide_result= divison(num_1,num_2)\n",
    "print('Divison: {} + {} = {}'.format(num_1,num_2,divide_result))"
   ]
  },
  {
   "cell_type": "code",
   "execution_count": 6,
   "metadata": {},
   "outputs": [],
   "source": [
    "import logging\n",
    "import subprocess"
   ]
  },
  {
   "cell_type": "code",
   "execution_count": 2,
   "metadata": {},
   "outputs": [],
   "source": [
    "#configure logging root.. filename is used so that logs will be appending in file instead of showing on terminal, and we are setting logging level to debug\n",
    "logging.basicConfig(filename='test.log',level=logging.DEBUG)"
   ]
  },
  {
   "cell_type": "code",
   "execution_count": 3,
   "metadata": {},
   "outputs": [],
   "source": [
    "def add(x,y):\n",
    "    \"\"\"Add Function\"\"\"\n",
    "    return x + y\n",
    "def subtract(x,y):\n",
    "    \"\"\"Subtract Function\"\"\"\n",
    "    return x - y\n",
    "def multiply(x,y):\n",
    "    \"\"\"Multiply Function\"\"\"\n",
    "    return x * y\n",
    "def divison(x,y):\n",
    "    \"\"\"Divide Function\"\"\"\n",
    "    return x / y\n",
    "num_1=10\n",
    "num_2=5"
   ]
  },
  {
   "cell_type": "code",
   "execution_count": 4,
   "metadata": {},
   "outputs": [],
   "source": [
    "add_result= add(num_1,num_2)\n",
    "logging.debug('Add: {} + {} = {}'.format(num_1,num_2,add_result))\n",
    "sub_result= subtract(num_1,num_2)\n",
    "logging.debug('Subtract: {} + {} = {}'.format(num_1,num_2,sub_result))\n",
    "multiply_result= multiply(num_1,num_2)\n",
    "logging.debug('Multiply: {} + {} = {}'.format(num_1,num_2,multiply_result))\n",
    "divide_result= divison(num_1,num_2)\n",
    "logging.debug('Divison: {} + {} = {}'.format(num_1,num_2,divide_result))\n",
    "#logging file will be created"
   ]
  },
  {
   "cell_type": "code",
   "execution_count": 8,
   "metadata": {},
   "outputs": [
    {
     "data": {
      "text/plain": [
       "'DEBUG:root:Add: 10 + 5 = 15\\nDEBUG:root:Subtract: 10 + 5 = 5\\nDEBUG:root:Multiply: 10 + 5 = 50\\nDEBUG:root:Divison: 10 + 5 = 2.0'"
      ]
     },
     "execution_count": 8,
     "metadata": {},
     "output_type": "execute_result"
    }
   ],
   "source": [
    "#subprocess module is used to show data in file\n",
    "subprocess.getoutput('cat test.log')\n",
    "#imagine \\n as new line."
   ]
  },
  {
   "cell_type": "code",
   "execution_count": 15,
   "metadata": {},
   "outputs": [],
   "source": [
    "#Another Example which was used in 31_Property_Decorators\n",
    "import logging\n",
    "\n",
    "#you can set the format of log. and for more format option check python documentation\n",
    "logging.basicConfig(filename='Employee.log',level=logging.INFO, format='%(asctime)s:%(levelname)s:%(message)s')\n",
    "\n",
    "class Employee:\n",
    "    \n",
    "    def __init__(self, first, last):\n",
    "        self.first = first\n",
    "        self.last = last\n",
    "        \n",
    "        logging.info(\"Employee Created: {} - {}\".format(self.fullname,self.email))\n",
    "        \n",
    "    @property  \n",
    "    def fullname(self):\n",
    "        return '{} {}'.format(self.first, self.last)\n",
    "    \n",
    "    @property\n",
    "    def email(self):\n",
    "        return \"{}.{}@company.com\".format(self.first,self.last)\n",
    "    \n",
    "emp_1 = Employee('Kushagra','Gupta')\n",
    "emp_2 = Employee('Jane','Doe')\n",
    "emp_3 = Employee('Sam','Williams')"
   ]
  },
  {
   "cell_type": "code",
   "execution_count": 16,
   "metadata": {},
   "outputs": [
    {
     "data": {
      "text/plain": [
       "'2019-07-19 00:04:16,522:INFO:Employee Created: Kushagra Gupta - Kushagra.Gupta@company.com\\n2019-07-19 00:04:16,522:INFO:Employee Created: Jane Doe - Jane.Doe@company.com\\n2019-07-19 00:04:16,522:INFO:Employee Created: Sam Williams - Sam.Williams@company.com'"
      ]
     },
     "execution_count": 16,
     "metadata": {},
     "output_type": "execute_result"
    }
   ],
   "source": [
    "#subprocess module is used to show data in file\n",
    "subprocess.getoutput('cat Employee.log')\n",
    "#imagine \\n as new line."
   ]
  },
  {
   "cell_type": "code",
   "execution_count": null,
   "metadata": {},
   "outputs": [],
   "source": []
  }
 ],
 "metadata": {
  "kernelspec": {
   "display_name": "Python 3",
   "language": "python",
   "name": "python3"
  },
  "language_info": {
   "codemirror_mode": {
    "name": "ipython",
    "version": 3
   },
   "file_extension": ".py",
   "mimetype": "text/x-python",
   "name": "python",
   "nbconvert_exporter": "python",
   "pygments_lexer": "ipython3",
   "version": "3.7.3"
  }
 },
 "nbformat": 4,
 "nbformat_minor": 2
}
