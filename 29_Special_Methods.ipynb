{
 "cells": [
  {
   "cell_type": "code",
   "execution_count": 25,
   "metadata": {},
   "outputs": [],
   "source": [
    "#Python Object-Oriented Programming\n",
    "#Special Methods(Magic/Dunder)\n",
    "#Dunder or magic methods in Python are the methods having two prefix and suffix underscores in the method name. Dunder here means “Double Under (Underscores)”. These are commonly used for operator overloading. Few examples for magic methods are: __init__, __add__, __len__, __repr__ etc."
   ]
  },
  {
   "cell_type": "code",
   "execution_count": 3,
   "metadata": {},
   "outputs": [
    {
     "name": "stdout",
     "output_type": "stream",
     "text": [
      "3\n",
      "ab\n"
     ]
    }
   ],
   "source": [
    "#so according to what objects you are working on addition have different behavior\n",
    "#On integers it simply adds\n",
    "print(1+2)\n",
    "#On strings it concatenates\n",
    "print('a'+'b')"
   ]
  },
  {
   "cell_type": "code",
   "execution_count": 4,
   "metadata": {},
   "outputs": [
    {
     "name": "stdout",
     "output_type": "stream",
     "text": [
      "<__main__.Employee object at 0x7fc84c334898>\n"
     ]
    }
   ],
   "source": [
    "class Employee:\n",
    "    num_of_emps=0\n",
    "    raise_amount=1.04\n",
    "    \n",
    "    def __init__(self, first, last, pay):\n",
    "        self.first = first\n",
    "        self.last = last\n",
    "        self.pay = pay\n",
    "        self.email = first + '.' + last + '@company.com'\n",
    "    \n",
    "        Employee.num_of_emps +=1\n",
    "        \n",
    "    def fullname(self):\n",
    "        return '{} {}'.format(self.first, self.last)\n",
    "    \n",
    "    def apply_raise(self):\n",
    "        self.pay=int(self.pay * self.raise_amount)  \n",
    "\n",
    "emp_1 = Employee('Kushagra','Gupta',50000)\n",
    "emp_2 = Employee('Sam','White',30000)\n",
    "\n",
    "print(emp_1)\n",
    "#this print employee object but this is not understandable. Using Special methods we will be able to print something userfriendly. By Defining our special method we will be able to change this built-in behavior."
   ]
  },
  {
   "cell_type": "code",
   "execution_count": 7,
   "metadata": {},
   "outputs": [
    {
     "name": "stdout",
     "output_type": "stream",
     "text": [
      "Employee('Sam', 'White', '30000'')\n"
     ]
    }
   ],
   "source": [
    "class Employee:\n",
    "    num_of_emps=0\n",
    "    raise_amount=1.04\n",
    "    \n",
    "    def __init__(self, first, last, pay):\n",
    "        self.first = first\n",
    "        self.last = last\n",
    "        self.pay = pay\n",
    "        self.email = first + '.' + last + '@company.com'\n",
    "    \n",
    "        Employee.num_of_emps +=1\n",
    "        \n",
    "    def fullname(self):\n",
    "        return '{} {}'.format(self.first, self.last)\n",
    "    \n",
    "    def apply_raise(self):\n",
    "        self.pay=int(self.pay * self.raise_amount)  \n",
    "        \n",
    "    def __repr__(self):   #__ means dunder\n",
    "        return \"Employee('{}', '{}', '{}'')\".format(self.first,self.last,self.pay)\n",
    "    \n",
    "    def __str__(self):     \n",
    "        return \"{} - {}\".format(self.fullname(),self.email)\n",
    "emp_1 = Employee('Kushagra','Gupta',50000)\n",
    "emp_2 = Employee('Sam','White',30000)\n",
    "\n",
    "#now this will be more readable to end user.\n",
    "print(emp_2)"
   ]
  },
  {
   "cell_type": "code",
   "execution_count": 10,
   "metadata": {},
   "outputs": [
    {
     "name": "stdout",
     "output_type": "stream",
     "text": [
      "Sam White - Sam.White@company.com\n"
     ]
    }
   ],
   "source": [
    "class Employee:\n",
    "    num_of_emps=0\n",
    "    raise_amount=1.04\n",
    "    \n",
    "    def __init__(self, first, last, pay):\n",
    "        self.first = first\n",
    "        self.last = last\n",
    "        self.pay = pay\n",
    "        self.email = first + '.' + last + '@company.com'\n",
    "    \n",
    "        Employee.num_of_emps +=1\n",
    "        \n",
    "    def fullname(self):\n",
    "        return '{} {}'.format(self.first, self.last)\n",
    "    \n",
    "    def apply_raise(self):\n",
    "        self.pay=int(self.pay * self.raise_amount)  \n",
    "        \n",
    "    def __repr__(self):   #__ means dunder\n",
    "        return \"Employee('{}', '{}', '{}'')\".format(self.first,self.last,self.pay)\n",
    "    \n",
    "    def __str__(self):     \n",
    "        return \"{} - {}\".format(self.fullname(),self.email)\n",
    "emp_1 = Employee('Kushagra','Gupta',50000)\n",
    "emp_2 = Employee('Sam','White',30000)\n",
    "\n",
    "#now after defining __str__ this will use __str__ insed of __repr__\n",
    "print(emp_2)"
   ]
  },
  {
   "cell_type": "code",
   "execution_count": 11,
   "metadata": {},
   "outputs": [
    {
     "name": "stdout",
     "output_type": "stream",
     "text": [
      "Employee('Kushagra', 'Gupta', '50000'')\n",
      "Kushagra Gupta - Kushagra.Gupta@company.com\n"
     ]
    }
   ],
   "source": [
    "#to access __repr__ and __str__ specifically, we can use\n",
    "print(repr(emp_1)) \n",
    "print(str(emp_1))"
   ]
  },
  {
   "cell_type": "code",
   "execution_count": 12,
   "metadata": {},
   "outputs": [
    {
     "name": "stdout",
     "output_type": "stream",
     "text": [
      "Employee('Kushagra', 'Gupta', '50000'')\n",
      "Kushagra Gupta - Kushagra.Gupta@company.com\n"
     ]
    }
   ],
   "source": [
    "# above two print line is equivalent to these and in background it interprets this way\n",
    "print(emp_1.__repr__())\n",
    "print(emp_1.__str__())"
   ]
  },
  {
   "cell_type": "code",
   "execution_count": 15,
   "metadata": {},
   "outputs": [
    {
     "name": "stdout",
     "output_type": "stream",
     "text": [
      "3\n",
      "3\n",
      "ab\n",
      "ab\n"
     ]
    }
   ],
   "source": [
    "print(1+2)\n",
    "#is equivalent to\n",
    "print(int.__add__(1,2))\n",
    "#whereas\n",
    "print('a'+'b')\n",
    "#is equivalent to \n",
    "print(str.__add__('a','b'))"
   ]
  },
  {
   "cell_type": "code",
   "execution_count": 16,
   "metadata": {},
   "outputs": [
    {
     "ename": "TypeError",
     "evalue": "unsupported operand type(s) for +: 'Employee' and 'Employee'",
     "output_type": "error",
     "traceback": [
      "\u001b[0;31m---------------------------------------------------------------------------\u001b[0m",
      "\u001b[0;31mTypeError\u001b[0m                                 Traceback (most recent call last)",
      "\u001b[0;32m<ipython-input-16-5017bd474d5e>\u001b[0m in \u001b[0;36m<module>\u001b[0;34m\u001b[0m\n\u001b[0;32m----> 1\u001b[0;31m \u001b[0mprint\u001b[0m\u001b[0;34m(\u001b[0m\u001b[0memp_1\u001b[0m \u001b[0;34m+\u001b[0m \u001b[0memp_2\u001b[0m\u001b[0;34m)\u001b[0m\u001b[0;34m\u001b[0m\u001b[0;34m\u001b[0m\u001b[0m\n\u001b[0m",
      "\u001b[0;31mTypeError\u001b[0m: unsupported operand type(s) for +: 'Employee' and 'Employee'"
     ]
    }
   ],
   "source": [
    "#It doesn't know how to add to Employee\n",
    "print(emp_1 + emp_2)\n",
    "#so we will make a function dunder add for that (__add__)"
   ]
  },
  {
   "cell_type": "code",
   "execution_count": 17,
   "metadata": {},
   "outputs": [
    {
     "name": "stdout",
     "output_type": "stream",
     "text": [
      "80000\n"
     ]
    }
   ],
   "source": [
    "class Employee:\n",
    "    num_of_emps=0\n",
    "    raise_amount=1.04\n",
    "    \n",
    "    def __init__(self, first, last, pay):\n",
    "        self.first = first\n",
    "        self.last = last\n",
    "        self.pay = pay\n",
    "        self.email = first + '.' + last + '@company.com'\n",
    "    \n",
    "        Employee.num_of_emps +=1\n",
    "        \n",
    "    def fullname(self):\n",
    "        return '{} {}'.format(self.first, self.last)\n",
    "    \n",
    "    def apply_raise(self):\n",
    "        self.pay=int(self.pay * self.raise_amount)  \n",
    "        \n",
    "    def __repr__(self):   #__ means dunder\n",
    "        return \"Employee('{}', '{}', '{}'')\".format(self.first,self.last,self.pay)\n",
    "    \n",
    "    def __str__(self):     \n",
    "        return \"{} - {}\".format(self.fullname(),self.email)\n",
    "    \n",
    "    def __add__(self, other):\n",
    "        return self.pay + other.pay\n",
    "    \n",
    "emp_1 = Employee('Kushagra','Gupta',50000)\n",
    "emp_2 = Employee('Sam','White',30000)\n",
    "\n",
    "print(emp_1+emp_2)"
   ]
  },
  {
   "cell_type": "code",
   "execution_count": 23,
   "metadata": {},
   "outputs": [
    {
     "name": "stdout",
     "output_type": "stream",
     "text": [
      "4\n",
      "4\n"
     ]
    },
    {
     "ename": "TypeError",
     "evalue": "object of type 'Employee' has no len()",
     "output_type": "error",
     "traceback": [
      "\u001b[0;31m---------------------------------------------------------------------------\u001b[0m",
      "\u001b[0;31mTypeError\u001b[0m                                 Traceback (most recent call last)",
      "\u001b[0;32m<ipython-input-23-55352c0957d8>\u001b[0m in \u001b[0;36m<module>\u001b[0;34m\u001b[0m\n\u001b[1;32m      2\u001b[0m \u001b[0;31m#is equivalent to dunder len (__len__)\u001b[0m\u001b[0;34m\u001b[0m\u001b[0;34m\u001b[0m\u001b[0;34m\u001b[0m\u001b[0m\n\u001b[1;32m      3\u001b[0m \u001b[0mprint\u001b[0m\u001b[0;34m(\u001b[0m\u001b[0;34m'test'\u001b[0m\u001b[0;34m.\u001b[0m\u001b[0m__len__\u001b[0m\u001b[0;34m(\u001b[0m\u001b[0;34m)\u001b[0m\u001b[0;34m)\u001b[0m\u001b[0;34m\u001b[0m\u001b[0;34m\u001b[0m\u001b[0m\n\u001b[0;32m----> 4\u001b[0;31m \u001b[0mprint\u001b[0m\u001b[0;34m(\u001b[0m\u001b[0mlen\u001b[0m\u001b[0;34m(\u001b[0m\u001b[0memp_1\u001b[0m\u001b[0;34m)\u001b[0m\u001b[0;34m)\u001b[0m\u001b[0;34m\u001b[0m\u001b[0;34m\u001b[0m\u001b[0m\n\u001b[0m",
      "\u001b[0;31mTypeError\u001b[0m: object of type 'Employee' has no len()"
     ]
    }
   ],
   "source": [
    "print(len('test'))\n",
    "#is equivalent to dunder len (__len__)\n",
    "print('test'.__len__())\n",
    "\n",
    "#this will give error as employee doesn't have any method to handle this. so we will make one.\n",
    "print(len(emp_1))"
   ]
  },
  {
   "cell_type": "code",
   "execution_count": 24,
   "metadata": {},
   "outputs": [
    {
     "name": "stdout",
     "output_type": "stream",
     "text": [
      "14\n"
     ]
    }
   ],
   "source": [
    "#So suppose when we run dunder len(__len__) method in employee instance it will written total no. of characters in their fullname.\n",
    "class Employee:\n",
    "    num_of_emps=0\n",
    "    raise_amount=1.04\n",
    "    \n",
    "    def __init__(self, first, last, pay):\n",
    "        self.first = first\n",
    "        self.last = last\n",
    "        self.pay = pay\n",
    "        self.email = first + '.' + last + '@company.com'\n",
    "    \n",
    "        Employee.num_of_emps +=1\n",
    "        \n",
    "    def fullname(self):\n",
    "        return '{} {}'.format(self.first, self.last)\n",
    "    \n",
    "    def apply_raise(self):\n",
    "        self.pay=int(self.pay * self.raise_amount)  \n",
    "        \n",
    "    def __repr__(self):   #__ means dunder\n",
    "        return \"Employee('{}', '{}', '{}'')\".format(self.first,self.last,self.pay)\n",
    "    \n",
    "    def __str__(self):     \n",
    "        return \"{} - {}\".format(self.fullname(),self.email)\n",
    "    \n",
    "    def __add__(self, other):\n",
    "        return self.pay + other.pay\n",
    "    \n",
    "    def __len__(self):\n",
    "        return self.fullname().__len__()\n",
    "        #or return len(self.fullname())\n",
    "    \n",
    "    \n",
    "emp_1 = Employee('Kushagra','Gupta',50000)\n",
    "emp_2 = Employee('Sam','White',30000)\n",
    "\n",
    "#this will print number of characters in fullname of employee.\n",
    "print(len(emp_1))"
   ]
  }
 ],
 "metadata": {
  "kernelspec": {
   "display_name": "Python 3",
   "language": "python",
   "name": "python3"
  },
  "language_info": {
   "codemirror_mode": {
    "name": "ipython",
    "version": 3
   },
   "file_extension": ".py",
   "mimetype": "text/x-python",
   "name": "python",
   "nbconvert_exporter": "python",
   "pygments_lexer": "ipython3",
   "version": "3.7.3"
  }
 },
 "nbformat": 4,
 "nbformat_minor": 2
}
