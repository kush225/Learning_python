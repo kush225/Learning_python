{
 "cells": [
  {
   "cell_type": "code",
   "execution_count": 1,
   "metadata": {},
   "outputs": [],
   "source": [
    "import random"
   ]
  },
  {
   "cell_type": "code",
   "execution_count": 23,
   "metadata": {},
   "outputs": [
    {
     "name": "stdout",
     "output_type": "stream",
     "text": [
      "0.37848606200025825\n"
     ]
    }
   ],
   "source": [
    "#random() generates floating value between 0 and 1. where 0 is exclusive and 1 is inclusive.\n",
    "value=random.random()\n",
    "print(value)"
   ]
  },
  {
   "cell_type": "code",
   "execution_count": 30,
   "metadata": {},
   "outputs": [
    {
     "name": "stdout",
     "output_type": "stream",
     "text": [
      "5.8478973873823294\n"
     ]
    }
   ],
   "source": [
    "#uniform() generates floating value between provided range. where 0 is exclusive and 10 is inclusive.\n",
    "value=random.uniform(1,10)\n",
    "print(value)"
   ]
  },
  {
   "cell_type": "code",
   "execution_count": 39,
   "metadata": {},
   "outputs": [
    {
     "name": "stdout",
     "output_type": "stream",
     "text": [
      "4\n"
     ]
    }
   ],
   "source": [
    "#randint() generates integer value between provided. range where both are inclusive.\n",
    "value=random.randint(1,6)\n",
    "print(value)"
   ]
  },
  {
   "cell_type": "code",
   "execution_count": 53,
   "metadata": {},
   "outputs": [
    {
     "name": "stdout",
     "output_type": "stream",
     "text": [
      "Hello, Kushagra!\n"
     ]
    }
   ],
   "source": [
    "#choice() generates value from the given list\n",
    "greetings= ['Hello', 'Hi', 'Hey', 'Hola', 'Howdy']\n",
    "value=random.choice(greetings)\n",
    "print(value + ', Kushagra!')"
   ]
  },
  {
   "cell_type": "code",
   "execution_count": 54,
   "metadata": {},
   "outputs": [
    {
     "name": "stdout",
     "output_type": "stream",
     "text": [
      "['Green', 'Green', 'Black', 'Black', 'Red', 'Green', 'Green', 'Red', 'Black', 'Black']\n"
     ]
    }
   ],
   "source": [
    "#choices() generates multiple values from the list\n",
    "#k represent the number of times you want the result to generated. here it generates the list of results.\n",
    "colors=['Red', 'Black', 'Green']\n",
    "results= random.choices(colors, k=10)\n",
    "print(results)"
   ]
  },
  {
   "cell_type": "code",
   "execution_count": 62,
   "metadata": {},
   "outputs": [
    {
     "name": "stdout",
     "output_type": "stream",
     "text": [
      "['Black', 'Black', 'Black', 'Black', 'Red', 'Red', 'Black', 'Red', 'Black', 'Black']\n"
     ]
    }
   ],
   "source": [
    "#using weight we can assign the weightage to each element. here it means 18Red balls, 18 Black balls, 4 Green balls.Total=40balls\n",
    "colors=['Red', 'Black', 'Green']\n",
    "results= random.choices(colors,weights=[18,18,4], k=10)\n",
    "print(results)"
   ]
  },
  {
   "cell_type": "code",
   "execution_count": 64,
   "metadata": {},
   "outputs": [
    {
     "name": "stdout",
     "output_type": "stream",
     "text": [
      "[1, 2, 3, 4, 5, 6, 7, 8, 9, 10, 11, 12, 13, 14, 15, 16, 17, 18, 19, 20, 21, 22, 23, 24, 25, 26, 27, 28, 29, 30, 31, 32, 33, 34, 35, 36, 37, 38, 39, 40, 41, 42, 43, 44, 45, 46, 47, 48, 49, 50, 51, 52]\n"
     ]
    }
   ],
   "source": [
    "#53 is not inclusive\n",
    "deck =list(range(1,53))\n",
    "print(deck)"
   ]
  },
  {
   "cell_type": "code",
   "execution_count": 65,
   "metadata": {},
   "outputs": [
    {
     "name": "stdout",
     "output_type": "stream",
     "text": [
      "[12, 44, 2, 24, 43, 7, 25, 22, 32, 38, 36, 1, 52, 35, 37, 14, 47, 42, 29, 51, 18, 40, 4, 21, 5, 8, 49, 20, 15, 27, 11, 34, 31, 45, 26, 39, 3, 19, 9, 6, 50, 28, 30, 23, 46, 13, 10, 48, 16, 41, 17, 33]\n"
     ]
    }
   ],
   "source": [
    "#shuffle will shuffle the deck\n",
    "random.shuffle(deck)\n",
    "print(deck)"
   ]
  },
  {
   "cell_type": "code",
   "execution_count": 70,
   "metadata": {},
   "outputs": [
    {
     "name": "stdout",
     "output_type": "stream",
     "text": [
      "[3, 52, 28, 37, 40]\n"
     ]
    }
   ],
   "source": [
    "#sample() will generate not repeated values\n",
    "hand=random.sample(deck, k=5)\n",
    "print(hand)"
   ]
  }
 ],
 "metadata": {
  "kernelspec": {
   "display_name": "Python 3",
   "language": "python",
   "name": "python3"
  },
  "language_info": {
   "codemirror_mode": {
    "name": "ipython",
    "version": 3
   },
   "file_extension": ".py",
   "mimetype": "text/x-python",
   "name": "python",
   "nbconvert_exporter": "python",
   "pygments_lexer": "ipython3",
   "version": "3.7.3"
  }
 },
 "nbformat": 4,
 "nbformat_minor": 2
}
