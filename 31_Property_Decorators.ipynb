{
 "cells": [
  {
   "cell_type": "code",
   "execution_count": 1,
   "metadata": {},
   "outputs": [],
   "source": [
    "#Python Object-Oriented Programming\n",
    "#Property Decorators - Getters, Setters and Deleters"
   ]
  },
  {
   "cell_type": "code",
   "execution_count": 7,
   "metadata": {},
   "outputs": [
    {
     "name": "stdout",
     "output_type": "stream",
     "text": [
      "Kushagra\n",
      "Gupta\n",
      "Kushagra.Gupta@company.com\n",
      "Kushagra Gupta\n"
     ]
    }
   ],
   "source": [
    "class Employee:\n",
    "    raise_amount=1.04\n",
    "    \n",
    "    def __init__(self, first, last):\n",
    "        self.first = first\n",
    "        self.last = last\n",
    "        self.email = first + '.' + last + '@company.com'\n",
    "        \n",
    "    def fullname(self):\n",
    "        return '{} {}'.format(self.first, self.last)\n",
    "    \n",
    "emp_1 = Employee('Kushagra','Gupta')\n",
    "\n",
    "print(emp_1.first)\n",
    "print(emp_1.last)\n",
    "#email is combination of first name and last name\n",
    "print(emp_1.email)\n",
    "print(emp_1.fullname())"
   ]
  },
  {
   "cell_type": "code",
   "execution_count": 9,
   "metadata": {},
   "outputs": [
    {
     "name": "stdout",
     "output_type": "stream",
     "text": [
      "Jim\n",
      "Kushagra.Gupta@company.com\n",
      "Jim Gupta\n"
     ]
    }
   ],
   "source": [
    "#so if now i will change the first name\n",
    "\n",
    "emp_1.first = \"Jim\" \n",
    "\n",
    "#first name got changed\n",
    "print(emp_1.first)\n",
    "#But email which was dependent on first and last name is same as previous name.\n",
    "print(emp_1.email)\n",
    "#But fullname doesn't have this problem. becoz everytime fullname is called it goes back to class and rerun the fullname method\n",
    "print(emp_1.fullname())\n",
    "\n",
    "#To workaround this email issue you will be thinking just to make another method that will print email like fullname. But problem with that it will break the code for everyone who is using class they have to change the code from email attribute to email method."
   ]
  },
  {
   "cell_type": "code",
   "execution_count": 10,
   "metadata": {},
   "outputs": [
    {
     "name": "stdout",
     "output_type": "stream",
     "text": [
      "Kushagra.Gupta@company.com\n",
      "Jim.Gupta@company.com\n"
     ]
    }
   ],
   "source": [
    "#the above problem can be solved using getter and setter but in python it can be solved using property decorator.\n",
    "#The main purpose of any decorator is to change your class methods or attributes in such a way so that the user of your class no need to make any change in their code.\n",
    "\n",
    "class Employee:\n",
    "    raise_amount=1.04\n",
    "    \n",
    "    def __init__(self, first, last):\n",
    "        self.first = first\n",
    "        self.last = last\n",
    "        \n",
    "    def fullname(self):\n",
    "        return '{} {}'.format(self.first, self.last)\n",
    "    \n",
    "    def email(self):\n",
    "        return \"{}.{}@company.com\".format(self.first,self.last)\n",
    "    \n",
    "emp_1 = Employee('Kushagra','Gupta')\n",
    "print(emp_1.email())\n",
    "emp_1.first = \"Jim\" \n",
    "print(emp_1.email())\n",
    "#this will work but we don't want to change code for every email attribute to email method"
   ]
  },
  {
   "cell_type": "code",
   "execution_count": 15,
   "metadata": {},
   "outputs": [
    {
     "name": "stdout",
     "output_type": "stream",
     "text": [
      "Kushagra.Gupta@company.com\n",
      "Jim.Gupta@company.com\n"
     ]
    }
   ],
   "source": [
    "#so to keep accessing email method as attribute, we need to add property decorator above email method.\n",
    "#Getters\n",
    "\n",
    "class Employee:\n",
    "    raise_amount=1.04\n",
    "    \n",
    "    def __init__(self, first, last):\n",
    "        self.first = first\n",
    "        self.last = last\n",
    "    @property  \n",
    "    def fullname(self):\n",
    "        return '{} {}'.format(self.first, self.last)\n",
    "    \n",
    "    @property\n",
    "    def email(self):\n",
    "        return \"{}.{}@company.com\".format(self.first,self.last)\n",
    "    \n",
    "emp_1 = Employee('Kushagra','Gupta')\n",
    "print(emp_1.email)\n",
    "emp_1.first = \"Jim\" \n",
    "print(emp_1.email)\n",
    "\n",
    "#we are defining email as a method but accessing it as an attribute."
   ]
  },
  {
   "cell_type": "code",
   "execution_count": 16,
   "metadata": {},
   "outputs": [
    {
     "ename": "AttributeError",
     "evalue": "can't set attribute",
     "output_type": "error",
     "traceback": [
      "\u001b[0;31m---------------------------------------------------------------------------\u001b[0m",
      "\u001b[0;31mAttributeError\u001b[0m                            Traceback (most recent call last)",
      "\u001b[0;32m<ipython-input-16-28c3b889ba0e>\u001b[0m in \u001b[0;36m<module>\u001b[0;34m\u001b[0m\n\u001b[1;32m      1\u001b[0m \u001b[0;31m#so now if i want to change an attribute like\u001b[0m\u001b[0;34m\u001b[0m\u001b[0;34m\u001b[0m\u001b[0;34m\u001b[0m\u001b[0m\n\u001b[1;32m      2\u001b[0m \u001b[0;34m\u001b[0m\u001b[0m\n\u001b[0;32m----> 3\u001b[0;31m \u001b[0memp_1\u001b[0m\u001b[0;34m.\u001b[0m\u001b[0mfullname\u001b[0m \u001b[0;34m=\u001b[0m\u001b[0;34m\"Jim harper\"\u001b[0m\u001b[0;34m\u001b[0m\u001b[0;34m\u001b[0m\u001b[0m\n\u001b[0m\u001b[1;32m      4\u001b[0m \u001b[0mprint\u001b[0m\u001b[0;34m(\u001b[0m\u001b[0memp_1\u001b[0m\u001b[0;34m.\u001b[0m\u001b[0mfullname\u001b[0m\u001b[0;34m)\u001b[0m\u001b[0;34m\u001b[0m\u001b[0;34m\u001b[0m\u001b[0m\n\u001b[1;32m      5\u001b[0m \u001b[0mprint\u001b[0m\u001b[0;34m(\u001b[0m\u001b[0memp_1\u001b[0m\u001b[0;34m.\u001b[0m\u001b[0memail\u001b[0m\u001b[0;34m)\u001b[0m\u001b[0;34m\u001b[0m\u001b[0;34m\u001b[0m\u001b[0m\n",
      "\u001b[0;31mAttributeError\u001b[0m: can't set attribute"
     ]
    }
   ],
   "source": [
    "#so now if i want to change an attribute like\n",
    "\n",
    "emp_1.fullname =\"Jim harper\"\n",
    "print(emp_1.fullname)\n",
    "print(emp_1.email)\n",
    "\n",
    "#it will throw error \"can't set attribute\""
   ]
  },
  {
   "cell_type": "code",
   "execution_count": 17,
   "metadata": {},
   "outputs": [
    {
     "name": "stdout",
     "output_type": "stream",
     "text": [
      "Kushagra Gupta\n",
      "Kushagra.Gupta@company.com\n",
      "Jim harper\n",
      "Jim.harper@company.com\n"
     ]
    }
   ],
   "source": [
    "#so to change value of attribute we will be needing setter.\n",
    "#Setters\n",
    "class Employee:\n",
    "    raise_amount=1.04\n",
    "    \n",
    "    def __init__(self, first, last):\n",
    "        self.first = first\n",
    "        self.last = last\n",
    "    @property  \n",
    "    def fullname(self):\n",
    "        return '{} {}'.format(self.first, self.last)\n",
    "    \n",
    "    @property\n",
    "    def email(self):\n",
    "        return \"{}.{}@company.com\".format(self.first,self.last)\n",
    "    \n",
    "    @fullname.setter  #we need to name the decorator with the method which we want to change+ '.setter'\n",
    "    def fullname(self,name): #another method with same name\n",
    "        first, last = name.split(' ')\n",
    "        self.first = first\n",
    "        self.last = last\n",
    "\n",
    "emp_1 = Employee('Kushagra','Gupta')\n",
    "\n",
    "print(emp_1.fullname)\n",
    "print(emp_1.email)\n",
    "emp_1.fullname =\"Jim harper\"\n",
    "print(emp_1.fullname)\n",
    "print(emp_1.email)\n",
    "#so what happen here is when we set fullname equal to name given, it came to our setter their and parse the names we want to set from out string and since we set first name and last name even we have printed out our email, it came above and printed the correct email. "
   ]
  },
  {
   "cell_type": "code",
   "execution_count": 21,
   "metadata": {},
   "outputs": [
    {
     "name": "stdout",
     "output_type": "stream",
     "text": [
      "Kushagra\n",
      "Kushagra Gupta\n",
      "Kushagra.Gupta@company.com\n",
      "Name Deleted!\n",
      "None None\n"
     ]
    }
   ],
   "source": [
    "#Deleters\n",
    "\n",
    "class Employee:\n",
    "    raise_amount=1.04\n",
    "    \n",
    "    def __init__(self, first, last):\n",
    "        self.first = first\n",
    "        self.last = last\n",
    "    @property  \n",
    "    def fullname(self):\n",
    "        return '{} {}'.format(self.first, self.last)\n",
    "    \n",
    "    @property\n",
    "    def email(self):\n",
    "        return \"{}.{}@company.com\".format(self.first,self.last)\n",
    "    \n",
    "    @fullname.setter  \n",
    "    def fullname(self,name):\n",
    "        first, last = name.split(' ')\n",
    "        self.first = first\n",
    "        self.last = last\n",
    "        \n",
    "    @fullname.deleter  \n",
    "    def fullname(self):\n",
    "        print(\"Name Deleted!\")\n",
    "        self.first = None\n",
    "        self.last = None\n",
    "\n",
    "emp_1 = Employee('Kushagra','Gupta')\n",
    "\n",
    "print(emp_1.first)\n",
    "print(emp_1.fullname)\n",
    "print(emp_1.email)\n",
    "#this will delete our fullname \n",
    "del emp_1.fullname\n",
    "print(emp_1.fullname)"
   ]
  }
 ],
 "metadata": {
  "kernelspec": {
   "display_name": "Python 3",
   "language": "python",
   "name": "python3"
  },
  "language_info": {
   "codemirror_mode": {
    "name": "ipython",
    "version": 3
   },
   "file_extension": ".py",
   "mimetype": "text/x-python",
   "name": "python",
   "nbconvert_exporter": "python",
   "pygments_lexer": "ipython3",
   "version": "3.7.3"
  }
 },
 "nbformat": 4,
 "nbformat_minor": 2
}
