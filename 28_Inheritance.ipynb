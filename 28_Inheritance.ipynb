{
 "cells": [
  {
   "cell_type": "code",
   "execution_count": 1,
   "metadata": {},
   "outputs": [],
   "source": [
    "#Python Object-Oriented Programming\n",
    "#Inheritance - Creating Subclasses\n",
    "#Inheritance allows to inherit attributes and methods from parent class and now this is useful\n",
    "#because we create subclasses with all the functionality of parent class and we can overwrite\n",
    "#or add new functionality without affecting parent class in any way."
   ]
  },
  {
   "cell_type": "code",
   "execution_count": 4,
   "metadata": {},
   "outputs": [],
   "source": [
    "class Employee:\n",
    "    raise_amount=1.04\n",
    "    \n",
    "    def __init__(self, first, last, pay):\n",
    "        self.first = first\n",
    "        self.last = last\n",
    "        self.pay = pay\n",
    "        self.email = first + '.' + last + '@company.com'\n",
    "        \n",
    "    def fullname(self):\n",
    "        return '{} {}'.format(self.first, self.last)\n",
    "    \n",
    "    def apply_raise(self):\n",
    "        self.pay=int(self.pay * self.raise_amount)  \n",
    "\n"
   ]
  },
  {
   "cell_type": "code",
   "execution_count": 8,
   "metadata": {},
   "outputs": [
    {
     "name": "stdout",
     "output_type": "stream",
     "text": [
      "Kushagra.Gupta@company.com\n",
      "Sam.White@company.com\n",
      "Help on class Developer in module __main__:\n",
      "\n",
      "class Developer(Employee)\n",
      " |  Developer(first, last, pay)\n",
      " |  \n",
      " |  Method resolution order:\n",
      " |      Developer\n",
      " |      Employee\n",
      " |      builtins.object\n",
      " |  \n",
      " |  Methods inherited from Employee:\n",
      " |  \n",
      " |  __init__(self, first, last, pay)\n",
      " |      Initialize self.  See help(type(self)) for accurate signature.\n",
      " |  \n",
      " |  apply_raise(self)\n",
      " |  \n",
      " |  fullname(self)\n",
      " |  \n",
      " |  ----------------------------------------------------------------------\n",
      " |  Data descriptors inherited from Employee:\n",
      " |  \n",
      " |  __dict__\n",
      " |      dictionary for instance variables (if defined)\n",
      " |  \n",
      " |  __weakref__\n",
      " |      list of weak references to the object (if defined)\n",
      " |  \n",
      " |  ----------------------------------------------------------------------\n",
      " |  Data and other attributes inherited from Employee:\n",
      " |  \n",
      " |  raise_amount = 1.04\n",
      "\n",
      "None\n"
     ]
    }
   ],
   "source": [
    "#Creating Developer class by inheriting from Employee class\n",
    "class Developer(Employee):\n",
    "    pass\n",
    "\n",
    "#we don't have anything in our developer class but still we have inherit from employee class \n",
    "dev_1 = Developer('Kushagra','Gupta',50000)\n",
    "dev_2 = Developer('Sam','White',30000)\n",
    "\n",
    "print(dev_1.email)\n",
    "print(dev_2.email)\n",
    "\n",
    "print(help(Developer))\n",
    "#python first checks in Developer class then Employee class and then builtins.object\n",
    "#this is method resolution order\n"
   ]
  },
  {
   "cell_type": "code",
   "execution_count": 9,
   "metadata": {},
   "outputs": [
    {
     "name": "stdout",
     "output_type": "stream",
     "text": [
      "50000\n",
      "52000\n"
     ]
    }
   ],
   "source": [
    "print(dev_1.pay)\n",
    "dev_1.apply_raise()\n",
    "print(dev_1.pay)"
   ]
  },
  {
   "cell_type": "code",
   "execution_count": 14,
   "metadata": {},
   "outputs": [
    {
     "name": "stdout",
     "output_type": "stream",
     "text": [
      "50000\n",
      "55000\n"
     ]
    }
   ],
   "source": [
    "#changing value in subclass\n",
    "class Employee:\n",
    "    raise_amount=1.04\n",
    "    \n",
    "    def __init__(self, first, last, pay):\n",
    "        self.first = first\n",
    "        self.last = last\n",
    "        self.pay = pay\n",
    "        self.email = first + '.' + last + '@company.com'\n",
    "        \n",
    "    def fullname(self):\n",
    "        return '{} {}'.format(self.first, self.last)\n",
    "    \n",
    "    def apply_raise(self):\n",
    "        self.pay=int(self.pay * self.raise_amount)  \n",
    "\n",
    "class Developer(Employee):\n",
    "    raise_amount= 1.10  #changing raise value for developers\n",
    "\n",
    "dev_1 = Developer('Kushagra','Gupta',50000)\n",
    "dev_2 = Developer('Sam','White',30000)\n",
    "\n",
    "print(dev_1.pay)\n",
    "dev_1.apply_raise()\n",
    "print(dev_1.pay)"
   ]
  },
  {
   "cell_type": "code",
   "execution_count": 17,
   "metadata": {},
   "outputs": [
    {
     "name": "stdout",
     "output_type": "stream",
     "text": [
      "Kushagra.Gupta@company.com\n",
      "python\n",
      "java\n"
     ]
    }
   ],
   "source": [
    "#sometimes we want to give subclasses more information then parent classes\n",
    "#suppose we also want to pass programming language with first name,last name, pay\n",
    "#for that we have to give Developer class it's own init method.\n",
    "\n",
    "class Developer(Employee):\n",
    "    raise_amount= 1.10\n",
    "    \n",
    "    def __init__(self, first, last, pay, prog_language):\n",
    "        super().__init__(first,last,pay) \n",
    "        #super.__init__ will allow Employee class to pass first, last, pay\n",
    "        #or you can use Employee.__init__(self, first, last, pay)\n",
    "        self.prog_lang = prog_language\n",
    "    \n",
    "dev_1 = Developer('Kushagra','Gupta',50000,'python')\n",
    "dev_2 = Developer('Sam','White',30000,'java')\n",
    "\n",
    "print(dev_1.email)\n",
    "print(dev_1.prog_lang)\n",
    "print(dev_2.prog_lang)"
   ]
  },
  {
   "cell_type": "code",
   "execution_count": 23,
   "metadata": {},
   "outputs": [
    {
     "name": "stdout",
     "output_type": "stream",
     "text": [
      "Sue.Smith@company.com\n",
      "--> Kushagra Gupta\n",
      "\n",
      "--> Kushagra Gupta\n",
      "--> Sam White\n"
     ]
    }
   ],
   "source": [
    "#A Manager class inheriting from Employee class\n",
    "class Manager(Employee):\n",
    "    def __init__(self, first, last, pay, employees=None):\n",
    "        super().__init__(first,last,pay) \n",
    "        if employees is None:\n",
    "            self.employees = []\n",
    "        else:\n",
    "            self.employees = employees\n",
    "    #method to add employee\n",
    "    def add_emp(self,emp):\n",
    "        if emp not in self.employees:\n",
    "            self.employees.append(emp)\n",
    "    #method to remove employee\n",
    "    def rem_emp(self,emp):\n",
    "        if emp in self.employees:\n",
    "            self.employees.remove(emp)\n",
    "    #method to print employee      \n",
    "    def print_emp(self):\n",
    "        for emp in self.employees:\n",
    "            print('-->',emp.fullname())\n",
    "            \n",
    "mgr_1 = Manager('Sue','Smith',90000,[dev_1])\n",
    "\n",
    "print(mgr_1.email)\n",
    "mgr_1.print_emp()\n",
    "\n",
    "print()\n",
    "mgr_1.add_emp(dev_2)\n",
    "mgr_1.print_emp()"
   ]
  },
  {
   "cell_type": "code",
   "execution_count": 27,
   "metadata": {},
   "outputs": [
    {
     "name": "stdout",
     "output_type": "stream",
     "text": [
      "True\n",
      "True\n",
      "False\n"
     ]
    }
   ],
   "source": [
    "#isinstance will tell if an object is an instance of class.\n",
    "#clearly mgr_1 is an instance of Manager and Employee class but not of Developer Class.\n",
    "print(isinstance(mgr_1, Manager)) \n",
    "print(isinstance(mgr_1, Employee))\n",
    "print(isinstance(mgr_1, Developer))"
   ]
  },
  {
   "cell_type": "code",
   "execution_count": 29,
   "metadata": {},
   "outputs": [
    {
     "name": "stdout",
     "output_type": "stream",
     "text": [
      "True\n",
      "True\n",
      "False\n",
      "True\n"
     ]
    }
   ],
   "source": [
    "#issubclass will tell if a class is a subclass of another\n",
    "print(issubclass(Developer,Employee))\n",
    "print(issubclass(Manager,Employee))\n",
    "print(issubclass(Developer,Manager))\n",
    "print(issubclass(Developer,Developer))"
   ]
  }
 ],
 "metadata": {
  "kernelspec": {
   "display_name": "Python 3",
   "language": "python",
   "name": "python3"
  },
  "language_info": {
   "codemirror_mode": {
    "name": "ipython",
    "version": 3
   },
   "file_extension": ".py",
   "mimetype": "text/x-python",
   "name": "python",
   "nbconvert_exporter": "python",
   "pygments_lexer": "ipython3",
   "version": "3.7.3"
  }
 },
 "nbformat": 4,
 "nbformat_minor": 2
}
