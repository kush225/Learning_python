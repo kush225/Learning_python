{
 "cells": [
  {
   "cell_type": "code",
   "execution_count": 1,
   "metadata": {},
   "outputs": [],
   "source": [
    "#There are four collection data types in the Python programming language:\n",
    "\n",
    "#LIST\n",
    "#It is a collection which is ordered and mutable(changeable) which Allows duplicate members.\n",
    "\n",
    "#TUPLES\n",
    "#It is a collection which is ordered and unmutable(unchangeable) which Allows duplicate members.\n",
    "\n",
    "#SETS\n",
    "#It is a collection which is unordered and unindexed which doesn't Allow duplicate members.\n",
    "\n",
    "#DICTIONARY\n",
    "#It is a collection which is unordered, changeable and indexed which doesn't Allow duplicate mem"
   ]
  },
  {
   "cell_type": "code",
   "execution_count": 2,
   "metadata": {},
   "outputs": [],
   "source": [
    "#courses is list containing elements history, physics, maths and english\n",
    "courses =['History' , 'Physics' , 'Maths', 'English']\n",
    "courses2 = ['Art', 'Education']"
   ]
  },
  {
   "cell_type": "code",
   "execution_count": 3,
   "metadata": {},
   "outputs": [
    {
     "name": "stdout",
     "output_type": "stream",
     "text": [
      "['History', 'Physics', 'Maths', 'English']\n"
     ]
    }
   ],
   "source": [
    "#this will print the whole list\n",
    "print(courses)"
   ]
  },
  {
   "cell_type": "code",
   "execution_count": 4,
   "metadata": {},
   "outputs": [
    {
     "name": "stdout",
     "output_type": "stream",
     "text": [
      "Maths\n"
     ]
    }
   ],
   "source": [
    "#you can access any element of list using index number which begins from 0.\n",
    "#to print maths which is at index 2, simply write list[index_no]\n",
    "print(courses[2])"
   ]
  },
  {
   "cell_type": "code",
   "execution_count": 5,
   "metadata": {},
   "outputs": [],
   "source": [
    "#insert method is used add element at given index\n",
    "#in this courses2 list is added to courses list at index 0.\n",
    "courses.insert(0, courses2)"
   ]
  },
  {
   "cell_type": "code",
   "execution_count": 7,
   "metadata": {},
   "outputs": [
    {
     "name": "stdout",
     "output_type": "stream",
     "text": [
      "[['Art', 'Education'], 'History', 'Physics', 'Maths', 'English']\n"
     ]
    }
   ],
   "source": [
    "#list gets appended inside list. to avoid this we can use extend method.\n",
    "print(courses)"
   ]
  },
  {
   "cell_type": "code",
   "execution_count": 8,
   "metadata": {},
   "outputs": [],
   "source": [
    "#extend is used so list wont get appended inside list\n",
    "courses =['History' , 'Physics' , 'Maths', 'English']\n",
    "courses.extend(courses2)"
   ]
  },
  {
   "cell_type": "code",
   "execution_count": 9,
   "metadata": {},
   "outputs": [
    {
     "name": "stdout",
     "output_type": "stream",
     "text": [
      "['History', 'Physics', 'Maths', 'English', 'Art', 'Education']\n"
     ]
    }
   ],
   "source": [
    "#new list\n",
    "print(courses)"
   ]
  },
  {
   "cell_type": "code",
   "execution_count": 10,
   "metadata": {},
   "outputs": [
    {
     "name": "stdout",
     "output_type": "stream",
     "text": [
      "Education\n"
     ]
    }
   ],
   "source": [
    "#pop() removes last item and we can store it in a variable\n",
    "popped= courses.pop()\n",
    "print(popped)"
   ]
  },
  {
   "cell_type": "code",
   "execution_count": 11,
   "metadata": {},
   "outputs": [
    {
     "name": "stdout",
     "output_type": "stream",
     "text": [
      "['Art', 'English', 'Maths', 'Physics', 'History']\n"
     ]
    }
   ],
   "source": [
    "#reverse the order using reverse method\n",
    "courses.reverse()\n",
    "print(courses)"
   ]
  },
  {
   "cell_type": "code",
   "execution_count": 12,
   "metadata": {},
   "outputs": [
    {
     "name": "stdout",
     "output_type": "stream",
     "text": [
      "['Physics', 'Maths', 'History', 'English', 'Art']\n"
     ]
    }
   ],
   "source": [
    "#sort the list in desc order when reverse is true\n",
    "courses.sort(reverse=True)\n",
    "print(courses)"
   ]
  },
  {
   "cell_type": "code",
   "execution_count": 14,
   "metadata": {},
   "outputs": [
    {
     "name": "stdout",
     "output_type": "stream",
     "text": [
      "['Art', 'English', 'History', 'Maths', 'Physics']\n",
      "['Physics', 'Maths', 'History', 'English', 'Art']\n"
     ]
    }
   ],
   "source": [
    "#sorted version of list is not reflected in original list\n",
    "print(sorted(courses))\n",
    "#order remains same as it was before using sorted method\n",
    "print(courses)"
   ]
  },
  {
   "cell_type": "code",
   "execution_count": 15,
   "metadata": {},
   "outputs": [
    {
     "name": "stdout",
     "output_type": "stream",
     "text": [
      "1\n"
     ]
    }
   ],
   "source": [
    "#finding index\n",
    "print(courses.index('Maths'))"
   ]
  },
  {
   "cell_type": "code",
   "execution_count": 16,
   "metadata": {},
   "outputs": [
    {
     "name": "stdout",
     "output_type": "stream",
     "text": [
      "True\n"
     ]
    }
   ],
   "source": [
    "#finding element in list, True if there and False is not\n",
    "print('English' in courses)"
   ]
  },
  {
   "cell_type": "code",
   "execution_count": 17,
   "metadata": {},
   "outputs": [
    {
     "name": "stdout",
     "output_type": "stream",
     "text": [
      "Physics\n",
      "Maths\n",
      "History\n",
      "English\n",
      "Art\n"
     ]
    }
   ],
   "source": [
    "#Printing each element of list\n",
    "for course in courses:\n",
    "    print(course)"
   ]
  },
  {
   "cell_type": "code",
   "execution_count": 18,
   "metadata": {},
   "outputs": [
    {
     "name": "stdout",
     "output_type": "stream",
     "text": [
      "1 Physics\n",
      "2 Maths\n",
      "3 History\n",
      "4 English\n",
      "5 Art\n"
     ]
    }
   ],
   "source": [
    "#Printing each element with index\n",
    "for index, course in enumerate(courses, start=1): \n",
    "#as start=1, index will be start from 1, default is 0\n",
    "    print(index,course)"
   ]
  },
  {
   "cell_type": "code",
   "execution_count": 19,
   "metadata": {},
   "outputs": [
    {
     "name": "stdout",
     "output_type": "stream",
     "text": [
      "Physics, Maths, History, English, Art\n"
     ]
    }
   ],
   "source": [
    "#Making String from list\n",
    "course_str = ', '.join(courses)\n",
    "print(course_str)"
   ]
  },
  {
   "cell_type": "code",
   "execution_count": 20,
   "metadata": {},
   "outputs": [
    {
     "name": "stdout",
     "output_type": "stream",
     "text": [
      "['Physics', 'Maths', 'History', 'English', 'Art']\n"
     ]
    }
   ],
   "source": [
    "#Making List from String\n",
    "new_list= course_str.split(', ')\n",
    "print(new_list)"
   ]
  },
  {
   "cell_type": "code",
   "execution_count": 21,
   "metadata": {},
   "outputs": [],
   "source": [
    "#Set\n",
    "cs_courses={'Maths', 'Physics', 'English', 'Sports','Chemistry' }\n",
    "art_courses={'Maths', 'Art', 'English', 'Sports','Hindi' }"
   ]
  },
  {
   "cell_type": "code",
   "execution_count": 22,
   "metadata": {},
   "outputs": [
    {
     "name": "stdout",
     "output_type": "stream",
     "text": [
      "{'Sports', 'Maths', 'English'}\n"
     ]
    }
   ],
   "source": [
    "#Common in both the sets\n",
    "print(cs_courses.intersection(art_courses))"
   ]
  },
  {
   "cell_type": "code",
   "execution_count": 23,
   "metadata": {},
   "outputs": [
    {
     "name": "stdout",
     "output_type": "stream",
     "text": [
      "{'Chemistry', 'Physics'}\n"
     ]
    }
   ],
   "source": [
    "#Element in set1 but not in set2\n",
    "print(cs_courses.difference(art_courses))"
   ]
  },
  {
   "cell_type": "code",
   "execution_count": 24,
   "metadata": {},
   "outputs": [
    {
     "name": "stdout",
     "output_type": "stream",
     "text": [
      "{'Art', 'Chemistry', 'Hindi', 'English', 'Physics', 'Sports', 'Maths'}\n"
     ]
    }
   ],
   "source": [
    "#All Elements combined from both the set\n",
    "print(cs_courses.union(art_courses))"
   ]
  },
  {
   "cell_type": "code",
   "execution_count": 25,
   "metadata": {},
   "outputs": [],
   "source": [
    "#Creating empty list, tuple, set, dictionary\n",
    "#Empty list\n",
    "empty_list = []\n",
    "empty_list = list()\n",
    "\n",
    "#Empty Tuple\n",
    "empty_tuple = ()\n",
    "empty_tuple = tuple()\n",
    "\n",
    "#Empty Set\n",
    "empty_set = {} #this is wrong, this will create empty dictionary\n",
    "empty_set = set()"
   ]
  }
 ],
 "metadata": {
  "kernelspec": {
   "display_name": "Python 3",
   "language": "python",
   "name": "python3"
  },
  "language_info": {
   "codemirror_mode": {
    "name": "ipython",
    "version": 3
   },
   "file_extension": ".py",
   "mimetype": "text/x-python",
   "name": "python",
   "nbconvert_exporter": "python",
   "pygments_lexer": "ipython3",
   "version": "3.7.3"
  }
 },
 "nbformat": 4,
 "nbformat_minor": 2
}
