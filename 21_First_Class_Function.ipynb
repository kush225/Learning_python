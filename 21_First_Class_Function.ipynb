{
 "cells": [
  {
   "cell_type": "code",
   "execution_count": 1,
   "metadata": {},
   "outputs": [],
   "source": [
    "#First class functions: \n",
    "#If a function can be assigned to a variable or passed as object/variable to other function, that function is called as first class function\n",
    "#All functions in Python are first-class functions. \n",
    "#To say that functions are first-class in a certain programming language means that they can be passed around and manipulated similarly to\n",
    "#how you would pass around and manipulate other kinds of objects (like integers or strings).\n",
    "#You can assign a function to a variable, pass it as an argument to another function, etc. "
   ]
  },
  {
   "cell_type": "code",
   "execution_count": 2,
   "metadata": {},
   "outputs": [],
   "source": [
    "#Function Returning square of number\n",
    "def square(x):\n",
    "    return x * x"
   ]
  },
  {
   "cell_type": "code",
   "execution_count": 7,
   "metadata": {},
   "outputs": [
    {
     "name": "stdout",
     "output_type": "stream",
     "text": [
      "<function square at 0x7fe91c30b048>\n",
      "25\n"
     ]
    }
   ],
   "source": [
    "f=square(5)\n",
    "print(square)\n",
    "print(f)"
   ]
  },
  {
   "cell_type": "code",
   "execution_count": 8,
   "metadata": {
    "scrolled": true
   },
   "outputs": [
    {
     "name": "stdout",
     "output_type": "stream",
     "text": [
      "<function square at 0x7fe91c30b048>\n",
      "<function square at 0x7fe91c30b048>\n"
     ]
    }
   ],
   "source": [
    "#we don't wanna execute the function, we just wanna set variable f equal to function. i.e we havent use parenthesis after square while assigning value to f.\n",
    "f=square\n",
    "print(square)\n",
    "print(f) #we can treat variable f as a function. "
   ]
  },
  {
   "cell_type": "code",
   "execution_count": 10,
   "metadata": {},
   "outputs": [
    {
     "name": "stdout",
     "output_type": "stream",
     "text": [
      "25\n"
     ]
    }
   ],
   "source": [
    "#now i can use variable as function and pass value to it.\n",
    "print(f(5))"
   ]
  },
  {
   "cell_type": "code",
   "execution_count": 11,
   "metadata": {},
   "outputs": [
    {
     "name": "stdout",
     "output_type": "stream",
     "text": [
      "[1, 4, 9, 16, 25]\n"
     ]
    }
   ],
   "source": [
    "def square(x):\n",
    "    return x * x\n",
    "\n",
    "#function taking another function and args_list as arguments.\n",
    "def my_map(func,args_list):\n",
    "    result=[]\n",
    "    for i in args_list:\n",
    "        result.append(func(i)) #square function is used to calculate square of number\n",
    "    return result\n",
    "\n",
    "squares= my_map(square,[1,2,3,4,5]) #function square is passed as an argument.\n",
    "\n",
    "print(squares)"
   ]
  },
  {
   "cell_type": "code",
   "execution_count": 14,
   "metadata": {},
   "outputs": [
    {
     "name": "stdout",
     "output_type": "stream",
     "text": [
      "[1, 8, 27, 64, 125]\n"
     ]
    }
   ],
   "source": [
    "#now if u want cube instead of square.. you just need some little changes.\n",
    "def cube(x):\n",
    "    return x * x * x\n",
    "\n",
    "def my_map(func,args_list):\n",
    "    result=[]\n",
    "    for i in args_list:\n",
    "        result.append(func(i)) \n",
    "    return result\n",
    "\n",
    "cubes= my_map(cube,[1,2,3,4,5]) \n",
    "\n",
    "print(cubes)"
   ]
  },
  {
   "cell_type": "code",
   "execution_count": 16,
   "metadata": {},
   "outputs": [
    {
     "name": "stdout",
     "output_type": "stream",
     "text": [
      "Log!! Hi\n"
     ]
    }
   ],
   "source": [
    "#Returning A function from another function.\n",
    "def logger(msg):\n",
    "    \n",
    "    def log_message():\n",
    "        print('Log!!', msg)\n",
    "        \n",
    "    return log_message\n",
    "\n",
    "log_hi = logger('Hi')  #first logger function is executed and hi is passed as argument which return log_message and is stored in log_hi variable.\n",
    "log_hi()               #now log_hi variable has log_message and as it is executed with parenthesis. it's a function log_message which is called. and print the sentence while remebering variable msg."
   ]
  },
  {
   "cell_type": "code",
   "execution_count": 18,
   "metadata": {},
   "outputs": [
    {
     "name": "stdout",
     "output_type": "stream",
     "text": [
      "<function html_tag.<locals>.wrap_text at 0x7fe90efa98c8>\n"
     ]
    }
   ],
   "source": [
    "#Another example of returning a function from another function\n",
    "def html_tag(tag):\n",
    "    \n",
    "    def wrap_text(msg):\n",
    "        print('<{0}>{1}</{0}>'.format(tag,msg))\n",
    "    return wrap_text\n",
    "\n",
    "print_h1 = html_tag('h1')\n",
    "print(print_h1)          #now print_h1 contains wrap_text function with value of tag=h1"
   ]
  },
  {
   "cell_type": "code",
   "execution_count": 20,
   "metadata": {},
   "outputs": [
    {
     "name": "stdout",
     "output_type": "stream",
     "text": [
      "<h1>Test Headline</h1>\n",
      "<h1>Another Headline</h1>\n"
     ]
    }
   ],
   "source": [
    "#passing value to wrap_text function\n",
    "print_h1('Test Headline')\n",
    "print_h1('Another Headline')"
   ]
  },
  {
   "cell_type": "code",
   "execution_count": 21,
   "metadata": {},
   "outputs": [
    {
     "name": "stdout",
     "output_type": "stream",
     "text": [
      "<p>Test Paragraph</p>\n"
     ]
    }
   ],
   "source": [
    "print_p=html_tag('p')\n",
    "print_p('Test Paragraph')"
   ]
  }
 ],
 "metadata": {
  "celltoolbar": "Raw Cell Format",
  "kernelspec": {
   "display_name": "Python 3",
   "language": "python",
   "name": "python3"
  },
  "language_info": {
   "codemirror_mode": {
    "name": "ipython",
    "version": 3
   },
   "file_extension": ".py",
   "mimetype": "text/x-python",
   "name": "python",
   "nbconvert_exporter": "python",
   "pygments_lexer": "ipython3",
   "version": "3.7.3"
  }
 },
 "nbformat": 4,
 "nbformat_minor": 2
}
